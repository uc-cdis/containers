{
 "cells": [
  {
   "cell_type": "code",
   "execution_count": null,
   "metadata": {},
   "outputs": [],
   "source": [
    "import os\n",
    "import shutil\n",
    "\n",
    "if (os.path.isfile(f\"/home/{os.environ['NB_USER']}/pd/stata.lic\")\n",
    "    and not os.path.isfile(\"/usr/local/stata17/stata.lic\")):\n",
    "    shutil.copyfile(f\"/home/{os.environ['NB_USER']}/pd/stata.lic\", \"/usr/local/stata17/stata.lic\")\n",
    "\n",
    "if (os.path.isfile(\"/usr/local/stata17/stata.lic\")):\n",
    "    import stata_setup\n",
    "    stata_setup.config(\"/usr/local/stata17\", \"mp\")\n",
    "else:\n",
    "    print(\"Did not find license, please provide it at '/pd/stata.lic'\")"
   ]
  }
 ],
 "metadata": {
  "kernelspec": {
   "display_name": "Python 3",
   "language": "python",
   "name": "python3"
  },
  "language_info": {
   "codemirror_mode": {
    "name": "ipython",
    "version": 3
   },
   "file_extension": ".py",
   "mimetype": "text/x-python",
   "name": "python",
   "nbconvert_exporter": "python",
   "pygments_lexer": "ipython3",
   "version": "3.8.6"
  }
 },
 "nbformat": 4,
 "nbformat_minor": 4
}
