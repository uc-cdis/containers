{
 "cells": [
  {
   "cell_type": "markdown",
   "metadata": {},
   "source": [
    "\n"
   ]
  },
  {
   "cell_type": "markdown",
   "metadata": {},
   "source": [
    "# Data Exploration of Framingham Heart Study Teaching Dataset In R \n",
    "\n",
    "*Please note: This notebook uses open access data*  \n",
    "*Please note: BioDataCatalyst RAS Login in the BRH Profile Page needs to be authorized*\n",
    "\n",
    "\n",
    "The following notebook was created by converting the python code in [Data Exploration of Framingham Heart Study Teaching Dataset](https://brh.data-commons.org/dashboard/Public/notebooks/BDCat_Biolincc_Framingham_study_exploration.html) into R. If you wish to perform any of the data visualization or manipulation done in this notebook in python code please cite the original notebook. \n",
    "\n",
    "**Original Author:** *Qiong Liu*\n",
    "\n",
    "**Notebook Author:** *Owen Dominguez*\n",
    "\n",
    "The dataset used in the following notebook was developed using the longitudinal [Framingham heart study teaching dataset](https://biolincc.nhlbi.nih.gov/teaching/) as the data source. The teaching dataset includes three clinical examination and 20 year follow-up data based on a subset of the original Framingham cohort participants. This dataset was created for teaching and training purposes, and certain measures were used to created anonymous versions and thus the data is unsuitable for publication. Detailed documentation on the variables can be found [here](https://biolincc.nhlbi.nih.gov/media/teachingstudies/FHS_Teaching_Longitudinal_Data_Documentation_2021a.pdf?link_time=2022-04-18_09:29:24.200176).\n",
    "\n",
    "In this notebook, we will demonstrate how to pull the object file of the Framingham teaching dataset from [BioData Catalyst data commons](https://gen3.biodatacatalyst.nhlbi.nih.gov/) into a BRH workspace, and perform data exploration and visualization equivocal to the original python code using R packages.\n",
    "\n",
    "\n",
    "### Install and set the required R Libraries"
   ]
  },
  {
   "cell_type": "code",
   "execution_count": 1,
   "metadata": {},
   "outputs": [],
   "source": [
    "#Option to supress warnings (-1 = suppressed, 0 = unsuppressed)\n",
    "options(warn=-1)"
   ]
  },
  {
   "cell_type": "code",
   "execution_count": null,
   "metadata": {},
   "outputs": [],
   "source": [
    "#Installing required libraries\n",
    "install.packages(c('tidyr', 'tidyverse', 'haven', 'reshape'))"
   ]
  },
  {
   "cell_type": "code",
   "execution_count": null,
   "metadata": {},
   "outputs": [],
   "source": [
    "#Importing libraries\n",
    "library(tidyverse)\n",
    "library(tidyr)\n",
    "library(haven)\n",
    "library(reshape)"
   ]
  },
  {
   "cell_type": "markdown",
   "metadata": {},
   "source": [
    "### Pull the Framingham data file"
   ]
  },
  {
   "cell_type": "code",
   "execution_count": null,
   "metadata": {},
   "outputs": [],
   "source": [
    "#Importing sav file into a data fram using the haven package\n",
    "system(\"gen3 drs-pull object dg.4503/c97507dd-bb79-45ce-9186-3d14ad823f81\")\n",
    "\n",
    "#Checking to see if file exists and importing it into the R environment\n",
    "if (file.exists(\"frmgham2.sav\")) { \n",
    "    print(\"file successfully created\")\n",
    "    frm_data <- read_sav(\"frmgham2.sav\", user_na = TRUE)\n",
    "} else {\n",
    "    print(\"check your gen3 command\")\n",
    "}    "
   ]
  },
  {
   "cell_type": "markdown",
   "metadata": {},
   "source": [
    "\n",
    "\n"
   ]
  },
  {
   "cell_type": "markdown",
   "metadata": {},
   "source": [
    "## Basic data manipulation\n",
    "\n",
    "At the moment the Framingham data is in a state where graphing any value in relation to the patient's demographic information — sex, age, education, bmi, etc — will result in a graph where there are too many bins to sort participants into. Due to this, we will be unable to make any meaningful conclusions with the data in this form. Thus data manipulation is required.\n",
    "\n",
    "The manipulation we will do is the following: \n",
    "+ Filtering out the data to the specific visit we want to analyze \n",
    "+ Changing the patient's ID into a non numeric object for the sake of graphing\n",
    "+ Defining and mapping the demographic information we desire into bins the we can graph\n",
    "+ Reformating the data into a visualizable form"
   ]
  },
  {
   "cell_type": "code",
   "execution_count": null,
   "metadata": {},
   "outputs": [],
   "source": [
    "#Changing patient ID column type to string                                   \n",
    "col_to_char <- function(col) {\n",
    "    for (i in 1:length(col)) {\n",
    "        col[i] <- as.character(col[i])\n",
    "    }\n",
    "    return(col)\n",
    "}\n",
    "\n",
    "frm_data$RANDID <- col_to_char(frm_data$RANDID)   \n"
   ]
  },
  {
   "cell_type": "markdown",
   "metadata": {},
   "source": [
    "\n",
    "\n"
   ]
  },
  {
   "cell_type": "code",
   "execution_count": null,
   "metadata": {},
   "outputs": [],
   "source": [
    "#Mapping gender value onto male or female                  \n",
    "sex_list <- rep(0, length(frm_data$SEX))\n",
    "counter <- 1                  \n",
    "for (i in frm_data$SEX) {\n",
    "    if (i == 1) {\n",
    "        sex_list[counter] <- \"Male\"\n",
    "    } else {\n",
    "        sex_list[counter] <- \"Female\"\n",
    "    }\n",
    "    counter = counter + 1\n",
    "}\n",
    "frm_data$SEX_GROUP <- sex_list\n"
   ]
  },
  {
   "cell_type": "markdown",
   "metadata": {},
   "source": [
    "\n",
    "\n"
   ]
  },
  {
   "cell_type": "code",
   "execution_count": null,
   "metadata": {},
   "outputs": [],
   "source": [
    "#Filtering subset of data for first visit participants\n",
    "visit_1 <- frm_data %>% filter(PERIOD == 1)\n",
    "head(visit_1, n=5)\n"
   ]
  },
  {
   "cell_type": "markdown",
   "metadata": {},
   "source": [
    "\n",
    "\n"
   ]
  },
  {
   "cell_type": "code",
   "execution_count": null,
   "metadata": {},
   "outputs": [],
   "source": [
    "# Functions to categorize age, BMI, and education value into groups\n",
    "\n",
    "age_group <- function(age_list) {\n",
    "  min_age = min(age_list)\n",
    "  # Define age groups within participants\n",
    "  glab1 = paste(as.character(min_age), \"-40 yr\", sep=\"\")\n",
    "  glab2 = \"41-50 yr\"  \n",
    "  glab3 = \"51-60 yr\"\n",
    "  glab4 = \"61-70 yr\"\n",
    "  glab5 = \"71-80 yr\"\n",
    "  glab6 = \"81-90 yr\"\n",
    "  counter <- 1\n",
    "  for (i in age_list) {\n",
    "        if (is.na(i)) {\n",
    "          age_list[counter] <- \"NA\"\n",
    "        } else if (i <= 40) {\n",
    "          age_list[counter] <- glab1\n",
    "        } else if (i <= 50) {\n",
    "          age_list[counter] <- glab2\n",
    "        } else if (i <= 60) {\n",
    "          age_list[counter] <- glab3\n",
    "        } else if (i <= 70) {\n",
    "          age_list[counter] <- glab4\n",
    "        } else if (i <= 80) {\n",
    "          age_list[counter] <- glab5\n",
    "        } else if (i <= 90) {\n",
    "          age_list[counter] <- glab6\n",
    "        } else {\n",
    "          age_list[counter] <- \"NA\"\n",
    "        }\n",
    "    counter <- counter + 1\n",
    "  }          \n",
    "    return(age_list)\n",
    "}\n",
    "\n",
    "bmi_group <- function(bmi_list) {\n",
    "    # Define BMI groups\n",
    "    glab1 = \"underweight\"\n",
    "    glab2 = \"healthy\"\n",
    "    glab3 = \"overweight\"\n",
    "    glab4 = \"obese\"\n",
    "    counter <- 1\n",
    "    for (i in bmi_list) {\n",
    "        if (is.na(i)) {\n",
    "            bmi_list[counter] <- \"NA\"\n",
    "        } else if (i < 18.5) { \n",
    "            bmi_list[counter] <- glab1\n",
    "        } else if (i < 25) {\n",
    "            bmi_list[counter] <- glab2\n",
    "        } else if (i < 30) {\n",
    "            bmi_list[counter] <- glab3\n",
    "        } else {\n",
    "            bmi_list[counter] <- glab4\n",
    "        } \n",
    "      counter <- counter + 1\n",
    "    }\n",
    "    return(bmi_list)\n",
    "}\n",
    "\n",
    "educ_group <- function(edu_list) {\n",
    "    # Define education groups\n",
    "    glab1 = \"0-11 years\"\n",
    "    glab2 = \"High School Diploma, GED\"\n",
    "    glab3 = \"Some College, Vocational School\"\n",
    "    glab4 = \"College (BS, BA) degree or more\"\n",
    "    counter <- 1\n",
    "    for (i in edu_list) {\n",
    "        if (is.na(i)) {\n",
    "            edu_list[counter] <- \"NA\"\n",
    "        } else if (i == 1.0) { \n",
    "            edu_list[counter] <- glab1\n",
    "        } else if (i == 2.0) {\n",
    "            edu_list[counter] <- glab2\n",
    "        } else if (i == 3.0) {\n",
    "            edu_list[counter] <- glab3\n",
    "        } else if (i == 4.0) {\n",
    "            edu_list[counter] <- glab4\n",
    "        } else {\n",
    "            edu_list[counter] <- \"NA\"\n",
    "        }\n",
    "      counter <- counter + 1\n",
    "    }\n",
    "    return(edu_list)\n",
    "}\n",
    "\n",
    "#Function to turn the counts into a table in the readable form\n",
    "to_nice_table <- function(odata, data) {\n",
    "  c1 <- 1\n",
    "  c2 <- 1\n",
    "  for (i in 1:((length(data[, 1])*2))) {\n",
    "    if (c2 == 1) {\n",
    "      data[c1, c2] <- odata$n[i]\n",
    "      c2 <- 2\n",
    "    } else {\n",
    "      data[c1, c2] <- odata$n[i]\n",
    "      c2 <- 1\n",
    "      c1 <- c1 + 1\n",
    "    }\n",
    "  }\n",
    "  l <- rep(0, length(data[, 1]))\n",
    "  for (i in 1:length(l)) {\n",
    "    l[i] <- odata[i*2, 1]\n",
    "  }\n",
    "  rownames(data) <- l\n",
    "  colnames(data) <- c(\"Female\", \"Male\")\n",
    "  return(data)\n",
    "}"
   ]
  },
  {
   "cell_type": "markdown",
   "metadata": {},
   "source": [
    "\n"
   ]
  },
  {
   "cell_type": "code",
   "execution_count": null,
   "metadata": {},
   "outputs": [],
   "source": [
    "#Adding the desired catagories to the visit_1 data\n",
    "visit_1$AGE_GROUP <- age_group(visit_1$AGE)\n",
    "visit_1$BMI_GROUP <- bmi_group(visit_1$BMI)\n",
    "visit_1$EDUC_GROUP <- educ_group(visit_1$EDUC)\n",
    "head(visit_1 %>% select(AGE, AGE_GROUP, BMI, BMI_GROUP, EDUC, EDUC_GROUP), n=5)"
   ]
  },
  {
   "cell_type": "markdown",
   "metadata": {},
   "source": [
    "\n",
    "\n"
   ]
  },
  {
   "cell_type": "code",
   "execution_count": null,
   "metadata": {},
   "outputs": [],
   "source": [
    "#Placing counts into desired table format \n",
    "odata <- visit_1 %>% count(AGE_GROUP, SEX_GROUP)\n",
    "data <-table(odata$AGE_GROUP, odata$SEX_GROUP)\n",
    "data <- matrix(data, ncol = 2)\n",
    "counts1 <- to_nice_table(odata, data)\n",
    "  \n",
    "odata <- visit_1 %>% count(BMI_GROUP, SEX_GROUP)\n",
    "data <-table(odata$BMI_GROUP, odata$SEX_GROUP)\n",
    "data <- matrix(data, ncol = 2)\n",
    "counts2 <- to_nice_table(odata, data)\n",
    "  \n",
    "odata <- visit_1 %>% count(EDUC_GROUP, SEX_GROUP)\n",
    "data <-table(odata$EDUC_GROUP, odata$SEX_GROUP)\n",
    "data <- matrix(data, ncol = 2)\n",
    "counts3 <- to_nice_table(odata, data)\n",
    "  \n",
    "binder <- rbind(counts1, counts2, counts3)\n",
    "print(binder)"
   ]
  },
  {
   "cell_type": "markdown",
   "metadata": {},
   "source": [
    "\n"
   ]
  },
  {
   "cell_type": "markdown",
   "metadata": {},
   "source": [
    "## Visualizing the manipulated data"
   ]
  },
  {
   "cell_type": "code",
   "execution_count": null,
   "metadata": {},
   "outputs": [],
   "source": [
    "#graphing individual counts of each demographic by sex\n",
    "options(repr.plot.width=15, repr.plot.height=8)\n",
    "ggplot(visit_1, aes(x=AGE_GROUP, fill=SEX_GROUP)) + geom_bar() + labs(x=\"Age Group\", y=\"Count\", fill=\"Sex Group\") + ggtitle(\"Age Group Characteristics of Participants in the Framingham Heart Study\")\n",
    "ggplot(visit_1, aes(x=BMI_GROUP, fill=SEX_GROUP)) + geom_bar() + labs(x=\"BMI Group\", y=\"Count\", fill=\"Sex Group\") + ggtitle(\"BMI Group Characteristics of Participants in the Framingham Heart Study\")\n",
    "ggplot(visit_1, aes(x=EDUC_GROUP, fill=SEX_GROUP)) + geom_bar() + theme(axis.text.x = element_text(angle = 45, hjust=1)) + labs(x=\"Education\", y=\"Count\", fill=\"Sex Group\") + ggtitle(\"Education Group Characteristics of Participants in the Framingham Heart Study\")"
   ]
  },
  {
   "cell_type": "markdown",
   "metadata": {},
   "source": [
    "\n"
   ]
  },
  {
   "cell_type": "markdown",
   "metadata": {},
   "source": [
    "**Demographic information of FMS participants at first visit** \n",
    "+ The majority of participants recruited for the study were from the age groups of 41-50 and 51-60.\n",
    "+ At the first visit a majority of participants were either healthy of overweight. Very few fell into the obese or underweight catagories.\n",
    "+ Nearly 3/4 of participants had either a GED or 0-11 years of education. Fewer participants showed higher levels of education.\n",
    "\n",
    "## Risk Factor Exploration\n",
    "\n",
    "We will now explore the risk factors of the participants at different visits"
   ]
  },
  {
   "cell_type": "code",
   "execution_count": null,
   "metadata": {},
   "outputs": [],
   "source": [
    "#adding demographic information to our intiial frm_data\n",
    "frm_data$AGE_GROUP = age_group(frm_data$AGE)\n",
    "frm_data$BMI_GROUP = bmi_group(frm_data$BMI)\n",
    "frm_data$EDUC_GROUP = educ_group(frm_data$EDUC)\n",
    "head(frm_data, n=5)"
   ]
  },
  {
   "cell_type": "markdown",
   "metadata": {},
   "source": [
    "\n",
    "\n"
   ]
  },
  {
   "cell_type": "code",
   "execution_count": null,
   "metadata": {},
   "outputs": [],
   "source": [
    "# extract a subset of data for risk factor exploration\n",
    "rf_data <- frm_data %>% select(RANDID, SEX_GROUP, TIME, PERIOD, BMI, AGE, SYSBP, DIABP, CIGPDAY, TOTCHOL, HDLC, LDLC, GLUCOSE)"
   ]
  },
  {
   "cell_type": "markdown",
   "metadata": {},
   "source": [
    "\n"
   ]
  },
  {
   "cell_type": "code",
   "execution_count": null,
   "metadata": {},
   "outputs": [],
   "source": [
    "#Pivoting data to longer format\n",
    "rf_data_melt <- pivot_longer(rf_data, c(BMI, AGE, SYSBP, DIABP, CIGPDAY, TOTCHOL, HDLC, LDLC, GLUCOSE), names_to = \"variable\", values_to = \"value\")\n",
    "head(rf_data_melt, n=5)"
   ]
  },
  {
   "cell_type": "markdown",
   "metadata": {},
   "source": [
    "\n"
   ]
  },
  {
   "cell_type": "code",
   "execution_count": null,
   "metadata": {},
   "outputs": [],
   "source": [
    "#Bar and Violin plot of AGE and BMI factors at the three visits\n",
    "dodge <- position_dodge(width = 0.4)\n",
    "options(repr.plot.width=13, repr.plot.height=8)\n",
    "ggplot((rf_data_melt %>% filter(variable == \"BMI\" | variable == \"AGE\") %>% drop_na()), aes(x=factor(PERIOD),y=value,fill=variable))+geom_violin(position = dodge) + geom_boxplot(width=.1, position = dodge) + labs(x= \"Visit\", y=\"Value\", fill=\"Variable\")"
   ]
  },
  {
   "cell_type": "markdown",
   "metadata": {},
   "source": [
    "\n"
   ]
  },
  {
   "cell_type": "markdown",
   "metadata": {},
   "source": [
    "**Age and BMI risk factors at different visits**\n",
    "+ At visits 1, 2, and 3 the median ages were 49, 55, and 60 respectively.\n",
    "+ At all three visits the median BMI of participants was at around 25.5, which falls into the *overweight catagory*."
   ]
  },
  {
   "cell_type": "code",
   "execution_count": null,
   "metadata": {},
   "outputs": [],
   "source": [
    "#Bar plot of more risk factors at the three visits\n",
    "options(repr.plot.width=13, repr.plot.height=8)\n",
    "ggplot((rf_data_melt %>% filter(variable == \"SYSBP\" | variable == \"DIABP\" | variable == \"TOTCHOL\" | variable == \"GLUCOSE\") %>% drop_na()), aes(x=factor(PERIOD),y=value,fill=variable)) + geom_boxplot(width=.7) + labs(x= \"Visit\", y=\"Value\", fill=\"Variable\")"
   ]
  },
  {
   "cell_type": "markdown",
   "metadata": {},
   "source": [
    "\n",
    "\n"
   ]
  },
  {
   "cell_type": "markdown",
   "metadata": {},
   "source": [
    "For referense:\n",
    "+ DIABP is Diastolic BP (mmHg)\n",
    "+ GLUCOSE is Casual Glucose (mg/dL)\n",
    "+ SYSBP is Systolic BP (mmHg)\n",
    "+ TOTCHOL is Serum Cholesterol (mg/dL)\n",
    "\n",
    "**DIABP, GLUCOSE, SYSBP, and TOTCHOL risk factors at different visits**\n",
    "+ From this graph we can see that the median of these risk factors does not change greatly between visits. \n",
    "\n",
    "## Catagorizing Risk Factors\n",
    "\n",
    "For the next analysis we need to catagorize whether a patient falls into a risk factor by converting its numeric value into a binary value by using a threshold. For instance we consider serum cholesterol > 200 to be a risk factor and thus would be a binary value of 1."
   ]
  },
  {
   "cell_type": "code",
   "execution_count": null,
   "metadata": {},
   "outputs": [],
   "source": [
    "#Take only the final visit and the known risk factors for cardiovascular disease\n",
    "visit_fin <- frm_data[!rev(duplicated(rev(frm_data$RANDID))),] \n",
    "visit_rf <- visit_fin %>% select(RANDID, AGE, SEX_GROUP, CURSMOKE, TOTCHOL, BMI, GLUCOSE, PREVCHD, PREVSTRK, PREVHYP, DIABETES, HEARTRTE)\n",
    "\n",
    "col_rf <- function(column, criteria, eorg) {\n",
    "  counter <- 1\n",
    "  if (eorg) {\n",
    "    for (i in column) {\n",
    "      if (!(is.na(i))) {    \n",
    "        if (i >= criteria) {\n",
    "          column[counter] <- 1\n",
    "        } else {\n",
    "          column[counter] <- 0\n",
    "        }\n",
    "      counter <- counter + 1\n",
    "      } else {\n",
    "        column[counter] <- 0\n",
    "      }\n",
    "    }\n",
    "  } else {\n",
    "    for (i in column) {\n",
    "      if (!(is.na(i))) {  \n",
    "        if (i > criteria) {\n",
    "          column[counter] <- 1\n",
    "        } else {\n",
    "          column[counter] <- 0\n",
    "        }\n",
    "      } else {\n",
    "        column[counter] <- 0\n",
    "      }\n",
    "      counter <- counter + 1\n",
    "    }\n",
    "  }\n",
    "  return(column)\n",
    "}\n",
    "\n",
    "visit_rf$TOTCHOL_RF <- col_rf(visit_rf$TOTCHOL, 200, FALSE)\n",
    "visit_rf$BMI_RF <- col_rf(visit_rf$BMI, 25, FALSE)\n",
    "visit_rf$GLUCOSEL_RF <- col_rf(visit_rf$GLUCOSE, 200, FALSE)\n",
    "visit_rf$HEARTRTE_RF <- col_rf(visit_rf$HEARTRTE, 100, FALSE)\n",
    "visit_rf$AGE_RF <- col_rf(visit_rf$AGE, 60, TRUE)\n",
    "\n",
    "visit_rf <- visit_rf %>% select(-AGE,-TOTCHOL,-BMI,-GLUCOSE, -HEARTRTE, -SEX_GROUP)\n",
    "head(visit_rf)"
   ]
  },
  {
   "cell_type": "markdown",
   "metadata": {},
   "source": [
    "\n",
    "\n"
   ]
  },
  {
   "cell_type": "markdown",
   "metadata": {},
   "source": [
    "The next few blocks of code combine the risk factor binary values with the event data binary event data and converts the data into a format that we can graph using a heat map. "
   ]
  },
  {
   "cell_type": "code",
   "execution_count": null,
   "metadata": {},
   "outputs": [],
   "source": [
    "#Combining risk factors with event data\n",
    "event_data <- visit_fin %>% select(ANGINA, HOSPMI, MI_FCHD, ANYCHD, STROKE, CVD, HYPERTEN, DEATH)\n",
    "visit_erf <- cbind(visit_rf, event_data)\n",
    "head(visit_erf)"
   ]
  },
  {
   "cell_type": "markdown",
   "metadata": {},
   "source": [
    "\n"
   ]
  },
  {
   "cell_type": "code",
   "execution_count": null,
   "metadata": {},
   "outputs": [],
   "source": [
    "#Formatting data for heat map\n",
    "visit_rf_noid <- visit_erf %>% select(-RANDID)\n",
    "vrn <- cor(as.matrix(visit_rf_noid))\n",
    "heat_data <- melt(vrn)\n",
    "colnames(heat_data) <- c(\"x\", \"y\", \"value\") "
   ]
  },
  {
   "cell_type": "markdown",
   "metadata": {},
   "source": [
    "\n"
   ]
  },
  {
   "cell_type": "code",
   "execution_count": null,
   "metadata": {},
   "outputs": [],
   "source": [
    "#Graphing the correlation heat map\n",
    "options(repr.plot.width=9.5, repr.plot.height=8)\n",
    "ggplot(heat_data, aes(x = x, y = y, fill = value)) +geom_tile() + theme(axis.text.x = element_text(angle = 45, hjust=1))"
   ]
  },
  {
   "cell_type": "markdown",
   "metadata": {},
   "source": [
    "\n"
   ]
  },
  {
   "cell_type": "code",
   "execution_count": null,
   "metadata": {},
   "outputs": [],
   "source": [
    "#Creating column that combines all of the risk factors\n",
    "visit_erf$RF_SUM <- with(visit_erf, ( CURSMOKE + PREVCHD + PREVSTRK + PREVHYP + DIABETES + TOTCHOL_RF + BMI_RF + GLUCOSEL_RF + HEARTRTE_RF + AGE_RF))\n",
    "tail(visit_erf)"
   ]
  },
  {
   "cell_type": "markdown",
   "metadata": {},
   "source": [
    "\n"
   ]
  },
  {
   "cell_type": "markdown",
   "metadata": {},
   "source": [
    "\n"
   ]
  },
  {
   "cell_type": "markdown",
   "metadata": {},
   "source": [
    "## Correlation between risk and event factors\n",
    "\n",
    "The next few blocks of code will manipulate the data into a form in which we can visualize the composition of disease events and the risk factor sum."
   ]
  },
  {
   "cell_type": "code",
   "execution_count": null,
   "metadata": {},
   "outputs": [],
   "source": [
    "#Creating column that combines all of the event risk factors\n",
    "visit_erf$EVENT_SUM <- with(visit_erf, (ANYCHD + STROKE + CVD + HYPERTEN))"
   ]
  },
  {
   "cell_type": "markdown",
   "metadata": {},
   "source": [
    "\n"
   ]
  },
  {
   "cell_type": "code",
   "execution_count": null,
   "metadata": {},
   "outputs": [],
   "source": [
    "rf_count <- visit_erf %>% count(RF_SUM, EVENT_SUM)\n",
    "tabled_count <- matrix(nrow= 9, ncol=5)\n",
    "  \n",
    "for (i in 1:45) {    \n",
    "    tabled_count[rf_count$RF_SUM[i]+1, rf_count$EVENT_SUM[i]+1] <- rf_count$n[i]\n",
    "}\n",
    "c1 <- 1\n",
    "c2 <- 1\n",
    "for (i in 1:45) {\n",
    "    if (c2 < 5) {\n",
    "        if(is.na(tabled_count[c1, c2])) {\n",
    "            tabled_count[c1, c2] <- 0\n",
    "      } \n",
    "        c2 <- c2 + 1\n",
    "    } else {\n",
    "        if(is.na(tabled_count[c1, c2])) {\n",
    "            tabled_count[c1, c2] <- 0\n",
    "      } \n",
    "      c2 <- 1\n",
    "      c1 <- c1 + 1\n",
    "    }\n",
    "  }\n",
    "\n",
    "rownames(tabled_count) <- c(\"0.0\", \"1.0\", \"2.0\", \"3.0\", \"4.0\", \"5.0\", \"6.0\", \"7.0\", \"8.0\")\n",
    "colnames(tabled_count) <- c(\"0.0\", \"1.0\", \"2.0\", \"3.0\", \"4.0\")\n",
    "\n",
    "print(tabled_count)"
   ]
  },
  {
   "cell_type": "markdown",
   "metadata": {},
   "source": [
    "In the table above, **event sum** is represented in colums and the **rf sum** is represented in rows. "
   ]
  },
  {
   "cell_type": "code",
   "execution_count": null,
   "metadata": {},
   "outputs": [],
   "source": [
    "#graphing\n",
    "options(repr.plot.width=20, repr.plot.height=10)\n",
    "ggplot(rf_count, aes(x=factor(RF_SUM), y=n,  fill=factor(EVENT_SUM))) + geom_bar(stat=\"identity\") + labs(x=\"RF Sum\", y=\"count\", fill=\"Event Sum\") + scale_fill_manual(values=c(\"#1cd600\", \"#a11e11\", \"#80180d\", \"#60120a\", \"#400c06\")) + ggtitle(\"Risk Factors and Disease Events\")"
   ]
  },
  {
   "cell_type": "markdown",
   "metadata": {},
   "source": [
    "\n"
   ]
  },
  {
   "cell_type": "markdown",
   "metadata": {},
   "source": [
    "**Risk Factors and Events**\n",
    "\n",
    "From this historgram we can see that:\n",
    "+ By the third visit a majority of the participants has at the very least two risk factors\n",
    "+ With an increase of the risk factor sum, we observe a significant increase in event sum. For instance, a majority of participants with at least 3 RF Sum have had at least 1 disease event and almost a half of participants with a RF sum of 4 have had at least 2 or more disease events. \n",
    "+ Among participants with at least 3 risk factors, there is an increase in the proportion of participants who have had multiple disease events (2, 3, or 4). Meanwhile, almost no to no participants with 4 or greater risk factors had not had a disease event by that time."
   ]
  },
  {
   "cell_type": "code",
   "execution_count": null,
   "metadata": {},
   "outputs": [],
   "source": []
  }
 ],
 "metadata": {
  "anaconda-cloud": "",
  "kernelspec": {
   "display_name": "Python 3 (ipykernel)",
   "language": "python",
   "name": "python3"
  },
  "language_info": {
   "codemirror_mode": {
    "name": "ipython",
    "version": 3
   },
   "file_extension": ".py",
   "mimetype": "text/x-python",
   "name": "python",
   "nbconvert_exporter": "python",
   "pygments_lexer": "ipython3",
   "version": "3.9.6"
  }
 },
 "nbformat": 4,
 "nbformat_minor": 4
}
