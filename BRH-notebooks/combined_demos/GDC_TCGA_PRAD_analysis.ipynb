{
 "cells": [
  {
   "cell_type": "markdown",
   "id": "9d551ee9-bd9d-40a1-8f94-39f72ebe1a29",
   "metadata": {
    "tags": []
   },
   "source": [
    "# Identify Prostate Cancer Biomarker using Machine Learning\n",
    "\n",
    "*Please note: This notebook uses open access data*  \n",
    "\n",
    "\n",
    "#### Fan Wang\n",
    "#### July 5 2022\n",
    "\n",
    "This notebook demonstrates the analysis of The Cancer Genome Atlas Prostate Adenocarcinoma (TCGA-PRAD) gene expression dataset to understand the steps in a differential expression analysis workflow in the context of DESeq2.\n",
    "\n",
    "The goal of this analysis is to find differences in gene expression profiles between the two sample populations: normal cells versus tumor cells. The two groups will be compared through an analysis of TCGA-PRAD gene expression dataset downloaded from the NCI's Genomic Data Commons (GDC). The dataset contains expression values (sequence counts) generated via the Illumina HiSeq platform.\n"
   ]
  },
  {
   "cell_type": "markdown",
   "id": "265d96da-0a19-4cbf-a7ea-f8970e1714c0",
   "metadata": {},
   "source": [
    "## [DESeq2](https://bioconductor.org/packages/release/bioc/html/DESeq2.html) analysis workflow\n",
    "\n",
    "Summary of the Differential Expression Analysis Workflow:\n",
    "\n",
    "> - Install and import necessary packages and functions. Download data.\n",
    "> - Identify genes whose expression levels change significantly between tumor and normal samples.\n",
    "> - Preprocess dataset by filtering out the gene genes with zero values.\n",
    "> - Split expression dataset to tumor samples dataframe and normal samples dataframe.\n",
    "> - Generate metaData.\n",
    "> - Call the DESeqDataSetFromMatrix function and DESeq function to get results\n",
    "\n",
    "\n",
    "---------------"
   ]
  },
  {
   "cell_type": "markdown",
   "id": "547fba20-b26a-4e2a-a89b-afab6a9d86e5",
   "metadata": {},
   "source": [
    "## Load required packages"
   ]
  },
  {
   "cell_type": "code",
   "execution_count": null,
   "id": "eec97261-f93e-4f97-b901-fe82ec1e24a4",
   "metadata": {},
   "outputs": [],
   "source": [
    "options(warn=-1)"
   ]
  },
  {
   "cell_type": "code",
   "execution_count": null,
   "id": "0cd02920-2cb1-4ec1-ac55-077686e5c26c",
   "metadata": {},
   "outputs": [],
   "source": [
    "library(TCGAbiolinks)\n",
    "library(DESeq2)\n",
    "library(SummarizedExperiment)\n",
    "library(ggplot2)"
   ]
  },
  {
   "cell_type": "markdown",
   "id": "7af36d62-6494-4102-9582-22400309d539",
   "metadata": {},
   "source": [
    "## Load functions for identifying upregulated and downregulated genes"
   ]
  },
  {
   "cell_type": "code",
   "execution_count": null,
   "id": "1c623d69-1477-4bac-aa81-92edc5600086",
   "metadata": {},
   "outputs": [],
   "source": [
    "get_upregulated <- function(df) {\n",
    "  key <- intersect(rownames(df)[which(df$log2FoldChange >= 1)],\n",
    "                   rownames(df)[which(df$pvalue <= 0.05)])\n",
    "  \n",
    "  results <- as.data.frame((df)[which(rownames(df) %in% key), ])\n",
    "  return(results)\n",
    "}"
   ]
  },
  {
   "cell_type": "code",
   "execution_count": null,
   "id": "9c3dd38a-dca3-4c26-b41a-1469afd88ba0",
   "metadata": {},
   "outputs": [],
   "source": [
    "get_downregulated <- function(df) {\n",
    "  key <- intersect(rownames(df)[which(df$log2FoldChange <= -1)],\n",
    "                   rownames(df)[which(df$pvalue <= 0.05)])\n",
    "  \n",
    "  results <- as.data.frame((df)[which(rownames(df) %in% key), ])\n",
    "  return(results)\n",
    "}"
   ]
  },
  {
   "cell_type": "markdown",
   "id": "561885de-64a9-40e8-88be-4d8f410e4588",
   "metadata": {},
   "source": [
    "## Download data from GDC"
   ]
  },
  {
   "cell_type": "code",
   "execution_count": null,
   "id": "3374a9fe-6e8f-4f8f-ab3d-a5de551344fe",
   "metadata": {},
   "outputs": [],
   "source": [
    "query <- GDCquery(project = \"TCGA-PRAD\", \n",
    "                  data.category = \"Gene expression\",\n",
    "                  data.type = \"Gene expression quantification\",\n",
    "                  experimental.strategy = \"RNA-Seq\",\n",
    "                  platform = \"Illumina HiSeq\",\n",
    "                  file.type = \"results\",\n",
    "                  legacy = TRUE)"
   ]
  },
  {
   "cell_type": "code",
   "execution_count": null,
   "id": "4e51071a-83ec-4795-af36-7ab4f94073dc",
   "metadata": {},
   "outputs": [],
   "source": [
    "dir.create(\"./Data\")\n",
    "GDCdownload(\n",
    "  query,\n",
    "  method = \"api\",\n",
    "  files.per.chunk = 100,\n",
    "  directory = \"./Data\"\n",
    ")"
   ]
  },
  {
   "cell_type": "code",
   "execution_count": null,
   "id": "f0e54ae0-1290-490f-9b2d-76624013f604",
   "metadata": {},
   "outputs": [],
   "source": [
    "mrna_df <- GDCprepare(query, directory = \"./Data\")"
   ]
  },
  {
   "cell_type": "markdown",
   "id": "25f66907-95ac-4388-9ea4-74351a26d874",
   "metadata": {},
   "source": [
    "## Preprocess data"
   ]
  },
  {
   "cell_type": "code",
   "execution_count": null,
   "id": "e9108df0-f4ae-4e66-b4e3-c45bb4c9ba26",
   "metadata": {},
   "outputs": [],
   "source": [
    "### remove columns we dont need, keep counts\n",
    "mrna_meta <- mrna_df$sample\n",
    "mrna_meta <- cbind(mrna_meta, mrna_df$definition)\n",
    "mrna_df <- assay(mrna_df)\n",
    "delim_fn = function(x, n, i) {\n",
    "  do.call(c, lapply(x, function(X)\n",
    "    paste(unlist(strsplit(\n",
    "      X, \"-\"\n",
    "    ))[(n + 1):(i)], collapse = \"-\")))\n",
    "}\n",
    "colnames(mrna_df) <- delim_fn(x = colnames(mrna_df), n = 0, i = 4)\n",
    "mrna_meta <- as.data.frame(mrna_meta)\n",
    "mrna_df <- as.data.frame(mrna_df)"
   ]
  },
  {
   "cell_type": "code",
   "execution_count": null,
   "id": "66e4c891-0a4a-464d-ba53-c9ca3b680283",
   "metadata": {},
   "outputs": [],
   "source": [
    "## Remove metastatic sample\n",
    "metastatic_key <- mrna_meta[which(mrna_meta[, 2] == \"Metastatic\"), ]\n",
    "mrna_meta <- mrna_meta[!mrna_meta[, 2] == metastatic_key[, 2], ]\n",
    "mrna_df <-\n",
    "  mrna_df[,-grep(paste0(metastatic_key[, 1]), colnames(mrna_df))]\n",
    "mrna_meta[, 2] <- as.character(mrna_meta[, 2])\n",
    "mrna_meta[, 2] <-\n",
    "  gsub(\"Primary solid Tumor\", \"Tumor\", mrna_meta[, 2])\n",
    "mrna_meta[, 2] <-\n",
    "  gsub(\"Solid Tissue Normal\", \"Normal\", mrna_meta[, 2])\n",
    "mrna_meta[, 2] <- as.factor(mrna_meta[, 2])\n",
    "levels(mrna_meta[, 2])\n",
    "colnames(mrna_meta) <- c(\"cases\", \"Condition\")"
   ]
  },
  {
   "cell_type": "markdown",
   "id": "d33e949b-8f34-42f2-860f-0af372b19a78",
   "metadata": {},
   "source": [
    "## Execute differential expression analysis using [DESeq2](https://github.com/mikelove/DESeq2)"
   ]
  },
  {
   "cell_type": "code",
   "execution_count": null,
   "id": "4e251c00-f47f-454f-9f31-ff4401b998a7",
   "metadata": {},
   "outputs": [],
   "source": [
    "mrna_dds <-\n",
    "  DESeqDataSetFromMatrix(round(mrna_df),\n",
    "                         colData = mrna_meta,\n",
    "                         design = ~ Condition)"
   ]
  },
  {
   "cell_type": "markdown",
   "id": "f4386f3d-c8f9-49f8-a15c-e3fc2866aec3",
   "metadata": {},
   "source": [
    "#### Everything from normalization to linear modeling was carried out by the use of a single function `DESeq`. This function will print out a message for the various steps it performs:\n",
    "```\n",
    "estimating size factors\n",
    "estimating dispersions\n",
    "gene-wise dispersion estimates\n",
    "mean-dispersion relationship\n",
    "final dispersion estimates\n",
    "fitting model and testing\n",
    "```"
   ]
  },
  {
   "cell_type": "code",
   "execution_count": null,
   "id": "02c27b69-cc41-40ef-a3e1-452bfdda243b",
   "metadata": {},
   "outputs": [],
   "source": [
    "mrna_dds$Condition <- relevel(mrna_dds$Condition, ref = \"Normal\")\n",
    "mrna_dds <- DESeq(mrna_dds)"
   ]
  },
  {
   "cell_type": "code",
   "execution_count": null,
   "id": "dbd1e300-ce90-4204-a05e-9f9b3e184d39",
   "metadata": {},
   "outputs": [],
   "source": [
    "vsd <- varianceStabilizingTransformation(mrna_dds, blind = FALSE)\n",
    "head(assay(vsd))\n",
    "hist(assay(vsd))"
   ]
  },
  {
   "cell_type": "code",
   "execution_count": null,
   "id": "31b90c7b-b3a0-4bcd-b3df-f49c2596db75",
   "metadata": {},
   "outputs": [],
   "source": [
    "resultsNames(mrna_dds)"
   ]
  },
  {
   "cell_type": "markdown",
   "id": "be54ddca-de39-41b1-898d-455e784e1b58",
   "metadata": {},
   "source": [
    "## Dispersion Plot\n",
    "\n",
    "Dispersion is a measure of spread or variability in the data. Variance, standard deviation, IQR, among other measures, can all be used to measure dispersion. However, DESeq2 uses a specific measure of dispersion (α) related to the mean (μ) and variance of the data:   \n",
    "\n",
    "> Var = μ + α * μ^2 \n",
    "\n",
    "For genes with moderate to high count values, the square root of dispersion will be equal to the coefficient of variation (Var / μ). So 0.01 dispersion means 10% variation around the mean expected across biological replicates."
   ]
  },
  {
   "cell_type": "code",
   "execution_count": null,
   "id": "d0124a14-562a-4d40-9925-b625b2e855e9",
   "metadata": {},
   "outputs": [],
   "source": [
    "# Plot Dispersions:\n",
    "plotDispEsts(mrna_dds, main = \"Dispersion plot\")"
   ]
  },
  {
   "cell_type": "markdown",
   "id": "bbd4082c-f17c-4f75-b013-c94c1d559f09",
   "metadata": {},
   "source": [
    "##### This curve is displayed as a red line in the figure below, which plots the estimate for the ***expected dispersion value for genes of a given expression strength***. \n",
    "\n",
    "##### Each black dot is a gene with an associated mean expression level and maximum likelihood estimation (MLE) of the dispersion"
   ]
  },
  {
   "cell_type": "markdown",
   "id": "da2e2610-0d8c-48af-811b-294515d576de",
   "metadata": {},
   "source": [
    "## MA Plot\n",
    "\n",
    "MA plot is a scatter plot of log2 fold changes (M) on the y-axis versus the mean of normalized expression counts on the x-axis.\n",
    "\n",
    "Generally, genes with lower mean expression values will have highly variable log fold changes. Genes with similar expression values in both normal and treated samples will cluster around M=0 value i.e genes expressed with no significant differences in between groups. Points away from `M=0` line indicate genes with significant expression, For example, a gene is upregulated and downregulated if the point is above and below `M=0` line respectively."
   ]
  },
  {
   "cell_type": "code",
   "execution_count": null,
   "id": "0efa9b98-ef3a-42db-a60f-1850fe27c554",
   "metadata": {},
   "outputs": [],
   "source": [
    "mrna_res <- results(mrna_dds, name = \"Condition_Tumor_vs_Normal\")\n",
    "plotMA(mrna_res)"
   ]
  },
  {
   "cell_type": "markdown",
   "id": "57567906-7ff4-47b3-abc4-e234a6b8801f",
   "metadata": {},
   "source": [
    "### Statistics summary "
   ]
  },
  {
   "cell_type": "code",
   "execution_count": null,
   "id": "8abfdde3-f807-440d-92a3-1a3d8bace151",
   "metadata": {},
   "outputs": [],
   "source": [
    "mrna_res_df <- as.data.frame(mrna_res)\n",
    "mrnaTable <- mrna_res_df\n",
    "mrnaTable$Gene_id <- rownames(mrnaTable)\n",
    "summary(mrna_res)"
   ]
  },
  {
   "cell_type": "markdown",
   "id": "784e5f0e-cc92-4451-9690-87dc7e905247",
   "metadata": {},
   "source": [
    "### Volcano Plot\n",
    "\n",
    "MA plot does not consider statistical measures (p values or adjusted p values) and therefore we can not tell genes with statistically significant differences between normal vs. tumor from MA plot. And that is why we use Volcano plot to indicate genes with statistically significant differences."
   ]
  },
  {
   "cell_type": "code",
   "execution_count": null,
   "id": "a302a084-940c-433d-b7bf-5834b1bacd86",
   "metadata": {},
   "outputs": [],
   "source": [
    "mrna_upreg <- get_upregulated(mrna_res)\n",
    "mrna_downreg <- get_downregulated(mrna_res)\n",
    "mrna_counts <- counts(mrna_dds, normalized = T)\n",
    "mrna_upreg$Gene_id <- rownames(mrna_upreg)\n",
    "mrna_downreg$Gene_id <- rownames(mrna_downreg)\n",
    "mrna_res_df$Gene_id <- rownames(mrna_res_df)"
   ]
  },
  {
   "cell_type": "code",
   "execution_count": null,
   "id": "aaec6278-0e88-4571-99cb-b5fc0aeb091f",
   "metadata": {},
   "outputs": [],
   "source": [
    "par(\n",
    "  mar = c(5, 5, 5, 5),\n",
    "  cex = 1.0,\n",
    "  cex.main = 1.4,\n",
    "  cex.axis = 1.4,\n",
    "  cex.lab = 1.4\n",
    ")\n",
    "with(\n",
    "  mrna_res_df,\n",
    "  plot(\n",
    "    log2FoldChange,\n",
    "    -log10(padj),\n",
    "    pch = 20,\n",
    "    main = \"Volcano plot\",\n",
    "    cex = 1.0,\n",
    "    xlab = bquote( ~ Log[2] ~ fold ~ change),\n",
    "    ylab = bquote( ~ -log[10] ~ P ~ value)\n",
    "  )\n",
    ")\n",
    "\n",
    "with(\n",
    "  subset(mrna_res_df, padj < 0.05 &\n",
    "           abs(log2FoldChange) > 2),\n",
    "  points(\n",
    "    log2FoldChange,\n",
    "    -log10(padj),\n",
    "    pch = 20,\n",
    "    col = \"red\",\n",
    "    cex = 0.5\n",
    "  )\n",
    ")\n",
    "\n",
    "#Add lines for absolute FC>2 and P-value cut-off at FDR Q<0.05\n",
    "abline(v = 0,\n",
    "       col = \"black\",\n",
    "       lty = 3,\n",
    "       lwd = 1.0)\n",
    "abline(v = -2,\n",
    "       col = \"black\",\n",
    "       lty = 4,\n",
    "       lwd = 2.0)\n",
    "abline(v = 2,\n",
    "       col = \"black\",\n",
    "       lty = 4,\n",
    "       lwd = 2.0)\n",
    "abline(\n",
    "  h = -log10(max(mrna_res_df$pvalue[mrna_res_df$padj < 0.05], na.rm = TRUE)),\n",
    "  col = \"black\",\n",
    "  lty = 4,\n",
    "  lwd = 2.0\n",
    ")"
   ]
  },
  {
   "cell_type": "markdown",
   "id": "84601157-ab54-47bb-8e8a-eb77aac54254",
   "metadata": {
    "tags": []
   },
   "source": [
    "## Conclusion\n",
    "\n",
    "The set of genes found to be differentially expressed, namely ANGPT1, CHRM2, HSPA6, KIRREL3, C2orf88, SMR3A, CIDEC, ZNF185, FAM167A, APOBEC3C, EPHA10, HOXC4, NETO2, GTSE1, NETO1, KISS1R, TEKT1, ACTL8, ROPN1L, could be deduced from the above results. The genes ANGPT1, APOBEC3C, ZNF185, EPHA10, and HOXC4 have the potential to be used as diagnostic tests for prostate cancer early detection. These genes will need to be studied further to see if they may be fused with other genes to boost their selectivity and specificity. Because prostate cancer is a potentially fatal malignancy for the majority of men who are diagnosed with it, the only way to solve this issue is through early detection and accurate prognosis, which is what our research attempts to achieve."
   ]
  },
  {
   "cell_type": "markdown",
   "id": "f0aacbd7-4da8-4b55-b41a-70e61223afe0",
   "metadata": {},
   "source": [
    "### Reference "
   ]
  },
  {
   "cell_type": "code",
   "execution_count": null,
   "id": "f30db167-8ac9-455c-866f-d9dc2fe7b794",
   "metadata": {},
   "outputs": [],
   "source": [
    "citation(\"DESeq2\")"
   ]
  }
 ],
 "metadata": {
  "kernelspec": {
   "display_name": "Python 3 (ipykernel)",
   "language": "python",
   "name": "python3"
  },
  "language_info": {
   "codemirror_mode": {
    "name": "ipython",
    "version": 3
   },
   "file_extension": ".py",
   "mimetype": "text/x-python",
   "name": "python",
   "nbconvert_exporter": "python",
   "pygments_lexer": "ipython3",
   "version": "3.9.7"
  }
 },
 "nbformat": 4,
 "nbformat_minor": 5
}
