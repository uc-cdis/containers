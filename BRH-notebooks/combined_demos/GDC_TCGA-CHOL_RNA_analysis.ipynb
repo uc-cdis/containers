{
 "cells": [
  {
   "cell_type": "markdown",
   "id": "b2bdd29c",
   "metadata": {},
   "source": [
    "# Gene Expression Analysis of Project TCGA-CHOL\n",
    "\n",
    "*Please note: This notebook uses open access data*\n",
    "\n",
    "\n",
    "### Qiong Liu\n",
    "### April 7th, 2022\n",
    "\n",
    "Cholangiocarcinoma (CCA) is aggressive cancer found in the slender tubes that carry the digestive fluid bile through the liver. The Cancer Genome Atlas (TCGA) program contains abundant molecular profilings of over 20,000 primary cancer and matched normal samples spanning 33 cancer types. In this notebook, we demonstrated how to retrieve RNA expression data of project TCGA-CHOL from [Genomic Data Commons (GDC) data portal](https://portal.gdc.cancer.gov/), and perform data analysis and visualization using a pipeline provided by an R package `GDCRNATools`. \n",
    "\n",
    "This pipeline was modified based on the manual of [GDCRNATools](http://bioconductor.org/packages/devel/bioc/vignettes/GDCRNATools/inst/doc/GDCRNATools.html).\n",
    "\n",
    "**References**\n",
    "\n",
    "- Li R, Qu H, Wang S, Wei J, Le Zhang, Ma R, Lu J, Zhu J, Zhong W, Jia Z (2021). GDCRNATools: GDCRNATools: an R/Bioconductor package for integrative analysis of lncRNA, mRNA, and miRNA data in GDC. https://doi.org/10.1093/bioinformatics/bty124\n",
    "\n",
    "- Love, M.I., Huber, W. & Anders, S. Moderated estimation of fold change and dispersion for RNA-seq data with DESeq2. Genome Biol 15, 550 (2014). https://doi.org/10.1186/s13059-014-0550-8\n",
    "\n",
    "- Ritchie, M. E., Phipson, B., Wu, D., Hu, Y., Law, C. W., Shi, W., & Smyth, G. K. (2015). limma powers differential expression analyses for RNA-sequencing and microarray studies. Nucleic acids research, 43(7), e47. https://doi.org/10.1093/nar/gkv007\n",
    "\n",
    "- Robinson, M. D., McCarthy, D. J., & Smyth, G. K. (2010). edgeR: a Bioconductor package for differential expression analysis of digital gene expression data. Bioinformatics (Oxford, England), 26(1), 139–140. https://doi.org/10.1093/bioinformatics/btp616\n",
    "\n",
    "---\n",
    "\n",
    "\n",
    "## Contents\n",
    "\n",
    "- [Data preparation](#Data-Preparation)\n",
    "- [Differential expression analysis](#Differential-expression-analysis)\n",
    "- [Functional enrichment analysis](#Functional-enrichment-analysis)\n",
    "- [Univariate survival analysis](#Univariate-survival-analysis)\n"
   ]
  },
  {
   "cell_type": "markdown",
   "id": "3d11d840",
   "metadata": {},
   "source": [
    "## Data Preparation\n",
    "\n",
    "### Import R packages"
   ]
  },
  {
   "cell_type": "code",
   "execution_count": null,
   "id": "01bed88a",
   "metadata": {},
   "outputs": [],
   "source": [
    "# suppress warnings (to include warnings,set warn to 0)\n",
    "options(warn=-1)\n",
    "\n",
    "library(GDCRNATools)\n",
    "library(dplyr)\n",
    "library(tidyr)"
   ]
  },
  {
   "cell_type": "markdown",
   "id": "b0dc859e",
   "metadata": {},
   "source": [
    "### Download GDC data transfer tool\n",
    "\n",
    "The R package of `GDCRNATools` uses `gdc-client` data transfer to download the object file. Run the command below to download and unzip gdc-client."
   ]
  },
  {
   "cell_type": "code",
   "execution_count": null,
   "id": "8e3d2eee",
   "metadata": {},
   "outputs": [],
   "source": [
    "system(\"wget https://gdc.cancer.gov/files/public/file/gdc-client_v1.6.1_Ubuntu_x64.zip\")\n",
    "unzip(\"gdc-client_v1.6.1_Ubuntu_x64.zip\", exdir=\".\")"
   ]
  },
  {
   "cell_type": "markdown",
   "id": "a239ba27",
   "metadata": {},
   "source": [
    "### Data download\n",
    "\n",
    "- The block blow fixes a bug in gdcGetURL that leads to downloading error, and overwrites the orginal function `gdcGetURL` within the pakcage namespace."
   ]
  },
  {
   "cell_type": "code",
   "execution_count": null,
   "id": "b6f9d8f4",
   "metadata": {},
   "outputs": [],
   "source": [
    "gdcGetURL_new <- function(project.id, data.type) {\n",
    "    urlAPI <- 'https://api.gdc.cancer.gov/files?'\n",
    "    \n",
    "    if (data.type=='RNAseq') {\n",
    "        data.category <- 'Transcriptome Profiling'\n",
    "        data.type <- 'Gene Expression Quantification'\n",
    "        workflow.type <- 'STAR - Counts'\n",
    "    } else if (data.type=='miRNAs') {\n",
    "        data.category <- 'Transcriptome Profiling'\n",
    "        data.type <- 'Isoform Expression Quantification'\n",
    "        workflow.type <- 'BCGSC miRNA Profiling'\n",
    "    } else if (data.type=='Clinical') {\n",
    "        data.category <- 'Clinical'\n",
    "        data.type <- 'Clinical Supplement'\n",
    "        workflow.type <- NA\n",
    "    } else if (data.type=='pre-miRNAs') {\n",
    "        data.category <- 'Transcriptome Profiling'\n",
    "        data.type <- 'miRNA Expression Quantification'\n",
    "        workflow.type <- 'BCGSC miRNA Profiling'\n",
    "    }\n",
    "    \n",
    "    project <- paste('{\"op\":\"in\",\"content\":{\"field\":\"cases.',\n",
    "        'project.project_id\",\"value\":[\"', \n",
    "        project.id, '\"]}}', sep='')\n",
    "    dataCategory <- paste('{\"op\":\"in\",\"content\":{\"field\":\"files.', \n",
    "        'data_category\",\"value\":\"', data.category, '\"}}', sep='')\n",
    "    dataType <- paste('{\"op\":\"in\",\"content\":{\"field\":\"files.data_type\",',\n",
    "        '\"value\":\"', data.type, '\"}}', sep='')\n",
    "    workflowType <- paste('{\"op\":\"in\",\"content\":{\"field\":\"files.',\n",
    "        'analysis.workflow_type\",\"value\":\"', workflow.type, '\"}}', sep='')\n",
    "    \n",
    "    \n",
    "    if (is.na(workflow.type)) {\n",
    "        dataFormat <- paste('{\"op\":\"in\",\"content\":{\"field\":\"files.',\n",
    "            'data_format\",\"value\":\"', 'BCR XML', '\"}}', sep='')\n",
    "        content <- paste(project, dataCategory, dataType, dataFormat, sep=',')\n",
    "    } else {\n",
    "        content <- paste(project, dataCategory, dataType, \n",
    "            workflowType, sep=',')\n",
    "    }\n",
    "    \n",
    "    filters <- paste('filters=',URLencode(paste('{\"op\":\"and\",\"content\":[', \n",
    "        content, ']}', sep='')),sep='')\n",
    "    \n",
    "    expand <- paste('analysis', 'analysis.input_files', 'associated_entities',\n",
    "        'cases', 'cases.diagnoses','cases.diagnoses.treatments', \n",
    "        'cases.demographic', 'cases.project', 'cases.samples', \n",
    "        'cases.samples.portions', 'cases.samples.portions.analytes', \n",
    "        'cases.samples.portions.analytes.aliquots',\n",
    "        'cases.samples.portions.slides', sep=',')\n",
    "    \n",
    "    expand <- paste('expand=', expand, sep='')\n",
    "    \n",
    "    payload <- paste(filters, 'pretty=true', 'format=JSON', \n",
    "        'size=10000', expand, sep='&')\n",
    "    url <- paste(urlAPI, payload, sep='')\n",
    "    \n",
    "    return (url)\n",
    "}\n",
    "\n",
    "toolenv <- environment(get(\"gdcGetURL\", envir = asNamespace(\"GDCRNATools\")))\n",
    "unlockBinding(\"gdcGetURL\", toolenv)\n",
    "assignInNamespace(\"gdcGetURL\", gdcGetURL_new, ns=\"GDCRNATools\", envir=toolenv)\n",
    "assign(\"gdcGetURL\", gdcGetURL_new)\n",
    "lockBinding(\"gdcGetURL\", toolenv)\n"
   ]
  },
  {
   "cell_type": "markdown",
   "id": "e953693f",
   "metadata": {},
   "source": [
    "- Download gene expression quantificatioin files of project TCGA-CHOL using gen3-client"
   ]
  },
  {
   "cell_type": "code",
   "execution_count": null,
   "id": "3b5837d6",
   "metadata": {},
   "outputs": [],
   "source": [
    "# download RNA-seq quantification files of project TCGA-CHOL\n",
    "# downloaded files will be stored under TCGA-CHOL_0406/RNAseq folder, respectively\n",
    "project <- 'TCGA-CHOL_0406'\n",
    "rnadir <- paste(project, 'RNAseq', sep='/')\n",
    "\n",
    "# Download RNAseq data \n",
    "gdcRNADownload(project.id     = 'TCGA-CHOL', \n",
    "               data.type      = 'RNAseq', \n",
    "               write.manifest = FALSE,\n",
    "               method         = 'gdc-client',\n",
    "               directory      = rnadir)\n"
   ]
  },
  {
   "cell_type": "markdown",
   "id": "07046ec4",
   "metadata": {},
   "source": [
    "- Query metadata associated with gene expression quantification files from GDC graph"
   ]
  },
  {
   "cell_type": "code",
   "execution_count": null,
   "id": "65523a7f",
   "metadata": {},
   "outputs": [],
   "source": [
    "# Query metadata(e.g. patient gender, vital status) from GDC graph\n",
    "# Metadata associated with RNA-seq quantification file\n",
    "metaMatrix.RNA <- gdcParseMetadata(project.id = 'TCGA-CHOL',\n",
    "                                   data.type  = 'RNAseq', \n",
    "                                   write.meta = FALSE)\n",
    "# Filter duplicates\n",
    "metaMatrix.RNA <- gdcFilterDuplicate(metaMatrix.RNA)\n",
    "\n",
    "# Filter non-Primary Tumor and non-Solid Tissue Normal samples in RNAseq metadata\n",
    "metaMatrix.RNA <- gdcFilterSampleType(metaMatrix.RNA)\n"
   ]
  },
  {
   "cell_type": "markdown",
   "id": "3ceb8d73",
   "metadata": {},
   "source": [
    "- Inspect first 5 rows of dataframe `metaMatrix.MIR`"
   ]
  },
  {
   "cell_type": "code",
   "execution_count": null,
   "id": "0a3a248a",
   "metadata": {},
   "outputs": [],
   "source": [
    "metaMatrix.RNA[1:5,]"
   ]
  },
  {
   "cell_type": "markdown",
   "id": "08e16f99",
   "metadata": {},
   "source": [
    "- Next two blocks generate `brief summary tables` for several numeric and factor clinical vairables in metaMatrix.RNA (all the patients involved in this notebook)"
   ]
  },
  {
   "cell_type": "code",
   "execution_count": null,
   "id": "9ba8744d",
   "metadata": {},
   "outputs": [],
   "source": [
    "# Summary of several numeric variables in metadata\n",
    "metaMatrix.RNA[,c(\"age_at_diagnosis\", \"days_to_death\", \"days_to_last_follow_up\")] %>% summary()"
   ]
  },
  {
   "cell_type": "code",
   "execution_count": null,
   "id": "c645a5ad",
   "metadata": {},
   "outputs": [],
   "source": [
    "# Counts of few factor variables in metadata\n",
    "gender_counts <-metaMatrix.RNA %>% group_by(gender) %>% tally()\n",
    "sample_type_counts <- metaMatrix.RNA %>% group_by(sample_type) %>% tally()\n",
    "vital_status_counts <- metaMatrix.RNA %>% group_by(vital_status) %>% tally()\n",
    "# modify three tables \n",
    "gender_counts$category <- c(\"gender\",\"gender\")\n",
    "colnames(gender_counts)[1] <- \"value\"\n",
    "sample_type_counts$category <- c(\"sample_type\",\"sample_type\")\n",
    "colnames(sample_type_counts)[1] <- \"value\"\n",
    "vital_status_counts$category <- c(\"vital_status\",\"vital_status\")\n",
    "colnames(vital_status_counts)[1] <- \"value\"\n",
    "# coombined 3 tables\n",
    "combined_counts <-rbind(gender_counts, sample_type_counts, vital_status_counts)\n",
    "combined_counts <- combined_counts[,c(\"category\",\"value\", \"n\")]\n",
    "combined_counts"
   ]
  },
  {
   "cell_type": "markdown",
   "id": "0c1e380b",
   "metadata": {},
   "source": [
    "### Data cleanup\n",
    "\n",
    "- The newly released gene expression quantification files were generated using STAR workflow, which were written in a different format compared to the previous version using HTSeq workflow. Therefore, we need to wirte our own merge function to merge RNA-seq counts data."
   ]
  },
  {
   "cell_type": "code",
   "execution_count": null,
   "id": "101e47f8",
   "metadata": {},
   "outputs": [],
   "source": [
    "# Define the function to merge all RNAseq quantification files into one datadrame\n",
    "merge_rna <-function(metadata, fdir){\n",
    "    filelist <- list.files(fdir, pattern=\"*.tsv$\", \n",
    "                        recursive = TRUE, full.names=TRUE)\n",
    "    for (i in 1:length(filelist)){\n",
    "        iname <- basename(filelist[i])\n",
    "        isamplename <- metadata[metadata$file_name==iname, \"sample\"]\n",
    "        idf <- read.csv(filelist[i], sep=\"\\t\", skip=1, header=TRUE)\n",
    "        # remove first 4 rows\n",
    "        remove <- 1:4\n",
    "        idf_subset <- idf[-remove, c(\"gene_id\",\"unstranded\")]\n",
    "        rm(idf)\n",
    "        names(idf_subset)[2] <- isamplename\n",
    "        #print(dim(idf_subset))\n",
    "        if (i==1){\n",
    "            combined_df <- idf_subset\n",
    "            rm(idf_subset)\n",
    "        } else {\n",
    "            combined_df <- merge(combined_df, idf_subset, by.x='gene_id', by.y=\"gene_id\", all=TRUE)\n",
    "            rm(idf_subset)\n",
    "        }\n",
    "    }\n",
    "    # remove certain gene ids\n",
    "    combined_df <- combined_df[!(grepl(\"PAR_Y\", combined_df$gene_id, fixed=TRUE)),]\n",
    "    # modify gene_id\n",
    "    combined_df$gene_id <- sapply(strsplit(combined_df$gene_id,\"\\\\.\"), `[`, 1)\n",
    "    # use gene_id as row names and remove gene_id column\n",
    "    rownames(combined_df) <- combined_df$gene_id\n",
    "    combined_df <- combined_df[,-which(names(combined_df) %in% c(\"gene_id\"))]\n",
    "    return(combined_df)\n",
    "}\n",
    "\n",
    "rnaCounts <-  merge_rna(metaMatrix.RNA, \"TCGA-CHOL_0406/RNAseq\")\n",
    "rnaCounts[1:5,]"
   ]
  },
  {
   "cell_type": "markdown",
   "id": "1dc0eff7",
   "metadata": {},
   "source": [
    "- Next block shows the number of genes in this dataframe"
   ]
  },
  {
   "cell_type": "code",
   "execution_count": null,
   "id": "9e77674b",
   "metadata": {},
   "outputs": [],
   "source": [
    "# show the number of genes in the rnaCounts dataset\n",
    "dim(rnaCounts)"
   ]
  },
  {
   "cell_type": "markdown",
   "id": "a528c82a",
   "metadata": {},
   "source": [
    "- A method of `gdcVoomNormalization()` performs TMM normalization using `edgeR package` (Robinson, McCarthy, and Smyth 2010) and further transforms the data by the voom method using `limma package` (Ritchie et al. 2015). We can transformt the expression counts using this method."
   ]
  },
  {
   "cell_type": "code",
   "execution_count": null,
   "id": "fcd15f86",
   "metadata": {},
   "outputs": [],
   "source": [
    "# Normalization of RNAseq data \n",
    "rnaExpr <- gdcVoomNormalization(counts = rnaCounts, filter = FALSE)"
   ]
  },
  {
   "cell_type": "markdown",
   "id": "061d8f6d",
   "metadata": {},
   "source": [
    "## Differential expression analysis\n",
    "\n",
    "Here, we use RNA-seq quantification data as an example to perform `differential gene expression analysis (DE)`using GDCRNATools package. The method we're using here is `DESeq2`, which uses the raw counts and models the normalization inside the Generalized Linear Model (GLM). Users have option to choose other DE analysis tools, including `edgeR and limma`. "
   ]
  },
  {
   "cell_type": "code",
   "execution_count": null,
   "id": "e994da16",
   "metadata": {},
   "outputs": [],
   "source": [
    "DEGAll_CHOL<- gdcDEAnalysis(counts = rnaCounts, \n",
    "                        group      = metaMatrix.RNA$sample_type, \n",
    "                        comparison = 'PrimaryTumor-SolidTissueNormal', \n",
    "                        method     = 'DESeq2',\n",
    "                        filter=TRUE)"
   ]
  },
  {
   "cell_type": "markdown",
   "id": "3076086b",
   "metadata": {},
   "source": [
    "- The next block shows first five lines of DE analysis output"
   ]
  },
  {
   "cell_type": "code",
   "execution_count": null,
   "id": "419529f9",
   "metadata": {},
   "outputs": [],
   "source": [
    "DEGAll_CHOL[1:5,]"
   ]
  },
  {
   "cell_type": "markdown",
   "id": "e32e5b4d",
   "metadata": {},
   "source": [
    "### DE analysis visualization\n",
    "\n",
    "\n",
    "- The `Volcano plot` is a scatterplot to visualize statistical significance (P value) versus magnitude of change (fold change). It allows quick identification of genes which shows large fold changes between groups and are also statistically significant."
   ]
  },
  {
   "cell_type": "code",
   "execution_count": null,
   "id": "a4176363",
   "metadata": {},
   "outputs": [],
   "source": [
    "gdcVolcanoPlot(DEGAll_CHOL)"
   ]
  },
  {
   "cell_type": "markdown",
   "id": "12c35a44",
   "metadata": {},
   "source": [
    "- The `Barplot` shows the composition of differntially expressed genes based on gene type."
   ]
  },
  {
   "cell_type": "code",
   "execution_count": null,
   "id": "126e9642",
   "metadata": {},
   "outputs": [],
   "source": [
    "gdcBarPlot(deg = DEGAll_CHOL, angle = 45, data.type = 'RNAseq')"
   ]
  },
  {
   "cell_type": "markdown",
   "id": "a64500ac",
   "metadata": {},
   "source": [
    "- Next step, we can filter out all the significant differentially expressed genes based on gene type.\n",
    "- Filtering criteria used are `fc = 2, pval = 0.01`."
   ]
  },
  {
   "cell_type": "code",
   "execution_count": null,
   "id": "5f44eeff",
   "metadata": {},
   "outputs": [],
   "source": [
    "# all DE genes passed filtering\n",
    "deALL_CHOL <- gdcDEReport(deg = DEGAll_CHOL, gene.type = 'all')\n",
    "\n",
    "# DE long-noncoding\n",
    "deLNC_CHOL <- gdcDEReport(deg = DEGAll_CHOL, gene.type = 'long_non_coding')\n",
    "\n",
    "# DE protein coding genes\n",
    "dePC_CHOL <- gdcDEReport(deg = DEGAll_CHOL, gene.type = 'protein_coding')"
   ]
  },
  {
   "cell_type": "markdown",
   "id": "76352b15",
   "metadata": {},
   "source": [
    "- A total of 361 protein coding genes were found differentially expressed between `PrimaryTumor` and `SolidTissueNormal` with statistical significance."
   ]
  },
  {
   "cell_type": "code",
   "execution_count": null,
   "id": "565281c8",
   "metadata": {},
   "outputs": [],
   "source": [
    "dim(dePC_CHOL)\n",
    "dim(deLNC_CHOL)"
   ]
  },
  {
   "cell_type": "markdown",
   "id": "158909a5",
   "metadata": {},
   "source": [
    "- Visualize a correlation between two genes in the `dePC_CHOL dataset`. Both genes were identified as `up-regulated` in the tumor tissue."
   ]
  },
  {
   "cell_type": "code",
   "execution_count": null,
   "id": "6748cb87",
   "metadata": {},
   "outputs": [],
   "source": [
    "gdcCorPlot(gene1    = \"ENSG00000103569\", \n",
    "           gene2    = \"ENSG00000118271\", \n",
    "           rna.expr = rnaExpr, \n",
    "           metadata = metaMatrix.RNA)"
   ]
  },
  {
   "cell_type": "markdown",
   "id": "97d931f8",
   "metadata": {},
   "source": [
    "## Functional enrichment analysis\n",
    "\n",
    "The method of `gdcEnrichAnalysis` is able to take the output of `gdcDEReport` as input and perform gene enrichment analysis."
   ]
  },
  {
   "cell_type": "code",
   "execution_count": null,
   "id": "a456bcaa",
   "metadata": {},
   "outputs": [],
   "source": [
    "enrichOutput <- gdcEnrichAnalysis(gene = rownames(deALL_CHOL), simplify = TRUE)"
   ]
  },
  {
   "cell_type": "code",
   "execution_count": null,
   "id": "2aa3ef82",
   "metadata": {
    "scrolled": true
   },
   "outputs": [],
   "source": [
    "enrichOutput[1:3,]"
   ]
  },
  {
   "cell_type": "markdown",
   "id": "08dc94aa",
   "metadata": {},
   "source": [
    "- Visualize the gene enrichment results as `barplot`"
   ]
  },
  {
   "cell_type": "code",
   "execution_count": null,
   "id": "c8870eb3",
   "metadata": {},
   "outputs": [],
   "source": [
    "# adjust the plot size\n",
    "options(repr.plot.width = 12, repr.plot.height = 8, repr.plot.res = 100)\n",
    "# plot result of gene enrichment analysis using KEGG category. \n",
    "gdcEnrichPlot(enrichOutput, type='bar', category='KEGG', num.terms = 20)"
   ]
  },
  {
   "cell_type": "code",
   "execution_count": null,
   "id": "5da4042f",
   "metadata": {},
   "outputs": [],
   "source": [
    "gdcEnrichPlot(enrichOutput, type='bar', category='GO_BP', num.terms = 20)"
   ]
  },
  {
   "cell_type": "markdown",
   "id": "df275cba",
   "metadata": {},
   "source": [
    "- Visualize the gene enrichment results as `bubble plot`"
   ]
  },
  {
   "cell_type": "code",
   "execution_count": null,
   "id": "aeb8e9f2",
   "metadata": {},
   "outputs": [],
   "source": [
    "# alternatively, user can visualize the gene enrichment results in bubble plot\n",
    "options(repr.plot.width = 12, repr.plot.height = 8, repr.plot.res = 100)\n",
    "gdcEnrichPlot(enrichOutput, type='bubble', category='KEGG', num.terms = 20)"
   ]
  },
  {
   "cell_type": "markdown",
   "id": "ade19fba",
   "metadata": {},
   "source": [
    "- The next block shows the top 5 of gene enrichment analysis results based on `gene ontology biological process` (GO_BP) \n",
    "- We observed a lot of differentially expressed gene involved in `fatty acid metabolic process`, `small molecule catabolic process`, `organic acid biosynthetic process`. Liver is the central organ for fatty acid metabolism. "
   ]
  },
  {
   "cell_type": "code",
   "execution_count": null,
   "id": "1e399c3b",
   "metadata": {
    "scrolled": true
   },
   "outputs": [],
   "source": [
    "enrichOutput[grep(\"GO_BP\", enrichOutput$Category),] %>% arrange( desc(Counts)) %>% head(5)"
   ]
  },
  {
   "cell_type": "markdown",
   "id": "b694e9fe",
   "metadata": {},
   "source": [
    "- The next block shows the top 5 of gene enrichment analysis results based on `Kyoto Encyclopedia of Genes and Genomes` (KEGG)\n",
    "- We observed the a lot of differentially expressed genes were enriched in `Complement and coagulation cascades`, `Drug metabolism`, `PPAR signaling pathway`, and `Cholesterol metabolism`."
   ]
  },
  {
   "cell_type": "code",
   "execution_count": null,
   "id": "560220b6",
   "metadata": {
    "scrolled": true
   },
   "outputs": [],
   "source": [
    "enrichOutput[grep(\"KEGG\", enrichOutput$Category),] %>% arrange(desc(Counts)) %>% head(5)"
   ]
  },
  {
   "cell_type": "markdown",
   "id": "6774fb8d",
   "metadata": {},
   "source": [
    "- In this gene enrichment output, few differentially expressed genes, such as apolipoprotein A2 (APOA2), apolipoprotein B (APOB), fibrinogen alpha chain (FGA), fibrinogen gamma chain (FGG), were previsouly reported to be nefatively correlated with the tumor stage of CCA patients. ([Li et al. 2019](https://pubmed.ncbi.nlm.nih.gov/31545466/))"
   ]
  },
  {
   "cell_type": "markdown",
   "id": "2b8409ff",
   "metadata": {},
   "source": [
    "## Univariate survival analysis\n",
    "\n",
    "- In this analysis, we uses Kaplan Meier(KM) method based on the `survival` R package. KM analysis divides patients into high-expression and low-expression groups by a user-defined threshold. We used `median` as the threshold in this analysis.\n",
    "- The next block shows how to conduct KM survival analysis using differentially expressed gene list, metadata, and normalized expression quantification dataframe."
   ]
  },
  {
   "cell_type": "code",
   "execution_count": null,
   "id": "df1058d9",
   "metadata": {},
   "outputs": [],
   "source": [
    "survOutput <- gdcSurvivalAnalysis(gene     = rownames(deALL_CHOL), \n",
    "                                  method   = 'KM', \n",
    "                                  rna.expr = rnaExpr, \n",
    "                                  metadata = metaMatrix.RNA, \n",
    "                                  sep      = 'median')"
   ]
  },
  {
   "cell_type": "markdown",
   "id": "f1c6d406",
   "metadata": {},
   "source": [
    "- Inspect the first five lines of survival analysis"
   ]
  },
  {
   "cell_type": "code",
   "execution_count": null,
   "id": "e2bf8ee0",
   "metadata": {},
   "outputs": [],
   "source": [
    "# Sort the output of univariate survival analysis based on pvalue\n",
    "survOutput$pValue <- as.numeric(survOutput$pValue)\n",
    "sorted_survOutput<- survOutput[order(survOutput$pValue),]\n",
    "sorted_survOutput[1:5,]"
   ]
  },
  {
   "cell_type": "markdown",
   "id": "0a0202a7",
   "metadata": {},
   "source": [
    "- The next block shows the KM survival plot using the top gene (ENSG00000123358) from survival analysis output."
   ]
  },
  {
   "cell_type": "code",
   "execution_count": null,
   "id": "37bb15e2",
   "metadata": {},
   "outputs": [],
   "source": [
    "# pick the most significant gene ENSG00000123358 for KM visualization\n",
    "gdcKMPlot(gene     = 'ENSG00000123358',\n",
    "          rna.expr = rnaExpr,\n",
    "          metadata = metaMatrix.RNA,\n",
    "          sep      = 'median')"
   ]
  }
 ],
 "metadata": {
  "kernelspec": {
   "display_name": "Python 3 (ipykernel)",
   "language": "python",
   "name": "python3"
  },
  "language_info": {
   "codemirror_mode": {
    "name": "ipython",
    "version": 3
   },
   "file_extension": ".py",
   "mimetype": "text/x-python",
   "name": "python",
   "nbconvert_exporter": "python",
   "pygments_lexer": "ipython3",
   "version": "3.9.7"
  }
 },
 "nbformat": 4,
 "nbformat_minor": 5
}
