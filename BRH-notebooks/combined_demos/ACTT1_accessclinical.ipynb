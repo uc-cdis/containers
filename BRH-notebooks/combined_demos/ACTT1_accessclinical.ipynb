{
 "cells": [
  {
   "cell_type": "markdown",
   "metadata": {},
   "source": [
    "# Survival Analysis with Cox Model Implementation using Adaptive COVID-19 Treatment Trial (ACTT) Data \n",
    "\n",
    "*Please note: This notebook uses controlled access data. Please make sure you have access to the study/data from the relevant data common(s)*    \n",
    "*Please note: Access Clinical Data - NIH Login in the BRH Profile Page needs to be authorized*\n",
    "\n",
    "\n",
    "Data Source: [NIAID Accessing NIAID Clinical Trials Data Commons](https://accessclinicaldata.niaid.nih.gov/NIAID-ACTT)  \n",
    "Related study publication: https://pubmed.ncbi.nlm.nih.gov/32445440/  \n",
    "Related clinical trial: https://clinicaltrials.gov/ct2/show/NCT04280705  \n",
    "  \n",
    "Fan Wang  \n",
    "June 20 2022  \n",
    "\n",
    "In this notebook, we explore the clinical data from Adaptive COVID-19 Treatment Trial (ACTT) to evaluate the clinical efficacy of remdesivir relative to the control arm in patients hospitalized with COVID-19 as assessed by the time to recovery. \n",
    "\n",
    "This notebook showcases the ability to do exploratory analysis within the NIAID Accessing NIAID Clinical Trials Data Commons. The analysis is not intended to constitute advice nor is it to be used as a substitute for decision making from a professional. The data used in this notebook is controlled access and can be shared securely by granting the users access to this data in the NIAID Clinical Trials Data Commons. Please note that the data used in this notebook is CONTROLLED ACCESS DATA, which would need access to project ACTT in [NIAID AccessClinicalData Commons](https://accessclinicaldata.niaid.nih.gov) for this notebook to run.\n"
   ]
  },
  {
   "cell_type": "markdown",
   "metadata": {},
   "source": [
    "## Table of contents\n",
    "1. Study design and data description.\n",
    "\n",
    "2. Demographic and clinical characteristics of the patients at baseline.\n",
    "\n",
    "3. Kaplan–Meier estimates of cumulative recoveries.\n",
    "\n",
    "4. Recovery rate ratios and hazard ratios calculated from the stratified Cox model.\n",
    "\n",
    "***"
   ]
  },
  {
   "cell_type": "markdown",
   "metadata": {},
   "source": [
    "## Study design and data description\n",
    "\n",
    "### 1. Study design \n",
    "ACTT-1 (Adaptive COVID-19 Treatment Trial) is an adaptive, randomized, double-blind, placebo-controlled trial to evaluate the safety and efficacy of remdesivir (200 mg loading dose on day 1, followed by 100 mg daily for up to\n",
    "9 additional days) in hospitalized adults diagnosed with COVID-19. Subjects will be assessed daily while hospitalized. If the subjects are discharged from the hospital, they will have a study visit at Days 15, 22, and 29. \n",
    "\n",
    "The primary outcome is time to recovery by Day 29. The primary analysis will include data from both severity groups using a stratified log-rank test. A key secondary outcome evaluates treatment-related improvements in the 8-point ordinal scale at Day 15. As little is known about the clinical course of COVID-19, an evaluation of the pooled (i.e., blinded to treatment assignment) proportion recovered will be used to gauge whether the targeted total number of\n",
    "subjects in the recovered categories of the ordinal scale will be achieved with the planned sample size. The analysis of the pilot data will be blinded, allowing for the pilot data to be included in subsequent analyses. \n",
    "\n",
    "### 2. Import packages\n",
    "We’ll first import all the packages that we need for this notebook:\n",
    "* `numpy` is the fundamental package for scientific computing in python.\n",
    "* `pandas` is what we’ll use to manipulate our data.\n",
    "* `matplotlib` is a plotting library.\n",
    "* `tableone` is a package for creating summary statistics for a patient population.\n",
    "* `lifelines` is an open-source survival analysis library."
   ]
  },
  {
   "cell_type": "code",
   "execution_count": null,
   "metadata": {},
   "outputs": [],
   "source": [
    "import zipfile\n",
    "import pandas as pd\n",
    "import numpy as np\n",
    "import warnings\n",
    "warnings.simplefilter(\"ignore\")\n",
    "%config InlineBackend.figure_format = 'svg'\n",
    "%matplotlib inline\n",
    "from tableone import TableOne, load_dataset\n",
    "import matplotlib.pyplot as plt\n",
    "import statistics\n",
    "from lifelines import KaplanMeierFitter, CoxPHFitter\n",
    "from lifelines.statistics import logrank_test\n",
    "from lifelines.plotting import add_at_risk_counts\n",
    "from patsy import dmatrices\n",
    "from scipy import stats\n",
    "import string"
   ]
  },
  {
   "cell_type": "markdown",
   "metadata": {},
   "source": [
    "Please make sure to download the `credentials.json` from https://accessclinicaldata.niaid.nih.gov/identity and upload to working directory of this notebook. "
   ]
  },
  {
   "cell_type": "code",
   "execution_count": null,
   "metadata": {},
   "outputs": [],
   "source": [
    "!gen3 --endpoint accessclinicaldata.niaid.nih.gov --auth credentials-4.json drs-pull object dg.NACD/e77ab887-7dfc-4c3b-879f-5e2c2dc0bc5f --no-unpack-packages"
   ]
  },
  {
   "cell_type": "code",
   "execution_count": null,
   "metadata": {},
   "outputs": [],
   "source": [
    "path_to_zip_file =\"ACTT1_Datasets.zip\"\n",
    "\n",
    "with zipfile.ZipFile(path_to_zip_file, 'r') as zip_ref:\n",
    "    zip_ref.extractall()"
   ]
  },
  {
   "cell_type": "markdown",
   "metadata": {},
   "source": [
    "Load the Dataset:"
   ]
  },
  {
   "cell_type": "code",
   "execution_count": null,
   "metadata": {},
   "outputs": [],
   "source": [
    "data = pd.read_csv(\"ACTT1_Datasets/ACTT_1_original/ACTT1.csv\")\n",
    "data.head()"
   ]
  },
  {
   "cell_type": "markdown",
   "metadata": {},
   "source": [
    "### 3. Data description \n",
    "\n",
    "\n",
    "#### Demographic characteristics:\n",
    "* `USUBJID`: Subject ID.\n",
    "* `TRTP`: Treatment group.\n",
    "* `AGE`: Age (<40; 40-64; 65 and older). \n",
    "* `SEX`: Sex (Female; Male).\n",
    "* `RACE`: Race (White; Black/African American; Asian; Other).\n",
    "* `ETHNIC`: Ethnic.\n",
    "* `BMI`: BMI.\n",
    "* `REGION`: Geographic region (North American sites; Asian sites; European sites).\n",
    "* `STRATUM`: Disease severity. \"Severe disease\" was defined as participants meeting one or more of the following criteria: requiring invasive or non-invasive mechanical ventilation, requiring supplemental oxygen, an SpO2 ≤ 94% on room air, or tachypnea (respiratory rate ≥ 24 breaths per minute). \"Mild / moderate disease\" was defined by a SpO2 > 94% and respiratory rate < 24 breaths per minute without supplemental oxygen requirement.\n",
    "* `ORDSCRG`: Baseline ordinal scale category (4; 5; 6; 7). \n",
    "* `BDURSYMP`: Duration of symptoms prior to enrollment.\n",
    "\n",
    "\n",
    "#### Prior and concurrent medical conditions:\n",
    "* `HYPFL`: Hypertension.\n",
    "* `CADFL`: Coronary artery disease.\t\n",
    "* `CHFFL`: Congestive heart failure.\t\n",
    "* `CRDFL`: Chronic respiratory disease.\t\n",
    "* `CORFL`: Chronic oxygen requirement.\t\n",
    "* `CLDFL`: Chronic liver disease\t\n",
    "* `CKDFL`: Chronic kidney disease.\t\n",
    "* `DIAB1FL`: Diabetes I.\n",
    "* `DIAB2FL`: Diabetes II.\n",
    "* `OBESIFL`: Obesity.\n",
    "* `CANCERFL`: Cancer.\t\n",
    "* `IMMDFL`: Immune deficiency.\t\n",
    "* `ASTHMAFL`: Asthma.\t\n",
    "* `COMORB1`: Comorbidity presence (None; Any).\n",
    "* `COMORB2`: Comorbidity number (None, One, Two or more).\n",
    "\n",
    "\n",
    "#### Baseline characteristics:\n",
    "* `STRATUM`: Disease severity. \"Severe disease\" was defined as participants meeting one or more of the following criteria: requiring invasive or non-invasive mechanical ventilation, requiring supplemental oxygen, an SpO2 ≤ 94% on room air, or tachypnea (respiratory rate ≥ 24 breaths per minute). \"Mild / moderate disease\" was defined by a SpO2 > 94% and respiratory rate < 24 breaths per minute without supplemental oxygen requirement.\n",
    "* `ORDSCRG`: Baseline ordinal scale category (4; 5; 6; 7). \n",
    "* `BDURSYMP`: Duration of symptoms prior to enrollment.\n",
    "* `ORDSCR15`: The 8-point ordinal clinical status scale at Day 15.\n",
    "\n",
    "\n",
    "#### Primary measures:\n",
    "* `TTRECOV`: Time to recovery.\n",
    "* `RECCNSR`: Recovery censored.\n",
    "* `TTDEATH`: Time to death.\n",
    "* `DTHCNSR`: Death censored."
   ]
  },
  {
   "cell_type": "markdown",
   "metadata": {},
   "source": [
    "## Demographic and Baseline Characteristics by Treatment Group \n",
    "Subject screening will begin with a brief discussion with study staff. Some will be excluded based on demographic data and medical history (i.e., pregnant, < 18 years of age, renal failure, etc.). In order to be eligible to participate in this study, a patient must meet all of the required criteria. Please find the additional study procedures details [Here](https://clinicaltrials.gov/ProvidedDocs/05/NCT04280705/Prot_001.pdf).\n",
    "\n",
    "In the below table, summaries of age, sex, race, ethnicity, comorbidity and baseline clinical status score is presented by treatment groups."
   ]
  },
  {
   "cell_type": "code",
   "execution_count": null,
   "metadata": {},
   "outputs": [],
   "source": [
    "columns = [\n",
    "    \"AGE\",\n",
    "    \"SEX\",\n",
    "    \"RACE\",\n",
    "    \"ETHNIC\",\n",
    "    \"COMORB2\",\n",
    "    \"DIAB2FL\",\n",
    "    \"HYPFL\",\n",
    "    \"OBESIFL\",\n",
    "    \"ORDSCRG\",\n",
    "]\n",
    "categorical = [\n",
    "    \"SEX\",\n",
    "    \"RACE\",\n",
    "    \"ETHNIC\",\n",
    "    \"COMORB2\",\n",
    "    \"DIAB2FL\",\n",
    "    \"HYPFL\",\n",
    "    \"OBESIFL\",\n",
    "    \"ORDSCRG\",\n",
    "]\n",
    "groupby = [\"TRTP\"]\n",
    "labels = {\n",
    "    \"AGE\": \"Age\",\n",
    "    \"SEX\": \"Sex\",\n",
    "    \"RACE\": \"Race\",\n",
    "    \"ETHNIC\": \"Ethnic group\",\n",
    "    \"COMORB2\": \"No. of coexisting conditions\",\n",
    "    \"DIAB2FL\": \"Type 2 diabetes\",\n",
    "    \"HYPFL\": \"Hypertension\",\n",
    "    \"OBESIFL\": \"Obesity\",\n",
    "    \"ORDSCRG\": \"Score on ordinal scale\",\n",
    "}\n",
    "mytable = TableOne(\n",
    "    data,\n",
    "    columns=columns,\n",
    "    categorical=categorical,\n",
    "    groupby=groupby,\n",
    "    rename=labels,\n",
    "    pval=False,\n",
    ")\n",
    "mytable"
   ]
  },
  {
   "cell_type": "markdown",
   "metadata": {},
   "source": [
    "#### Summary of findings:\n",
    "\n",
    "1. The mean age of the patients was 58.9 years, and 64.4% were male. \n",
    "\n",
    "2. On the basis of the evolving epidemiology of Covid-19 during the trial, 79.8% of patients were enrolled at sites in North America, 15.3% in Europe, and 4.9% in Asia.\n",
    "\n",
    "3. Overall, 53.3% of the patients were White, 21.3% were Black, 12.7% were Asian, and 12.7% were designated as other or not reported; 250 (23.5%) were Hispanic or Latino. \n",
    "\n",
    "4. Most patients had either one (25.9%) or two or more (54.5%) of the prespecified coexisting conditions at enrollment, most commonly hypertension (50.2%), obesity (44.8%), and type 2 diabetes mellitus (30.3%).\n",
    "\n",
    "5. A total of 957 patients (90.1%) had severe disease at enrollment; 285 patients (26.8%) met category 7 criteria on the ordinal scale, 193 (18.2%) category 6, 435 (41.0%) category 5, and 138 (13.0%) category 4. Eleven patients (1.0%) had missing ordinal scale data at enrollment."
   ]
  },
  {
   "cell_type": "markdown",
   "metadata": {},
   "source": [
    "## Kaplan–Meier Estimates of Cumulative Recoveries\n",
    "### 1. Kaplan–Meier Estimates (and 95% confidence bands) of Cumulative Recoveries in the Overall Population\n",
    "The Kaplan-Meier estimator is used to estimate the survival function. It measures the fraction of subjects who survived for a certain amount of survival time  𝑡 . Here, we apply the standard Kaplan–Meier method for estimating the time to recovery for both Remdesivir group and Placebo group in the overall population."
   ]
  },
  {
   "cell_type": "code",
   "execution_count": null,
   "metadata": {},
   "outputs": [],
   "source": [
    "ix = data[\"TRTP\"] == \"Placebo\"\n",
    "\n",
    "ax = plt.subplot(111)\n",
    "\n",
    "kmf_exp = KaplanMeierFitter()\n",
    "ax = kmf_exp.fit(\n",
    "    data.loc[~ix][\"TTRECOV\"],\n",
    "    (1 - data.loc[~ix][\"RECCNSR\"]),\n",
    "    label=\"Remdesivir\",\n",
    "    timeline=range(0, 29),\n",
    ").plot_cumulative_density(ax=ax)\n",
    "\n",
    "kmf_control = KaplanMeierFitter()\n",
    "ax = kmf_control.fit(\n",
    "    data.loc[ix][\"TTRECOV\"],\n",
    "    (1 - data.loc[ix][\"RECCNSR\"]),\n",
    "    label=\"Placebo\",\n",
    "    timeline=range(0, 29),\n",
    ").plot_cumulative_density(ax=ax)\n",
    "ax.set_title(\"Overall Kaplan-Meier Estimates of Cumulative Recoveries\")\n",
    "ax.set_xlabel(\"Days\", fontsize=10)\n",
    "ax.set_ylabel(\"Proportion Recovered\", fontsize=10)\n",
    "ax.xaxis.set_ticks(np.arange(0, 29, 2))\n",
    "ax.set_ylim(0, 1)\n",
    "\n",
    "from lifelines.plotting import add_at_risk_counts\n",
    "\n",
    "#add_at_risk_counts(kmf_exp, kmf_control, ax=ax, rows_to_show=['At risk'])\n",
    "add_at_risk_counts(kmf_exp, kmf_control, ax=ax)"
   ]
  },
  {
   "cell_type": "markdown",
   "metadata": {},
   "source": [
    "### 2. Kaplan–Meier Estimates (and 95% confidence bands) of Cumulative Recoveries by Baseline Ordinal Scale\n",
    "Panel A shows the estimates (and 95% confidence bands) in the population with baseline ordinal scale = 4; \n",
    "Panel B in those with baseline ordinal scale = 5;\n",
    "Panel C in those with baseline ordinal scale = 6; \n",
    "Panel D in those with baseline ordinal scale = 7."
   ]
  },
  {
   "cell_type": "code",
   "execution_count": null,
   "metadata": {
    "scrolled": true
   },
   "outputs": [],
   "source": [
    "group1 = data[data[\"TRTP\"] == \"Remdesivir\"]\n",
    "group2 = data[data[\"TRTP\"] == \"Placebo\"]\n",
    "T = group1[\"TTRECOV\"]\n",
    "E = group1[\"RECCNSR\"]\n",
    "T1 = group2[\"TTRECOV\"]\n",
    "E1 = group2[\"RECCNSR\"]\n",
    "\n",
    "clinical_status_list = [x for x in data[\"ORDSCRG\"].unique().tolist() if str(x) != \"nan\"]\n",
    "clinical_status_list.sort()\n",
    "fig, axes = plt.subplots(2, 2, figsize=(9, 7), constrained_layout=True)\n",
    "fig.suptitle(\n",
    "    \"Kaplan–Meier Estimates of Cumulative Recoveries in Patients with Various Baseline Scores\",\n",
    "    fontsize=12,\n",
    ")\n",
    "axes = axes.reshape(4,)\n",
    "\n",
    "for i, clinical_status in enumerate(clinical_status_list):\n",
    "\n",
    "    ix = data[\"ORDSCRG\"] == clinical_status\n",
    "    kmf_control = KaplanMeierFitter()\n",
    "    kmf_exp = KaplanMeierFitter()\n",
    "    ax = kmf_exp.fit(\n",
    "        T[ix], (1 - E[ix]), label=\"Remdesivir\", timeline=range(0, 29)\n",
    "    ).plot_cumulative_density(ax=axes[i])\n",
    "    ax = kmf_control.fit(\n",
    "        T1[ix], (1 - E1[ix]), label=\"Placebo\", timeline=range(0, 29)\n",
    "    ).plot_cumulative_density(ax=axes[i])\n",
    "    ax.set_title(clinical_status, fontsize=10)\n",
    "    ax.set_xlabel(\"Days\", fontsize=9)\n",
    "    ax.set_ylabel(\"Proportion Recovered\", fontsize=9)\n",
    "    ax.xaxis.set_ticks(np.arange(0, 29, 2))\n",
    "    ax.set_ylim(0, 1)\n",
    "    ax.text(\n",
    "        -0.1,\n",
    "        1.1,\n",
    "        string.ascii_uppercase[i],\n",
    "        transform=ax.transAxes,\n",
    "        size=10,\n",
    "        weight=\"bold\",\n",
    "    )"
   ]
  },
  {
   "cell_type": "markdown",
   "metadata": {},
   "source": [
    "#### Summary of findings:\n",
    "Patients in the remdesivir group had a shorter time to recovery than patients in the placebo group. "
   ]
  },
  {
   "cell_type": "markdown",
   "metadata": {},
   "source": [
    "## Stratified Cox Proportional Hazards Model to Estimate Time to Recovery According to Subgroup\n",
    "Cox Proportional Hazards Model is a semi-parametric model in the sense that the baseline hazard function does not have to be specified i.e it can vary, allowing a different parameter to be used for each unique survival time. But, it assumes that the rate ratio remains proportional throughout the studied period. This results in increased flexibility of the model. A fully-parametric proportional hazards model also assumes that the baseline hazard function can be parameterized according to a particular model for the distribution of the survival times.\n",
    "\n",
    "Here we calculate the hazard ratios using the stratified Cox model. Run the following cell to fit the Cox Proportional Hazards model using the `lifelines` package.\n",
    "\n",
    "\n",
    "Data Wrangling:"
   ]
  },
  {
   "cell_type": "code",
   "execution_count": null,
   "metadata": {
    "scrolled": true
   },
   "outputs": [],
   "source": [
    "di_race = {\n",
    "    \"WHITE\": \"White\",\n",
    "    \"BLACK OR AFRICAN AMERICAN\": \"Black\",\n",
    "    \"ASIAN\": \"Asian\",\n",
    "    \"UNKNOWN\": \"Other\",\n",
    "    \"AMERICAN INDIAN OR ALASKA NATIVE\": \"Other\",\n",
    "    \"MULTIPLE\": \"Other\",\n",
    "    \"NATIVE HAWAIIAN OR OTHER PACIFIC ISLANDER\": \"Other\",\n",
    "}\n",
    "di_ethnic = {\n",
    "    \"HISPANIC OR LATINO\": \"Hispanic or Latino\",\n",
    "    \"NOT HISPANIC OR LATINO\": \"Not Hispanic or Latino\",\n",
    "    \"UNKNOWN\": \"Unknown\",\n",
    "    \"NOT REPORTED\": \"Unknown\",\n",
    "}\n",
    "di_sex = {\"M\": \"Male\", \"F\": \"Female\"}\n",
    "\n",
    "data1 = data.replace({\"RACE\": di_race, \"ETHNIC\": di_ethnic, \"SEX\": di_sex})\n",
    "age_category = pd.cut(\n",
    "    data1.AGE, bins=[18, 40, 65, 95], labels=[\"18 to <40 yr\", \"40 to <65 yr\", \"≥65 yr\"]\n",
    ")\n",
    "data1[\"AGE\"] = age_category\n",
    "\n",
    "symp_category = pd.cut(\n",
    "    data1.BDURSYMP, bins=[0, 10, 46], labels=[\"≤10 days\", \">10 days\"]\n",
    ")\n",
    "symp_category = symp_category.cat.add_categories([\"Unknown\"])\n",
    "data1[\"BDURSYMP\"] = symp_category\n",
    "data1.loc[data1[\"BDURSYMP\"].isnull() == True, \"BDURSYMP\"] = \"Unknown\"\n",
    "\n",
    "model_expr = \"TTRECOV ~  STRATUM + TTRECOV + C(REGION) + C(RACE) + C(ETHNIC) + C(AGE) + C(SEX) + C(BDURSYMP) + C(ORDSCRG) + RECCNSR\"\n",
    "\n",
    "y, X = dmatrices(model_expr, data1, return_type=\"dataframe\")\n",
    "X = X[X.columns.drop(list(X.filter(regex=\"Unknown\")))]\n",
    "X.head()"
   ]
  },
  {
   "cell_type": "markdown",
   "metadata": {},
   "source": [
    "Create Model and fit the data to train the model:"
   ]
  },
  {
   "cell_type": "code",
   "execution_count": null,
   "metadata": {},
   "outputs": [],
   "source": [
    "warnings.simplefilter(\"ignore\")\n",
    "cph = CoxPHFitter()\n",
    "cph.fit(\n",
    "    df=X,\n",
    "    duration_col=\"TTRECOV\",\n",
    "    event_col=\"RECCNSR\",\n",
    "    strata=[\"STRATUM[T.Severe Disease]\"],\n",
    ")\n",
    "# Plot the HR\n",
    "cph.plot(hazard_ratios=True)"
   ]
  },
  {
   "cell_type": "code",
   "execution_count": null,
   "metadata": {},
   "outputs": [],
   "source": [
    "# Have a look at the significance of the features\n",
    "cph.print_summary()"
   ]
  },
  {
   "cell_type": "markdown",
   "metadata": {},
   "source": [
    "### Summary\n",
    "This notebook replicates the analysis in a recently published randomized comparative trial evaluating remdesivir treatment for COVID-19. In the workspace of NIAID Clinical Trials Data Commons, researchers can apply the commonly used survival analysis techniques, such as the Kaplan–Meier method, Cox model, hazard ratio method, etc. Clinical investigators are encouraged to consider applying these methods for quantifying treatment effects in future studies of COVID-19 using NIAID Clinical Trials Data Commons."
   ]
  }
 ],
 "metadata": {
  "kernelspec": {
   "display_name": "Python 3 (ipykernel)",
   "language": "python",
   "name": "python3"
  },
  "language_info": {
   "codemirror_mode": {
    "name": "ipython",
    "version": 3
   },
   "file_extension": ".py",
   "mimetype": "text/x-python",
   "name": "python",
   "nbconvert_exporter": "python",
   "pygments_lexer": "ipython3",
   "version": "3.9.7"
  }
 },
 "nbformat": 4,
 "nbformat_minor": 4
}
