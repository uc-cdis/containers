{
 "cells": [
  {
   "cell_type": "markdown",
   "id": "f64e81cf",
   "metadata": {},
   "source": [
    "*Please note: This notebook uses open access data*  \n",
    "*Please note: CANINE Google Login in the BRH Profile Page needs to be authorized*\n",
    "\n",
    "\n",
    "## Installing Gen3 SDK client and import modules\n",
    "\n",
    "\n"
   ]
  },
  {
   "cell_type": "code",
   "execution_count": 1,
   "id": "bebc7d18",
   "metadata": {
    "scrolled": true
   },
   "outputs": [],
   "source": [
    "from gen3.file import Gen3File\n",
    "from gen3.query import Gen3Query\n",
    "from gen3.auth import Gen3Auth\n",
    "from gen3.submission import Gen3Submission\n",
    "from gen3.index import Gen3Index"
   ]
  },
  {
   "cell_type": "markdown",
   "id": "a1e47f24",
   "metadata": {},
   "source": [
    "## Setting up data common access"
   ]
  },
  {
   "cell_type": "code",
   "execution_count": 2,
   "id": "36d031ee",
   "metadata": {
    "scrolled": true
   },
   "outputs": [],
   "source": [
    "endpoint = \"https://caninedc.org\"\n",
    "auth = Gen3Auth(endpoint, refresh_file = \"/home/jovyan/.gen3/credentials.json\")\n",
    "sub = Gen3Submission(endpoint, auth)\n",
    "file = Gen3File(endpoint, auth)"
   ]
  },
  {
   "cell_type": "markdown",
   "id": "4951756f",
   "metadata": {},
   "source": [
    "## Sample code to pull programs and projects"
   ]
  },
  {
   "cell_type": "code",
   "execution_count": 3,
   "id": "7526bf93",
   "metadata": {
    "scrolled": true
   },
   "outputs": [
    {
     "data": {
      "text/plain": [
       "{'links': ['/v0/submission/Canine']}"
      ]
     },
     "execution_count": 3,
     "metadata": {},
     "output_type": "execute_result"
    }
   ],
   "source": [
    "sub.get_programs()"
   ]
  },
  {
   "cell_type": "markdown",
   "id": "6a63643c",
   "metadata": {},
   "source": [
    "If the above returns {'links': []}, skip the next cell."
   ]
  },
  {
   "cell_type": "code",
   "execution_count": 5,
   "id": "727e5feb",
   "metadata": {
    "scrolled": true
   },
   "outputs": [
    {
     "data": {
      "text/plain": [
       "{'links': ['/v0/submission/Canine/Korean_DongGyeongi',\n",
       "  '/v0/submission/Canine/Osteosarcoma',\n",
       "  '/v0/submission/Canine/Cornell_GWAS',\n",
       "  '/v0/submission/Canine/Mizzou_Comparative_Resequencing',\n",
       "  '/v0/submission/Canine/Glioma',\n",
       "  '/v0/submission/Canine/Bladder_cancer',\n",
       "  '/v0/submission/Canine/melanoma',\n",
       "  '/v0/submission/Canine/B_cell_lymphoma',\n",
       "  '/v0/submission/Canine/Non-Hodgkin_lymphoma',\n",
       "  '/v0/submission/Canine/NHGRI',\n",
       "  '/v0/submission/Canine/PMed_trial']}"
      ]
     },
     "execution_count": 5,
     "metadata": {},
     "output_type": "execute_result"
    }
   ],
   "source": [
    "sub.get_projects(\"Canine\")"
   ]
  },
  {
   "cell_type": "markdown",
   "id": "2a6d83d6",
   "metadata": {},
   "source": [
    "## Use gen3 sdk to download a sample fastq file (guid provided)"
   ]
  },
  {
   "cell_type": "code",
   "execution_count": 6,
   "id": "6ab00d02",
   "metadata": {
    "scrolled": true
   },
   "outputs": [
    {
     "name": "stdout",
     "output_type": "stream",
     "text": [
      "[2022-08-19 14:48:00,347][WARNING] Exceeded number of retries, unable to write to cache file.\n"
     ]
    }
   ],
   "source": [
    "!gen3 drs-pull object dg.C78ne/4527012c-3a5f-481d-820c-da7b77a26b48"
   ]
  },
  {
   "cell_type": "code",
   "execution_count": 7,
   "id": "c73a1366",
   "metadata": {
    "scrolled": true
   },
   "outputs": [],
   "source": [
    "!gunzip SRR7012463_1.fastq.gz"
   ]
  },
  {
   "cell_type": "markdown",
   "id": "ae4888ad",
   "metadata": {},
   "source": [
    "## Use Bioinfokit to read the fastq file, get information such as sequence, base count etc."
   ]
  },
  {
   "cell_type": "code",
   "execution_count": 9,
   "id": "a0a6fea3",
   "metadata": {
    "scrolled": true
   },
   "outputs": [
    {
     "name": "stdout",
     "output_type": "stream",
     "text": [
      "CGCGGATCCTGAGAGAAATGGATCAAGAAGAGGAGGAAGAATAATTGTAAA BBBFFFBFFFFFFFIFFFFIIFIIIFIIFFFFIBFFBF7FBFBBFBF7BF# {'A': 22, 'C': 5, 'G': 16, 'T': 8}\n",
      "CGAGAGGGAACGTCGAGTCAGGGACACAGCAAAGCTCCACAGGCAGGGAGG BBBFFFFBFFFFFFFFFIIIIFFFIFIIIFFFFIIIBFBFIBFIFI##### {'A': 16, 'C': 12, 'G': 20, 'T': 3}\n",
      "GCGATGTTCTTCAGCCCTGCACGGTACTCCAGTCGCACAGACTCCAACCAC BBBFFFFFFFFFFIIIIIIIIIIIBFFIIIIIFFIIIIIIIIIIIIIIFII {'A': 11, 'C': 20, 'G': 10, 'T': 10}\n",
      "CTGCTTACCAAAAGTGGCCCACTAGGCACTCGCATTCCACGCCCGGCTCCA BBBFFFFFFFFFFIFFFIIIFIFFFIIIIIIIIIIIIIFFFFFIIIIIBFF {'A': 11, 'C': 21, 'G': 10, 'T': 9}\n",
      "CCGGGTCAGTGAAAAACGATAAGAGTAGTGGTATTTCACCGGCGGCCCGCA BBBFFFFFFFF<<BBBBFBFFBFBF<BFBFFBBFIF<B<7FF'BF7<BB<B {'A': 14, 'C': 12, 'G': 16, 'T': 9}\n",
      "CTGGGCTTTAGGCCCCAGAAAGCAGGAGAAAAGGACCAGCGCTGGTGAAAC BBBFFFFFFFFFBFFIBFFBFFFFFIFIBFFIIFFFFFBFFIIIIIIBBFB {'A': 16, 'C': 12, 'G': 17, 'T': 6}\n",
      "CCGTCCCTCTCGCGCGCGTCACCGACTGCCAGCGACGGCCGGGTATGGGCC BBBFFFFFFFFFFIIIIIIFFIIIIIIIIIIIIFBF<BBBFBF77BFB0BB {'A': 5, 'C': 22, 'G': 17, 'T': 7}\n",
      "CTCCTGGTCATTCCGAAACCACCGGACTTTGATCTGGCCTGGATAGAAATC BBBFFFFFFFFFFIIIIIIFFFFFIIIIIIIFIIIIIIIIFIBFFFFFBFB {'A': 12, 'C': 15, 'G': 11, 'T': 13}\n",
      "GCCACTGTTGAGATGAAAGTCACGGAGATGGCCAGGGTGACGCTCCCTTCA <00<<BBFB0B<FFBBBFFBIB0'BFB<'0'0<B0<F<BB'B######### {'A': 12, 'C': 13, 'G': 16, 'T': 10}\n",
      "CTTCTTCTCCTTTAAGTCCTTGGTGGTGATCTCGGAGCTGGTGTCCACGGC BBBFFFFFFFFFFIFI<FBFFFBFFFFBFFFIIIFIIIIFF<BFFBFFFIB {'A': 5, 'C': 14, 'G': 14, 'T': 18}\n"
     ]
    }
   ],
   "source": [
    "from bioinfokit.analys import fastq\n",
    "records = fastq.fastq_reader(file='SRR7012463_1.fastq')\n",
    "# read fastq file\n",
    "counter = 0\n",
    "for record in records:                       # only process first ten records for demo purpose\n",
    "    if counter < 10:\n",
    "        _, sequence, _, quality = record     # process sequence, headers and related info\n",
    "        base_count = {}\n",
    "        base_count['A'] = sequence.count('A')\n",
    "        base_count['C'] = sequence.count('C')\n",
    "        base_count['G'] = sequence.count('G')\n",
    "        base_count['T'] = sequence.count('T')\n",
    "        print(sequence, quality, base_count)\n",
    "    else: break\n",
    "    counter += 1"
   ]
  },
  {
   "cell_type": "markdown",
   "id": "b0e56d6c",
   "metadata": {},
   "source": [
    "Above code snippet prints out basic information from FASTQ file, such as sequence, quality and base counts. For detailed fastq file format information, https://support.illumina.com/bulletins/2016/04/fastq-files-explained.html"
   ]
  }
 ],
 "metadata": {
  "kernelspec": {
   "display_name": "Python 3 (ipykernel)",
   "language": "python",
   "name": "python3"
  },
  "language_info": {
   "codemirror_mode": {
    "name": "ipython",
    "version": 3
   },
   "file_extension": ".py",
   "mimetype": "text/x-python",
   "name": "python",
   "nbconvert_exporter": "python",
   "pygments_lexer": "ipython3",
   "version": "3.9.7"
  }
 },
 "nbformat": 4,
 "nbformat_minor": 5
}
