{
 "cells": [
  {
   "cell_type": "markdown",
   "id": "f64e81cf",
   "metadata": {},
   "source": [
    "## Installing Gen3 SDK client and import modules"
   ]
  },
  {
   "cell_type": "code",
   "execution_count": null,
   "id": "55b9b944",
   "metadata": {
    "scrolled": false
   },
   "outputs": [],
   "source": [
    "!pip install gen3"
   ]
  },
  {
   "cell_type": "code",
   "execution_count": 2,
   "id": "bebc7d18",
   "metadata": {
    "scrolled": true
   },
   "outputs": [],
   "source": [
    "from gen3.file import Gen3File\n",
    "from gen3.query import Gen3Query\n",
    "from gen3.auth import Gen3Auth\n",
    "from gen3.submission import Gen3Submission\n",
    "from gen3.index import Gen3Index"
   ]
  },
  {
   "cell_type": "markdown",
   "id": "a1e47f24",
   "metadata": {},
   "source": [
    "## Setting up data common access"
   ]
  },
  {
   "cell_type": "code",
   "execution_count": 3,
   "id": "36d031ee",
   "metadata": {
    "scrolled": true
   },
   "outputs": [],
   "source": [
    "endpoint = \"https://caninedc.org/\"\n",
    "auth = Gen3Auth(endpoint, refresh_file = \"/home/jovyan/.gen3/credentials.json\")\n",
    "sub = Gen3Submission(endpoint, auth)\n",
    "file = Gen3File(endpoint, auth)"
   ]
  },
  {
   "cell_type": "markdown",
   "id": "4951756f",
   "metadata": {},
   "source": [
    "## Sample code to pull programs and projects"
   ]
  },
  {
   "cell_type": "code",
   "execution_count": 4,
   "id": "7526bf93",
   "metadata": {
    "scrolled": true
   },
   "outputs": [
    {
     "data": {
      "text/plain": [
       "{'links': ['/v0/submission/Canine']}"
      ]
     },
     "execution_count": 4,
     "metadata": {},
     "output_type": "execute_result"
    }
   ],
   "source": [
    "sub.get_programs()"
   ]
  },
  {
   "cell_type": "markdown",
   "id": "6a63643c",
   "metadata": {},
   "source": [
    "If the above returns {'links': []}, skip the next cell."
   ]
  },
  {
   "cell_type": "code",
   "execution_count": 5,
   "id": "727e5feb",
   "metadata": {
    "scrolled": true
   },
   "outputs": [
    {
     "data": {
      "text/plain": [
       "{'links': ['/v0/submission/Canine/Korean_DongGyeongi',\n",
       "  '/v0/submission/Canine/Osteosarcoma',\n",
       "  '/v0/submission/Canine/Cornell_GWAS',\n",
       "  '/v0/submission/Canine/Mizzou_Comparative_Resequencing',\n",
       "  '/v0/submission/Canine/Glioma',\n",
       "  '/v0/submission/Canine/Bladder_cancer',\n",
       "  '/v0/submission/Canine/melanoma',\n",
       "  '/v0/submission/Canine/B_cell_lymphoma',\n",
       "  '/v0/submission/Canine/Non-Hodgkin_lymphoma',\n",
       "  '/v0/submission/Canine/NHGRI',\n",
       "  '/v0/submission/Canine/PMed_trial']}"
      ]
     },
     "execution_count": 5,
     "metadata": {},
     "output_type": "execute_result"
    }
   ],
   "source": [
    "sub.get_projects(\"Canine\")"
   ]
  },
  {
   "cell_type": "markdown",
   "id": "2a6d83d6",
   "metadata": {},
   "source": [
    "## Use gen3 sdk to download a sample fastq file (guid provided)"
   ]
  },
  {
   "cell_type": "code",
   "execution_count": null,
   "id": "6ab00d02",
   "metadata": {
    "scrolled": true
   },
   "outputs": [],
   "source": [
    "!gen3 drs-pull object dg.C78ne/4527012c-3a5f-481d-820c-da7b77a26b48"
   ]
  },
  {
   "cell_type": "code",
   "execution_count": null,
   "id": "c73a1366",
   "metadata": {
    "scrolled": true
   },
   "outputs": [],
   "source": [
    "!gunzip SRR7012463_1.fastq.gz"
   ]
  },
  {
   "cell_type": "markdown",
   "id": "ae4888ad",
   "metadata": {},
   "source": [
    "## Use Bioinfokit to read the fastq file, get information such as sequence, base count etc."
   ]
  },
  {
   "cell_type": "code",
   "execution_count": null,
   "id": "00a28230",
   "metadata": {
    "scrolled": true
   },
   "outputs": [],
   "source": [
    "!pip install bioinfokit"
   ]
  },
  {
   "cell_type": "code",
   "execution_count": null,
   "id": "a0a6fea3",
   "metadata": {
    "scrolled": true
   },
   "outputs": [],
   "source": [
    "from bioinfokit.analys import fastq\n",
    "records = fastq.fastq_reader(file='SRR7012463_1.fastq')\n",
    "# read fastq file\n",
    "for record in records:\n",
    "    _, sequence, _, quality = record     # process sequence, headers and related info\n",
    "    base_count = {}\n",
    "    base_count['A'] = sequence.count('A')\n",
    "    base_count['C'] = sequence.count('C')\n",
    "    base_count['G'] = sequence.count('G')\n",
    "    base_count['T'] = sequence.count('T')\n",
    "    print(sequence)\n",
    "    print(quality) \n",
    "    print(base_count)\n",
    "    #print(base_count)"
   ]
  },
  {
   "cell_type": "markdown",
   "id": "b0e56d6c",
   "metadata": {},
   "source": [
    "Above code snippet prints out basic information from FASTQ file, such as sequence, quality and base counts. For detailed fastq file format information, https://support.illumina.com/bulletins/2016/04/fastq-files-explained.html"
   ]
  }
 ],
 "metadata": {
  "kernelspec": {
   "display_name": "Python 3 (ipykernel)",
   "language": "python",
   "name": "python3"
  },
  "language_info": {
   "codemirror_mode": {
    "name": "ipython",
    "version": 3
   },
   "file_extension": ".py",
   "mimetype": "text/x-python",
   "name": "python",
   "nbconvert_exporter": "python",
   "pygments_lexer": "ipython3",
   "version": "3.8.12"
  }
 },
 "nbformat": 4,
 "nbformat_minor": 5
}
