{
 "cells": [
  {
   "cell_type": "markdown",
   "id": "8c3d2bb2",
   "metadata": {
    "tags": []
   },
   "source": [
    "# Unsupervised Data Exploration on Cancer Cell Line Encyclopedia (CCLE)\n",
    "\n",
    "*Please note: This notebook uses open access data*  \n",
    "*Please note: OADC Login in the BRH Profile Page needs to be authorized*    \n",
    "*Please note: Graphs and vizs may not display as expected if using a ad-blocker*\n",
    "\n",
    "\n",
    "Fan Wang\n",
    "\n",
    "Principal component analysis (PCA) and t-distributed stochastic neighbor embedding (t-SNE) has become valuable tools for unsupervised data exploration. This notebook explores the application of unsupervised learning on Cancer Cell Line Encyclopedia (CCLE) gene expression profile. All results shown in this notebook are for demonstration purposes and should not be considered scientifically rigorous."
   ]
  },
  {
   "cell_type": "code",
   "execution_count": null,
   "id": "49e88385-926f-4b2b-93ef-594e0ca53855",
   "metadata": {
    "tags": []
   },
   "outputs": [],
   "source": [
    "import gen3, operator, zipfile, scipy\n",
    "from sklearn.decomposition import PCA\n",
    "from sklearn.manifold import TSNE\n",
    "import pandas as pd\n",
    "from pandas import json_normalize\n",
    "from collections import Counter\n",
    "from statistics import mean\n",
    "from io import StringIO\n",
    "from IPython.utils import io\n",
    "import numpy as np\n",
    "import matplotlib.pyplot as plt\n",
    "from matplotlib import rcParams\n",
    "\n",
    "#rcParams.update({\"figure.autolayout\": True})\n",
    "#get_ipython().run_line_magic(\"matplotlib\", \"notebook\")\n",
    "import seaborn as sns\n",
    "\n",
    "sns.set(style=\"ticks\", color_codes=True)\n",
    "get_ipython().run_line_magic(\"config\", \"InlineBackend.figure_format = 'png'\")\n",
    "import warnings\n",
    "\n",
    "warnings.filterwarnings(\"ignore\")\n",
    "%matplotlib inline"
   ]
  },
  {
   "cell_type": "markdown",
   "id": "bec5532f",
   "metadata": {},
   "source": [
    "### Download drug response data"
   ]
  },
  {
   "cell_type": "code",
   "execution_count": null,
   "id": "3226b73f-4c4c-441d-acc6-7e50226e07c8",
   "metadata": {
    "tags": []
   },
   "outputs": [],
   "source": [
    "!gen3 --commons_url gen3.datacommons.io drs-pull object dg.OADC/e8e18bb3-d66b-4232-bd27-35284c609144"
   ]
  },
  {
   "cell_type": "code",
   "execution_count": null,
   "id": "86e30dcd-869a-48c8-a590-bf80d1feeb61",
   "metadata": {
    "tags": []
   },
   "outputs": [],
   "source": [
    "path_to_zip_file=\"OpenAccess-CCLE_structured_data.zip\"\n",
    "\n",
    "with zipfile.ZipFile(path_to_zip_file, 'r') as zip_ref:\n",
    "    zip_ref.extractall()"
   ]
  },
  {
   "cell_type": "code",
   "execution_count": null,
   "id": "b68fbdbc-1d74-4916-b45d-3f1eeb8a8d7c",
   "metadata": {
    "tags": []
   },
   "outputs": [],
   "source": [
    "df = pd.read_csv(\n",
    "    \"OpenAccess-CCLE_lab_test.tsv\", sep=\"\\t\", header=0\n",
    ")\n",
    "df[\"tissue\"] = df[\"samples.submitter_id\"].str.split(pat=\"_\", n=1).str.get(1)\n",
    "df[\"cell_line\"] = df[\"samples.submitter_id\"].str.split(pat=\"_\", n=1).str.get(0)\n",
    "df[\"compound\"] = (\n",
    "    df[\"submitter_id\"].str.split(\"_response_\").str.get(0).str.split(\"_\").str.get(-1)\n",
    ")"
   ]
  },
  {
   "cell_type": "markdown",
   "id": "a92c6113",
   "metadata": {},
   "source": [
    "###  Visualize distribution of EC50 data for each tissue type"
   ]
  },
  {
   "cell_type": "code",
   "execution_count": null,
   "id": "08917a07-cd4f-4673-87d9-fb1ced49b736",
   "metadata": {
    "tags": []
   },
   "outputs": [],
   "source": [
    "def plot_numeric_by_category(numeric_property, category_property, df):\n",
    "    categories = list(set(df[category_property]))\n",
    "    plt.figure(figsize=(9, 6), dpi=100)\n",
    "    N = 0\n",
    "    for category in categories:\n",
    "        subset = df[df[category_property] == category]\n",
    "        N += len(subset)\n",
    "        data = subset[numeric_property].dropna().astype(float)\n",
    "        fig = sns.kdeplot(\n",
    "            df.loc[df[category_property] == category, numeric_property],\n",
    "            fill=True,\n",
    "            alpha=0.0,\n",
    "            label=category,\n",
    "        )\n",
    "        plt.legend(loc=\"upper right\", ncol=2, fontsize=7)\n",
    "\n",
    "    plt.title(numeric_property + \" by \" + category_property + \" (N = \" + str(N) + \")\")\n",
    "    plt.show(fig)\n",
    "\n",
    "\n",
    "numeric_property = \"EC50\"\n",
    "category_property = \"tissue\"\n",
    "plot_numeric_by_category(numeric_property, category_property, df)"
   ]
  },
  {
   "cell_type": "markdown",
   "id": "8c4c52f4",
   "metadata": {},
   "source": [
    "###  Visualize distribution of EC50 data for the top 10 tissue types with the largest number of samples"
   ]
  },
  {
   "cell_type": "code",
   "execution_count": null,
   "id": "b827af5c-cf4c-4ef4-91ed-cccf72ac640e",
   "metadata": {
    "scrolled": true,
    "tags": []
   },
   "outputs": [],
   "source": [
    "def plot_top10_numeric_by_category(numeric_property, category_property, df):\n",
    "    categories = list(set(df[category_property]))\n",
    "    plt.figure(figsize=(9, 6), dpi=100)\n",
    "    category_means = {}\n",
    "    for category in categories:\n",
    "        df_2 = df[df[numeric_property].notnull()]\n",
    "        data = list(\n",
    "            df_2.loc[df_2[category_property] == category][numeric_property].astype(\n",
    "                float\n",
    "            )\n",
    "        )\n",
    "\n",
    "        if len(data) > 5:\n",
    "            category_means[category] = mean(data)\n",
    "\n",
    "    if len(category_means) > 1:\n",
    "        sorted_means = sorted(\n",
    "            category_means.items(), key=operator.itemgetter(1), reverse=True\n",
    "        )[0:10]\n",
    "        categories_list = [x[0] for x in sorted_means]\n",
    "\n",
    "    N = 0\n",
    "    for category in categories_list:\n",
    "        subset = df[df[category_property] == category]\n",
    "        N += len(subset)\n",
    "        data = subset[numeric_property].dropna().astype(float)\n",
    "        fig = sns.kdeplot(\n",
    "            df.loc[df[category_property] == category, numeric_property],\n",
    "            fill=True,\n",
    "            alpha=0.0,\n",
    "            label=category,\n",
    "        )\n",
    "\n",
    "        plt.legend(loc=\"upper right\", ncol=2, fontsize=7)\n",
    "\n",
    "    plt.title(numeric_property + \" by \" + category_property + \" (N = \" + str(N) + \")\")\n",
    "    plt.show(fig)\n",
    "\n",
    "\n",
    "plot_top10_numeric_by_category(numeric_property, category_property, df)"
   ]
  },
  {
   "cell_type": "markdown",
   "id": "eda5d45e",
   "metadata": {},
   "source": [
    "### Download gene expression profile data"
   ]
  },
  {
   "cell_type": "code",
   "execution_count": null,
   "id": "76f23b03",
   "metadata": {
    "tags": []
   },
   "outputs": [],
   "source": [
    "!gen3 --commons_url gen3.datacommons.io drs-pull object dg.OADC/41c3f1ac-2cc7-4b04-b09c-a9c5dbad2c98"
   ]
  },
  {
   "cell_type": "code",
   "execution_count": null,
   "id": "8a95228a",
   "metadata": {
    "tags": []
   },
   "outputs": [],
   "source": [
    "path_to_zip_file=\"CCLE_data_22Q2.zip\"\n",
    "\n",
    "with zipfile.ZipFile(path_to_zip_file, 'r') as zip_ref:\n",
    "    zip_ref.extractall()"
   ]
  },
  {
   "cell_type": "code",
   "execution_count": null,
   "id": "51eb9d70-6915-45f6-a70e-9d598ada0ff1",
   "metadata": {
    "tags": []
   },
   "outputs": [],
   "source": [
    "ccle = pd.read_csv(\"CCLE_data_22Q2/CCLE_expression_22Q2.csv\", sep=\",\")\n",
    "ccle = ccle.rename(columns={\"Unnamed: 0\": \"DepMap_ID\"})\n",
    "info = pd.read_csv(\"CCLE_data_22Q2/sample_info_22Q2.csv\")\n",
    "merge = pd.merge(info[[\"CCLE_Name\", \"DepMap_ID\"]], ccle, on=\"DepMap_ID\", how=\"inner\")\n",
    "ccle_data = merge.drop([\"DepMap_ID\"], axis=1)\n",
    "a = ccle_data.transpose()\n",
    "a = a.rename(columns=a.iloc[0])\n",
    "ccle_data = a.iloc[1:, :].astype(float)\n",
    "ccle_data[\"std\"] = ccle_data.std(axis=1)\n",
    "ccle_data = ccle_data.sort_values(by=[\"std\"], ascending=False)\n",
    "ccle_data = ccle_data.iloc[:100, :-1]\n",
    "ccle_data_log2 = np.log2(ccle_data + 2)\n",
    "merge[\"ccle_lineages\"] = merge[\"CCLE_Name\"].str.split(pat=\"_\", n=1).str.get(1)\n",
    "ccle_lineages = merge[\"ccle_lineages\"].tolist()\n",
    "lineage_sorted_by_count = [x[0] for x in Counter(ccle_lineages).most_common()]"
   ]
  },
  {
   "cell_type": "markdown",
   "id": "6916d2b2",
   "metadata": {},
   "source": [
    "### Visualize the cell lineage distribution "
   ]
  },
  {
   "cell_type": "code",
   "execution_count": null,
   "id": "36340b65-34bf-4740-8e0c-c30310e79df3",
   "metadata": {
    "tags": []
   },
   "outputs": [],
   "source": [
    "plt.figure(figsize=(9, 7), dpi=100)\n",
    "ax = sns.countplot(x=ccle_lineages, color=\"gray\", order=lineage_sorted_by_count)\n",
    "ax.set_xticklabels(ax.get_xticklabels(), rotation=90)\n",
    "ax.set_title(\"CCLE Lineage Distribution\")\n",
    "ax.tick_params(labelsize=7)\n",
    "plt.show()"
   ]
  },
  {
   "cell_type": "markdown",
   "id": "f4bf4530",
   "metadata": {},
   "source": [
    "### PCA\n",
    "#### We specfically focus on one cell lineage, HAEMATOPOETIC_AND_LYMPHOID_TISSUE. Below is the scatter plot of the data projected onto the first two principal components of the dataset.\n",
    "\n",
    "#### We can see from the PCA projection that the Haematopoetic and lymphoid samples are separate from the rest of the samples in terms of their gene expression profiles.\n"
   ]
  },
  {
   "cell_type": "code",
   "execution_count": null,
   "id": "0c21d9ba",
   "metadata": {
    "tags": []
   },
   "outputs": [],
   "source": [
    "PCA_COMPONENTS = 10\n",
    "RANDOM_SEED = 2\n",
    "\n",
    "ccle_pca = PCA(n_components=PCA_COMPONENTS, svd_solver=\"full\").fit_transform(\n",
    "    ccle_data_log2.transpose().dropna()\n",
    ")\n",
    "ccle_pca_df = pd.DataFrame(data=ccle_pca)\n",
    "ccle_pca_df[\"Lineage\"] = ccle_lineages\n",
    "ccle_pca_df[\"isHaem\"] = ccle_pca_df[\"Lineage\"] == \"HAEMATOPOIETIC_AND_LYMPHOID_TISSUE\"\n",
    "\n",
    "\n",
    "with sns.plotting_context(rc={\"legend.fontsize\": 15}):\n",
    "    ax = sns.relplot(x=0, y=1, data=ccle_pca_df, hue=\"isHaem\")\n",
    "    ax.set(xlabel=\"PCA1\", ylabel=\"PCA2\", xticks=[], yticks=[])\n",
    "plt.show()"
   ]
  },
  {
   "cell_type": "markdown",
   "id": "d0cc6362",
   "metadata": {},
   "source": [
    "### tSNE\n",
    "\n",
    "#### Then we run tSNE with default parameters and 4 different values of perplexity.\n",
    "\n",
    "As perplexity decreases from 50 to 5, there are two major differences we observe in the tSNE projections:\n",
    "\n",
    "- At a perplexity of 50 the points appear to be in two major groups whereas at a perplexity of 5 there are many more groups.1\n",
    "- At a perplexity of 50 the Haem points are all in one group in one part of the plot, whereas at a perplexity of 5 they are in multiple groups spread throughout the plot."
   ]
  },
  {
   "cell_type": "code",
   "execution_count": null,
   "id": "5637c2fc",
   "metadata": {
    "scrolled": true,
    "tags": []
   },
   "outputs": [],
   "source": [
    "#CCLE TSNE\n",
    "ccle_tsne_list = []\n",
    "for PERPLEXITY in [50, 30, 10, 5]:\n",
    "    this_ccle_tsne = TSNE(\n",
    "        n_components=2, perplexity=PERPLEXITY, random_state=RANDOM_SEED\n",
    "    ).fit_transform(ccle_pca)\n",
    "    this_ccle_tsne_df = pd.DataFrame(data=this_ccle_tsne, columns=[\"tsne1\", \"tsne2\"])\n",
    "    this_ccle_tsne_df[\"Lineage\"] = ccle_lineages\n",
    "    this_ccle_tsne_df[\"isHaem\"] = (\n",
    "        this_ccle_tsne_df[\"Lineage\"] == \"HAEMATOPOIETIC_AND_LYMPHOID_TISSUE\"\n",
    "    )\n",
    "    this_ccle_tsne_df[\"PERPLEXITY\"] = PERPLEXITY\n",
    "    ccle_tsne_list.append(this_ccle_tsne_df)\n",
    "\n",
    "ccle_tsne_list_all = pd.concat(ccle_tsne_list, axis=0, ignore_index=True)\n",
    "\n",
    "\n",
    "with sns.plotting_context(rc={\"legend.fontsize\": 15}):\n",
    "    ax = sns.relplot(\n",
    "        x=\"tsne1\",\n",
    "        y=\"tsne2\",\n",
    "        data=ccle_tsne_list_all,\n",
    "        hue=\"isHaem\",\n",
    "        col=\"PERPLEXITY\",\n",
    "        col_wrap=2,\n",
    "        col_order=[50, 30, 10, 5],\n",
    "    )\n",
    "    ax.set(xlabel=\"tSNE1\", ylabel=\"tSNE2\", xticks=[], yticks=[])\n",
    "plt.show()"
   ]
  },
  {
   "cell_type": "markdown",
   "id": "cb837a00",
   "metadata": {},
   "source": [
    "### Understanding tSNE behavior on CCLE\n",
    "\n",
    "From the PCA projection we know that Haem samples are more similar to each other than to non-Haem samples. Given that there are only around 200 Haem samples, at a perplexity of 50 (which roughly means that each sample is similar to 50 other samples), tSNE basically thinks that all the Haem samples are just one big group. This is why they all appear together in the tSNE projection. But, at a perplexity of 5, tSNE realizes there are subsets of the Haem samples which are more similar to each other, which is why the Haem group is broken up into subgroups.\n",
    "\n",
    "Now let us dive deeper to the subgroups of the Haem samples."
   ]
  },
  {
   "cell_type": "markdown",
   "id": "6ba480bb",
   "metadata": {},
   "source": [
    "We see that there is structure within all the samples and substructure within the Haem samples. This makes sense with what we know about these cell lines, because the haem lineage is made of several different sublineages of the Haematopoetic lineage (eg., lymphoma, leukemia, myeloma etc)."
   ]
  },
  {
   "cell_type": "code",
   "execution_count": null,
   "id": "5aa610ac-3952-4e19-951b-deacfda5bef5",
   "metadata": {},
   "outputs": [],
   "source": []
  }
 ],
 "metadata": {
  "kernelspec": {
   "display_name": "Python 3 (ipykernel)",
   "language": "python",
   "name": "python3"
  },
  "language_info": {
   "codemirror_mode": {
    "name": "ipython",
    "version": 3
   },
   "file_extension": ".py",
   "mimetype": "text/x-python",
   "name": "python",
   "nbconvert_exporter": "python",
   "pygments_lexer": "ipython3",
   "version": "3.9.20"
  }
 },
 "nbformat": 4,
 "nbformat_minor": 5
}
