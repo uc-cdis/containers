{
 "cells": [
  {
   "cell_type": "markdown",
   "id": "d9c03cd4",
   "metadata": {},
   "source": [
    "# Data Exploration of Framingham Heart Study Teaching Dataset \n",
    "\n",
    "*Please note: This notebook uses open access data*  \n",
    "*Please note: BioDataCatalyst RAS Login in the BRH Profile Page needs to be authorized*\n",
    "\n",
    "\n",
    "This teaching dataset was developed using the longitudinal [Framingham heart study](https://biolincc.nhlbi.nih.gov/teaching/) as the data source. The teaching dataset includes three clinical examination and 20 year follow-up data based on a subset of the original Framingham cohort participants. This dataset was created for teaching and training purposes, and certain measures were used to created anonymous versions. Detailed documentation on variables can be found [HERE](https://biolincc.nhlbi.nih.gov/media/teachingstudies/FHS_Teaching_Longitudinal_Data_Documentation_2021a.pdf?link_time=2022-04-18_09:29:24.200176)\n",
    "\n",
    "In this tutorial, we will demonstrate how to pull the object file of Framingham teaching dataset from [BioData Catalyst data commons](https://gen3.biodatacatalyst.nhlbi.nih.gov/) into a BRH workspace, and perform data exploration and visualization using Python packages. \n",
    "\n",
    "\n",
    "\n",
    "\n",
    "### Import Python libraries"
   ]
  },
  {
   "cell_type": "code",
   "execution_count": null,
   "id": "ee0ef6df",
   "metadata": {},
   "outputs": [],
   "source": [
    "import pandas as pd\n",
    "import numpy as np\n",
    "import pyreadstat\n",
    "import seaborn as sns\n",
    "import matplotlib.pyplot as plt\n",
    "import plotly.graph_objects as go\n",
    "import plotly.express as px\n",
    "\n",
    "pd.set_option('mode.chained_assignment', None)"
   ]
  },
  {
   "cell_type": "markdown",
   "id": "5e82b627",
   "metadata": {},
   "source": [
    "### Pull Framingham data file "
   ]
  },
  {
   "cell_type": "code",
   "execution_count": null,
   "id": "05798fd5",
   "metadata": {},
   "outputs": [],
   "source": [
    "!gen3 drs-pull object dg.4503/c97507dd-bb79-45ce-9186-3d14ad823f81\n",
    "\n",
    "fram_df, fram_meta = pyreadstat.read_sav(\"frmgham2.sav\", apply_value_formats=True)"
   ]
  },
  {
   "cell_type": "markdown",
   "id": "e073c605",
   "metadata": {},
   "source": [
    "### Data exploration\n",
    "\n",
    "- Display column labels and their full names from metadata"
   ]
  },
  {
   "cell_type": "code",
   "execution_count": null,
   "id": "5bba7e0e",
   "metadata": {},
   "outputs": [],
   "source": [
    "col_names = fram_meta.column_names_to_labels\n",
    "\n",
    "print (\"{:<10} {:<10}\".format('LABEL', 'NAME'))\n",
    " \n",
    "# print each column item.\n",
    "for key, value in col_names.items():\n",
    "    print (\"{:<10} {:<10}\".format(key, value))"
   ]
  },
  {
   "cell_type": "markdown",
   "id": "10ca74d1",
   "metadata": {},
   "source": [
    "- Explore the demographic characteristics of participants"
   ]
  },
  {
   "cell_type": "code",
   "execution_count": null,
   "id": "477539a6",
   "metadata": {},
   "outputs": [],
   "source": [
    "# change the patiant ID column type from numeric to string\n",
    "fram_df[\"RANDID\"] = fram_df[\"RANDID\"].astype(str)\n",
    "fram_df[\"RANDID\"] = fram_df[\"RANDID\"].str[:-2]"
   ]
  },
  {
   "cell_type": "code",
   "execution_count": null,
   "id": "12dc8b0f",
   "metadata": {},
   "outputs": [],
   "source": [
    "# Map the gender value to male an female\n",
    "sex_group_list = ['Male' if i==1.0 else 'Female' for i in fram_df['SEX']]\n",
    "fram_df['SEX_GROUP'] = sex_group_list"
   ]
  },
  {
   "cell_type": "code",
   "execution_count": null,
   "id": "a889edb2",
   "metadata": {},
   "outputs": [],
   "source": [
    "# Create a subset of participants from first visit \n",
    "visit_1 =  fram_df[fram_df['PERIOD']==1]\n",
    "visit_1.head()"
   ]
  },
  {
   "cell_type": "code",
   "execution_count": null,
   "id": "2a7520eb",
   "metadata": {},
   "outputs": [],
   "source": [
    "# Functions to categorize age, BMI, and education value into groups\n",
    "# Define age groups within participants\n",
    "def age_group(agelist):\n",
    "    min_age = min(agelist)\n",
    "    grouplabel1 = str(min_age) + \"-40 yr\"\n",
    "    grouplabel2 = \"41-50 yr\"\n",
    "    grouplabel3 = \"51-60 yr\"\n",
    "    grouplabel4 = \"61-70 yr\"\n",
    "    grouplabel5 = \"71-80 yr\"\n",
    "    grouplabel6 = \"81-90 yr\"\n",
    "    grouplist = []\n",
    "    for i in agelist:\n",
    "        if i <= 40:\n",
    "            grouplist.append(grouplabel1)\n",
    "        elif i <=50:\n",
    "            grouplist.append(grouplabel2)\n",
    "        elif i <= 60:\n",
    "            grouplist.append(grouplabel3)\n",
    "        elif i <= 70:\n",
    "            grouplist.append(grouplabel4)\n",
    "        elif i <= 80:\n",
    "            grouplist.append(grouplabel5)\n",
    "        elif i <= 90:\n",
    "            grouplist.append(grouplabel6)\n",
    "        else:\n",
    "            grouplist.append(\"NA\")\n",
    "            \n",
    "    return grouplist\n",
    "\n",
    "# Define BMI groups\n",
    "def bmi_group(bmilist):\n",
    "    grouplabel1 = \"underweight\"\n",
    "    grouplabel2 = \"healthy\"\n",
    "    grouplabel3 = \"overweight\"\n",
    "    grouplabel4 = \"obese\"\n",
    "    grouplist = []\n",
    "    for i in bmilist:\n",
    "        if i < 18.5 :\n",
    "            grouplist.append(grouplabel1)\n",
    "        elif i < 25:\n",
    "            grouplist.append(grouplabel2)\n",
    "        elif i < 30:\n",
    "            grouplist.append(grouplabel3)\n",
    "        else:\n",
    "            grouplist.append(grouplabel4)\n",
    "    return grouplist\n",
    "\n",
    "# Define education groups\n",
    "def edu_group(edu_list):\n",
    "    grouplabel1 = \"0-11 years\"\n",
    "    grouplabel2 = \"High School Diploma, GED\"\n",
    "    grouplabel3 = \"Some College, Vocational School\"\n",
    "    grouplabel4 = \"College (BS, BA) degree or more\"\n",
    "    grouplist = []\n",
    "    for i in edu_list:\n",
    "        if i == 1.0:\n",
    "            grouplist.append(grouplabel1)\n",
    "        elif i == 2.0:\n",
    "            grouplist.append(grouplabel2)\n",
    "        elif i == 3.0:\n",
    "            grouplist.append(grouplabel3)\n",
    "        elif i == 4.0:\n",
    "            grouplist.append(grouplabel4)\n",
    "        else:\n",
    "            grouplist.append(\"NA\")\n",
    "    return grouplist"
   ]
  },
  {
   "cell_type": "code",
   "execution_count": null,
   "id": "f51e2ed2",
   "metadata": {},
   "outputs": [],
   "source": [
    "visit_1[\"AGE_GROUP\"] = age_group(list(visit_1[\"AGE\"]))\n",
    "visit_1[\"BMI_GROUP\"] = bmi_group(list(visit_1[\"BMI\"]))\n",
    "visit_1[\"EDUC_GROUP\"] = edu_group(list(visit_1[\"EDUC\"]))\n",
    "visit_1[[\"AGE\", \"AGE_GROUP\", \"BMI\", \"BMI_GROUP\", 'EDUC', 'EDUC_GROUP']].head(5)"
   ]
  },
  {
   "cell_type": "code",
   "execution_count": null,
   "id": "6d022b2b",
   "metadata": {},
   "outputs": [],
   "source": [
    "# Count the number of participants based on group category\n",
    "pt_sex_age = pd.crosstab(index=visit_1['AGE_GROUP'], columns=visit_1['SEX_GROUP'])\n",
    "pt_sex_bmi = pd.crosstab(index=visit_1['BMI_GROUP'], columns=visit_1['SEX_GROUP'])\n",
    "pt_sex_edu = pd.crosstab(index=visit_1['EDUC_GROUP'], columns=visit_1['SEX_GROUP'])\n",
    "pd.concat([pt_sex_age, pt_sex_bmi, pt_sex_edu], keys=['age', 'bmi', 'education'])"
   ]
  },
  {
   "cell_type": "code",
   "execution_count": null,
   "id": "8f5bda64",
   "metadata": {},
   "outputs": [],
   "source": [
    "# Plot the counts of these demographic characteristics among participants\n",
    "# Reformat the dataframe before plotting\n",
    "demo_df = pd.concat([pt_sex_age, pt_sex_bmi, pt_sex_edu], keys=['Age','BMI','Education'])\n",
    "demo_df.reset_index(inplace=True)\n",
    "demo_df = pd.melt(demo_df, id_vars=['level_0', 'level_1'], value_vars=['Female', 'Male'], ignore_index=False)\n",
    "demo_df = demo_df.rename({'level_0':\"Group type\", 'level_1':'Group value', 'value':'Counts', 'SEX_GROUP':'Sex'}, axis=\"columns\")\n",
    "\n",
    "# Show bar plot of participant counts based on gender, age, BMI, and education group\n",
    "demo_fig = px.bar(demo_df, x=\"Group value\", y=\"Counts\", color=\"Sex\", facet_row=\"Group type\",\n",
    "                  width=900, height=700, title=\"Age Group, BMI, and Education Characteristics of Participants in the Framingham Heart Study\")\n",
    "demo_fig.for_each_annotation(lambda a: a.update(text=a.text.split(\"=\")[-1]))\n",
    "demo_fig.update_xaxes(matches='x')\n",
    "demo_fig.show()"
   ]
  },
  {
   "cell_type": "markdown",
   "id": "6f637908",
   "metadata": {},
   "source": [
    "**Demographic characteristics of FHS participants**:\n",
    "- Most participants in the Framingham Heart study were recruited to the study from age group of **40-50 and 50-60**.\n",
    "- At first visit, few participants were found at obese and underweight BMI groups. The majority participants were found in either **healthy or overweight** BMI group. We saw more females in the healthy BMI group than males(1,233 vs 703).\n",
    "- Nearly three quarters of the participants were found with 0-11 years educations or GED. Fewer participants were found with college degree."
   ]
  },
  {
   "cell_type": "markdown",
   "id": "218de082",
   "metadata": {},
   "source": [
    "### Risk factor exploration\n",
    "\n",
    "- Risk factor at different time points"
   ]
  },
  {
   "cell_type": "code",
   "execution_count": null,
   "id": "a115c004",
   "metadata": {},
   "outputs": [],
   "source": [
    "# add bmi group, age group, and education group to the fram_df\n",
    "fram_df[\"AGE_GROUP\"] = age_group(list(fram_df[\"AGE\"]))\n",
    "fram_df[\"BMI_GROUP\"] = bmi_group(list(fram_df[\"BMI\"]))\n",
    "fram_df[\"EDUC_GROUP\"] = edu_group(list(fram_df[\"EDUC\"]))\n",
    "fram_df.head(5)"
   ]
  },
  {
   "cell_type": "code",
   "execution_count": null,
   "id": "94bcdd57",
   "metadata": {},
   "outputs": [],
   "source": [
    "# extract a subset of data for risk factor exploration\n",
    "\n",
    "rf_df =  fram_df[['RANDID','SEX_GROUP', 'TIME', 'PERIOD', 'BMI', 'AGE', \n",
    "                  'SYSBP', 'DIABP', 'CIGPDAY', 'TOTCHOL', 'HDLC', \n",
    "                  'LDLC', 'GLUCOSE']]"
   ]
  },
  {
   "cell_type": "code",
   "execution_count": null,
   "id": "504e62be",
   "metadata": {},
   "outputs": [],
   "source": [
    "# Unpivot a dataframe from wide to long format\n",
    "rf_df_melt =  pd.melt(rf_df, id_vars=['RANDID','SEX_GROUP','TIME', 'PERIOD'], \n",
    "                      value_vars=['BMI', 'AGE', 'SYSBP', 'DIABP', 'CIGPDAY', \n",
    "                                  'TOTCHOL', 'HDLC', 'LDLC', 'GLUCOSE'])\n",
    "rf_df_melt.head()"
   ]
  },
  {
   "cell_type": "markdown",
   "id": "ff5c790d",
   "metadata": {},
   "source": [
    "The next block shows the distribution of several risk factor variables, including BMI and AGE, at three visits."
   ]
  },
  {
   "cell_type": "code",
   "execution_count": null,
   "id": "f3dea05b",
   "metadata": {},
   "outputs": [],
   "source": [
    "# boxplot of risk factors at 3 visits\n",
    "rf_fig1 =  px.violin(data_frame=rf_df_melt.loc[rf_df_melt['variable'].isin(['AGE', 'BMI']),],\n",
    "                 x='PERIOD', y='value', width=800, height=500, color='variable', box=True)\n",
    "rf_fig1.for_each_annotation(lambda a: a.update(text=a.text.split(\"=\")[-1]))\n",
    "rf_fig1.update_xaxes(title=\"Visit\")\n",
    "rf_fig1.show()"
   ]
  },
  {
   "cell_type": "markdown",
   "id": "6f5e9558",
   "metadata": {},
   "source": [
    "- The median age of participants at three visits were 49, 55 and 60, respectively.\n",
    "- At all three visit time point, the median value of BMIs were found around 25.5, which falls into `overweight category`."
   ]
  },
  {
   "cell_type": "markdown",
   "id": "6e8f1e22",
   "metadata": {},
   "source": [
    "The next block shows the distribution of several variables, including Systolic Blood Pressure (SYSBP), Diastolic Blood Pressure (DIABP), Serum Total Cholesterol (TOTCHOL), and Casual Serum Glucose (GLUCOSE), at three visits."
   ]
  },
  {
   "cell_type": "code",
   "execution_count": null,
   "id": "57f64cbf",
   "metadata": {},
   "outputs": [],
   "source": [
    "# boxplot of few risk factors at three visits\n",
    "rf_fig2 =  px.box(data_frame=rf_df_melt.loc[rf_df_melt['variable'].isin(['SYSBP', 'DIABP',\n",
    "                                                                         'TOTCHOL','GLUCOSE']),],\n",
    "                 x='PERIOD', y='value', width=950, height=500, color='variable')\n",
    "rf_fig2.for_each_annotation(lambda a: a.update(text=a.text.split(\"=\")[-1]))\n",
    "rf_fig2.update_xaxes(title=\"Visit\")\n",
    "rf_fig2.show()"
   ]
  },
  {
   "cell_type": "markdown",
   "id": "76b8806a",
   "metadata": {},
   "source": [
    "- Risk factors and events heatmap visualization\n",
    "\n",
    "The next block categorizes some of the risk factor values into binary groups using a threshold. For instance, Age over 60 is considered as a risk factor."
   ]
  },
  {
   "cell_type": "code",
   "execution_count": null,
   "id": "a3ae4485",
   "metadata": {},
   "outputs": [],
   "source": [
    "# Extract only the final visit of each participant and \n",
    "# and known risk factors asscoiated with cardiovascular disease incidence\n",
    "\n",
    "visit_final =  fram_df.drop_duplicates(\"RANDID\", keep='last')\n",
    "visit_rf = visit_final[['RANDID','AGE', 'SEX_GROUP','CURSMOKE', 'TOTCHOL', 'BMI', \n",
    "                            'GLUCOSE', 'PREVCHD', 'PREVSTRK', 'PREVHYP', 'DIABETES', 'HEARTRTE']]\n",
    "\n",
    "visit_rf['TOTCHOL_RF'] = [1 if i>200 else 0 for i in visit_rf['TOTCHOL']]\n",
    "visit_rf['BMI_RF'] = [1 if i>25 else 0 for i in visit_rf['BMI']]\n",
    "visit_rf['GLUCOSE_RF'] = [1 if i>200 else 0 for i in visit_rf['GLUCOSE']]\n",
    "visit_rf['HEARTRTE_RF'] = [1 if i>100 else 0 for i in visit_rf['HEARTRTE']]\n",
    "visit_rf['AGE_RF'] = [1 if i>=60 else 0 for i in visit_rf['AGE']]\n",
    "\n",
    "visit_rf = visit_rf.drop(['AGE','TOTCHOL','BMI','GLUCOSE', 'HEARTRTE', 'SEX_GROUP'], axis=1)\n",
    "visit_rf.head()"
   ]
  },
  {
   "cell_type": "markdown",
   "id": "dbfedb5d",
   "metadata": {},
   "source": [
    "The next block combines the risk factor dataframe with disease event and generates a correlation heatmap with these variables"
   ]
  },
  {
   "cell_type": "code",
   "execution_count": null,
   "id": "00b0e724",
   "metadata": {},
   "outputs": [],
   "source": [
    "# combine the visit_rf with event data\n",
    "\n",
    "visit_event = visit_final[['RANDID', 'ANGINA','HOSPMI','MI_FCHD','ANYCHD', 'STROKE', 'CVD', 'HYPERTEN','DEATH']]\n",
    "visit_rf_event = visit_rf.merge(visit_event, left_on=\"RANDID\", right_on=\"RANDID\")\n",
    "\n",
    "visit_rf_event.head(5)"
   ]
  },
  {
   "cell_type": "code",
   "execution_count": null,
   "id": "3bd1fc7f",
   "metadata": {},
   "outputs": [],
   "source": [
    "# generate correlation heatmap\n",
    "visit_rf_event_noid = visit_rf_event.drop(['RANDID'],axis=1)\n",
    "\n",
    "sns.heatmap(visit_rf_event_noid.corr())"
   ]
  },
  {
   "cell_type": "code",
   "execution_count": null,
   "id": "b0c88e60",
   "metadata": {},
   "outputs": [],
   "source": [
    "# create a column that combines all the risk factors\n",
    "visit_rf_event['RF_SUM'] = visit_rf_event['CURSMOKE'] + visit_rf_event['PREVCHD'] + visit_rf_event['PREVSTRK'] + visit_rf_event['PREVHYP']+  visit_rf_event['DIABETES'] + visit_rf_event['TOTCHOL_RF']+ visit_rf_event['BMI_RF'] + visit_rf_event['GLUCOSE_RF'] + visit_rf_event['HEARTRTE_RF'] + visit_rf_event['AGE_RF']"
   ]
  },
  {
   "cell_type": "code",
   "execution_count": null,
   "id": "074de7cf",
   "metadata": {},
   "outputs": [],
   "source": [
    "visit_rf_event.tail(5)"
   ]
  },
  {
   "cell_type": "markdown",
   "id": "be30c78e",
   "metadata": {},
   "source": [
    "The next two blocks generate a counts table between risk factor sum variable and event sum variable"
   ]
  },
  {
   "cell_type": "code",
   "execution_count": null,
   "id": "bcc90571",
   "metadata": {},
   "outputs": [],
   "source": [
    "visit_rf_event['EVENT_SUM'] = visit_rf_event['ANYCHD'] + visit_rf_event['STROKE'] + visit_rf_event['CVD'] + visit_rf_event['HYPERTEN']\n"
   ]
  },
  {
   "cell_type": "code",
   "execution_count": null,
   "id": "94fb7b17",
   "metadata": {},
   "outputs": [],
   "source": [
    "rf_count = pd.crosstab(index=visit_rf_event['RF_SUM'], columns=visit_rf_event['EVENT_SUM'])\n",
    "\n",
    "rf_count"
   ]
  },
  {
   "cell_type": "markdown",
   "id": "7b239e62",
   "metadata": {},
   "source": [
    "The next block creates a histogram showing the composition of disease events in each risk factor group."
   ]
  },
  {
   "cell_type": "code",
   "execution_count": null,
   "id": "1f7edd51",
   "metadata": {},
   "outputs": [],
   "source": [
    "rf_count.reset_index(inplace=True)\n",
    "rf_count_melt = pd.melt(rf_count, id_vars=['RF_SUM'], value_vars=[0,1,2,3,4], ignore_index=False)\n",
    "rf_event_fig = px.bar(rf_count_melt, x='RF_SUM', y='value', \n",
    "                      color='EVENT_SUM', title=\"Risk Factors and Disease Events Histogram \",\n",
    "                     color_discrete_sequence=px.colors.sequential.Sunsetdark)\n",
    "rf_event_fig.show()"
   ]
  },
  {
   "cell_type": "markdown",
   "id": "2d591cc9",
   "metadata": {},
   "source": [
    "- Most of the participants had at least two risk fastors at third visit. \n",
    "- With the increase of risk factor, we observed a significant increase in multiple disease events. For instance, the majority of participants with three risk factors (the tallest bar) have at least 1 disease event.\n",
    "- Among the participants with at least 3 risk factors, there is a signidicant increase in multiple disease event (2, 3, or 4). Meanwhile, fewer or no participants with at least 3 risk factors were found with zero disease event."
   ]
  }
 ],
 "metadata": {
  "kernelspec": {
   "display_name": "Python 3 (ipykernel)",
   "language": "python",
   "name": "python3"
  },
  "language_info": {
   "codemirror_mode": {
    "name": "ipython",
    "version": 3
   },
   "file_extension": ".py",
   "mimetype": "text/x-python",
   "name": "python",
   "nbconvert_exporter": "python",
   "pygments_lexer": "ipython3",
   "version": "3.9.6"
  }
 },
 "nbformat": 4,
 "nbformat_minor": 5
}
