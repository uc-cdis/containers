{
 "cells": [
  {
   "cell_type": "markdown",
   "id": "4faf1492",
   "metadata": {
    "tags": []
   },
   "source": [
    "# JCOIN Tracking Opioid Stigma\n",
    "\n",
    "*Please note: This notebook uses controlled access data*    \n",
    "*Please note:  JCOIN Google Login in the BRH Profile Page needs to be authorized*\n",
    "\n",
    "\n",
    "- JCOIN consortium - MAARC Survey Core - Survey Project 1 of 4\n",
    "- Cross-sectional Repeated Brief Survey tracking stigma related to OUD\n",
    "- **Significance:** Stigma related to OUD and public attitudes towards persons with OUD and treatment of/for persons with OUD may impact/modify the effect of OUD interventions."
   ]
  },
  {
   "cell_type": "markdown",
   "id": "dfb37e65",
   "metadata": {
    "tags": []
   },
   "source": [
    "### Import modules"
   ]
  },
  {
   "cell_type": "code",
   "execution_count": null,
   "id": "eac300ba",
   "metadata": {},
   "outputs": [],
   "source": [
    "import os\n",
    "import pandas as pd\n",
    "import numpy as np\n",
    "import pyreadstat\n",
    "import seaborn as sns\n",
    "import matplotlib.pyplot as plt\n",
    "from pathlib import Path\n",
    "\n",
    "pd.set_option('mode.chained_assignment', None)"
   ]
  },
  {
   "cell_type": "markdown",
   "id": "01097a11",
   "metadata": {},
   "source": [
    "### Import data\n",
    "- 4 survey time-points in 2020; Feb, Apr, Jun, Oct\n",
    "- roughly 1000 respondents per survey time-point\n",
    "- 1st survey time-point before COVID, all other survey time-points after COVID"
   ]
  },
  {
   "cell_type": "code",
   "execution_count": null,
   "id": "c8468155",
   "metadata": {},
   "outputs": [],
   "source": [
    "# Pull file objects using the Gen3 SDK\n",
    "!gen3 drs-pull object dg.6VTS/b96018c5-db06-4af8-a195-28e339ba815e\n",
    "!gen3 drs-pull object dg.6VTS/6d3eb293-8388-4c5d-83ef-d0c2bd5ba604\n",
    "!gen3 drs-pull object dg.6VTS/6f9a924f-9d83-4597-8f66-fe7d3021729f\n",
    "!gen3 drs-pull object dg.6VTS/0e618fef-e359-424b-b844-0ca320105176"
   ]
  },
  {
   "cell_type": "code",
   "execution_count": null,
   "id": "0b4ca81f",
   "metadata": {},
   "outputs": [],
   "source": [
    "# Read data using pyreadstat library\n",
    "df1, meta1 = pyreadstat.read_sav('./JCOIN_NORC_Omnibus_SURVEY1_Feb2020.sav',apply_value_formats=True)\n",
    "df2, meta2 = pyreadstat.read_sav('./JCOIN_NORC_Omnibus_SURVEY2_April2020.sav',apply_value_formats=True)\n",
    "df3, meta3 = pyreadstat.read_sav('./JCOIN_NORC_Omnibus_SURVEY3_June2020.sav',apply_value_formats=True)\n",
    "df4, meta4 = pyreadstat.read_sav('./JCOIN_NORC_Omnibus_SURVEY4_Oct2020.sav',apply_value_formats=True)"
   ]
  },
  {
   "cell_type": "markdown",
   "id": "ebac92ea",
   "metadata": {},
   "source": [
    "### Clean data\n",
    "- column names to lowercase\n",
    "- get long, combined dataset; keep only variables available for each survey time-point\n",
    "- take a look at the data dictionary to check meaning of variable names and identify interesting variables that will let us look at stigma trajectory over time"
   ]
  },
  {
   "cell_type": "code",
   "execution_count": null,
   "id": "396b028d",
   "metadata": {},
   "outputs": [],
   "source": [
    "# standardize column names across datasets and metadatasets\n",
    "\n",
    "for df in [df1, df2, df3, df4]:\n",
    "    df.columns = df.columns.str.lower()\n",
    "    \n",
    "    \n",
    "for meta in [meta1, meta2, meta3, meta4]:\n",
    "    meta.column_names = [x.lower() for x in meta.column_names]\n",
    "    meta.column_names_to_labels =  {k.lower(): v for k, v in meta.column_names_to_labels.items()}\n",
    "    meta.variable_value_labels =  {k.lower(): v for k, v in meta.variable_value_labels.items()}"
   ]
  },
  {
   "cell_type": "code",
   "execution_count": null,
   "id": "373e758b",
   "metadata": {},
   "outputs": [],
   "source": [
    "# combine data from all surveys into one long dataset, keeping only vars available across all survey datasets\n",
    "all_df = pd.concat([df1, df2, df3, df4], keys=['s1','s2','s3','s4'], join=\"inner\").reset_index().rename(columns={\"level_0\": \"time-point\"})\n",
    "\n",
    "# when displaying the data, don't print geo information\n",
    "all_df.drop(['level_1','region4','region9'],axis=1).head()"
   ]
  },
  {
   "cell_type": "code",
   "execution_count": null,
   "id": "f6837280",
   "metadata": {},
   "outputs": [],
   "source": [
    "# print out data dictionary for vars available across all survey datasets\n",
    "data_dictionary = {k: v for k, v in meta1.column_names_to_labels.items() if k in all_df.columns}\n",
    "data_dictionary\n",
    "\n",
    "# print out just data labels for vars available across all survey datasets\n",
    "#[v for k, v in meta1.column_names_to_labels.items() if k in all_df.columns]"
   ]
  },
  {
   "cell_type": "markdown",
   "id": "5e592328",
   "metadata": {},
   "source": [
    "### Get a subset of interesting variables that let us look at stigma trajectory over time\n",
    "- check for missing\n",
    "- impute missing stigma scale score values with median per timepoint\n",
    "- impute missing personaluse_ever status with mode, 'No'"
   ]
  },
  {
   "cell_type": "code",
   "execution_count": null,
   "id": "aecdae2d",
   "metadata": {},
   "outputs": [],
   "source": [
    "sub_df_1 = all_df[['time-point','weight','stigma_scale_score','age4','region4','personaluse_ever']]\n",
    "#sub_df_1"
   ]
  },
  {
   "cell_type": "code",
   "execution_count": null,
   "id": "2ef1b82f",
   "metadata": {},
   "outputs": [],
   "source": [
    "# check if missing values\n",
    "sub_df_1.isnull().sum()\n",
    "\n",
    "# get all var types\n",
    "#sub_df_1.info()\n",
    "\n",
    "# summary of numeric vars (weight and stigma_scale_score)\n",
    "sub_df_1.describe()\n",
    "\n",
    "# summary of cat vars (age4, region9, personaluse_ever)\n",
    "sub_df_1.age4.value_counts(dropna=False)\n",
    "\n",
    "# summary of cat vars (age4, region9, personaluse_ever)\n",
    "sub_df_1.region4.value_counts(dropna=False)\n",
    "\n",
    "# summary of cat vars (age4, region9, personaluse_ever)\n",
    "sub_df_1.personaluse_ever.value_counts(dropna=False)\n",
    "\n",
    "# impute missing stigma scale score values as the median score by survey time-point\n",
    "sub_df_1['stigma_scale_score'].fillna(sub_df_1.groupby('time-point')['stigma_scale_score'].transform('median'),inplace=True)\n",
    "sub_df_1.isnull().sum()\n",
    "\n",
    "# replace missing values of personaluse_ever with mode value of 'No'\n",
    "sub_df_1.personaluse_ever.fillna('No',inplace=True)\n",
    "sub_df_1.isnull().sum()\n",
    "\n",
    "#sub_df_1\n",
    "\n",
    "# print the df with geo info hidden\n",
    "sub_df_1_print = sub_df_1.copy()\n",
    "sub_df_1_print['region4'] = sub_df_1_print['region4'].replace(['Midwest','West','Northeast','South'],'hidden')\n",
    "\n",
    "sub_df_1_print"
   ]
  },
  {
   "cell_type": "markdown",
   "id": "b6e5b6e1",
   "metadata": {},
   "source": [
    "### Unweighted and weighted stigma scale score over time\n",
    "- full sample; sum of weights normalized to count of individuals\n",
    "- by personal use status\n",
    "- by geographic region\n",
    "- by age group"
   ]
  },
  {
   "cell_type": "code",
   "execution_count": null,
   "id": "65b0e4ec",
   "metadata": {},
   "outputs": [],
   "source": [
    "sub_df_1['w_stigma_scale_score'] = sub_df_1['stigma_scale_score'] * sub_df_1['weight']\n",
    "stigma_all_df = sub_df_1.groupby('time-point').agg({'weight':['count','sum'],'stigma_scale_score':'mean','w_stigma_scale_score':'mean'})\n",
    "stigma_all_df.columns = stigma_all_df.columns.to_flat_index().str.join('_').str.rstrip('_')\n",
    "stigma_all_df"
   ]
  },
  {
   "cell_type": "code",
   "execution_count": null,
   "id": "c11bd96e",
   "metadata": {},
   "outputs": [],
   "source": [
    "# sum of weights will not be equal to count of individuals when we look at sub-groups of the full population; \n",
    "# will have to formally calculate weighted average\n",
    "\n",
    "\n",
    "def weighted_mean(x, **kws):\n",
    "    val, weight = map(np.asarray, zip(*x))\n",
    "    weighted_mean = (val * weight).sum() / weight.sum()\n",
    "    return (val * weight).sum() / weight.sum()\n",
    "\n",
    "sub_df_1[\"score_and_weight\"] = list(zip(sub_df_1.stigma_scale_score, sub_df_1.weight))"
   ]
  },
  {
   "cell_type": "code",
   "execution_count": null,
   "id": "7c491e5e",
   "metadata": {},
   "outputs": [],
   "source": [
    "fig, (ax1, ax2) = plt.subplots(1, 2, sharey=True)\n",
    "fig.suptitle('Stigma Scale Score over time',fontsize='x-large',fontweight='bold')\n",
    "\n",
    "sns.lineplot(ax = ax1,\n",
    "             data = sub_df_1,\n",
    "             x = 'time-point',\n",
    "             y = 'stigma_scale_score',\n",
    "             #hue = 'personaluse_ever'\n",
    "            )\n",
    "\n",
    "ax1.set_title('Unweighted')\n",
    "ax1.set(ylabel='Stigma Scale Score')\n",
    "ax1.invert_yaxis()\n",
    "\n",
    "sns.lineplot(ax = ax2,\n",
    "             data = sub_df_1,\n",
    "             x = 'time-point',\n",
    "             y = 'score_and_weight',\n",
    "             estimator = weighted_mean\n",
    "             #hue = 'personaluse_ever'\n",
    "            )\n",
    "\n",
    "ax2.set_title('Weighted')\n",
    "ax2.invert_yaxis()\n",
    "\n",
    "plt.subplots_adjust(top=0.80)\n",
    "plt.show()"
   ]
  },
  {
   "cell_type": "markdown",
   "id": "caaea2e4",
   "metadata": {},
   "source": [
    "### Stigma scale score by personal use ever status"
   ]
  },
  {
   "cell_type": "code",
   "execution_count": null,
   "id": "7185c4c4",
   "metadata": {},
   "outputs": [],
   "source": [
    "sub_df_1.groupby(['time-point','personaluse_ever']).stigma_scale_score.describe(percentiles=[0.25, 0.5, 0.75])"
   ]
  },
  {
   "cell_type": "code",
   "execution_count": null,
   "id": "5a7b0bae",
   "metadata": {},
   "outputs": [],
   "source": [
    "fig, (ax1, ax2) = plt.subplots(1, 2, sharey=True)\n",
    "fig.suptitle('Stigma Scale Score over time,\\nby Personal Use Status',fontsize='x-large',fontweight='bold')\n",
    "\n",
    "sns.lineplot(ax = ax1,\n",
    "             data = sub_df_1,\n",
    "             x = 'time-point',\n",
    "             y = 'stigma_scale_score',\n",
    "             hue = 'personaluse_ever'\n",
    "            )\n",
    "\n",
    "ax1.set_title('Unweighted')\n",
    "ax1.set(ylabel='Stigma Scale Score')\n",
    "ax1.invert_yaxis()\n",
    "\n",
    "sns.lineplot(ax = ax2,\n",
    "             data = sub_df_1,\n",
    "             x = 'time-point',\n",
    "             y = 'score_and_weight',\n",
    "             hue = 'personaluse_ever',\n",
    "             estimator = weighted_mean\n",
    "            )\n",
    "\n",
    "ax2.set_title('Weighted')\n",
    "ax2.invert_yaxis()\n",
    "\n",
    "legend1 = ax1.legend()\n",
    "legend1.remove()\n",
    "\n",
    "legend2 = ax2.legend()\n",
    "legend2.remove()\n",
    "\n",
    "leg = ax1.legend(loc='center', bbox_to_anchor=(1.1, -0.25), shadow=False, ncol=2, frameon=False)\n",
    "\n",
    "plt.subplots_adjust(top=0.80)\n",
    "plt.show()"
   ]
  },
  {
   "cell_type": "markdown",
   "id": "152587a4",
   "metadata": {},
   "source": [
    "### Stigma scale score by geographic region"
   ]
  },
  {
   "cell_type": "code",
   "execution_count": null,
   "id": "541e55a5",
   "metadata": {},
   "outputs": [],
   "source": [
    "sub_df_1.groupby(['time-point','region4']).stigma_scale_score.describe(percentiles=[0.25, 0.5, 0.75])"
   ]
  },
  {
   "cell_type": "code",
   "execution_count": null,
   "id": "ea19d021",
   "metadata": {},
   "outputs": [],
   "source": [
    "fig, (ax1, ax2) = plt.subplots(1, 2, sharey=True)\n",
    "fig.suptitle('Stigma Scale Score over time,\\nby Geographic Region',fontsize='x-large',fontweight='bold')\n",
    "\n",
    "sns.lineplot(ax = ax1,\n",
    "             data = sub_df_1,\n",
    "             x = 'time-point',\n",
    "             y = 'stigma_scale_score',\n",
    "             hue = 'region4'\n",
    "            )\n",
    "\n",
    "ax1.set_title('Unweighted')\n",
    "ax1.set(ylabel='Stigma Scale Score')\n",
    "ax1.invert_yaxis()\n",
    "\n",
    "sns.lineplot(ax = ax2,\n",
    "             data = sub_df_1,\n",
    "             x = 'time-point',\n",
    "             y = 'score_and_weight',\n",
    "             hue = 'region4',\n",
    "             estimator = weighted_mean\n",
    "            )\n",
    "\n",
    "ax2.set_title('Weighted')\n",
    "ax2.invert_yaxis()\n",
    "\n",
    "\n",
    "legend1 = ax1.legend()\n",
    "legend1.remove()\n",
    "\n",
    "legend2 = ax2.legend()\n",
    "legend2.remove()\n",
    "\n",
    "leg = ax1.legend(loc='center', bbox_to_anchor=(1.1, -0.25), shadow=False, ncol=4, frameon=False)\n",
    "plt.subplots_adjust(top=0.80)\n",
    "plt.show()"
   ]
  },
  {
   "cell_type": "markdown",
   "id": "b78fd27b",
   "metadata": {},
   "source": [
    "### Stigma scale score by age group"
   ]
  },
  {
   "cell_type": "code",
   "execution_count": null,
   "id": "c8f2336f",
   "metadata": {},
   "outputs": [],
   "source": [
    "sub_df_1.groupby(['time-point','age4']).stigma_scale_score.describe(percentiles=[0.25, 0.5, 0.75])"
   ]
  },
  {
   "cell_type": "code",
   "execution_count": null,
   "id": "80ba4d68",
   "metadata": {},
   "outputs": [],
   "source": [
    "fig, (ax1, ax2) = plt.subplots(1, 2, sharey=True)\n",
    "fig.suptitle('Stigma Scale Score over time,\\nby Age Group',fontsize='x-large',fontweight='bold')\n",
    "\n",
    "sns.lineplot(ax = ax1,\n",
    "             data = sub_df_1,\n",
    "             x = 'time-point',\n",
    "             y = 'stigma_scale_score',\n",
    "             hue = 'age4'\n",
    "            )\n",
    "\n",
    "ax1.set_title('Unweighted')\n",
    "ax1.set(ylabel='Stigma Scale Score')\n",
    "ax1.invert_yaxis()\n",
    "\n",
    "sns.lineplot(ax = ax2,\n",
    "             data = sub_df_1,\n",
    "             x = 'time-point',\n",
    "             y = 'score_and_weight',\n",
    "             hue = 'age4',\n",
    "             estimator = weighted_mean\n",
    "            )\n",
    "\n",
    "ax2.set_title('Weighted')\n",
    "ax2.invert_yaxis()\n",
    "\n",
    "\n",
    "legend1 = ax1.legend()\n",
    "legend1.remove()\n",
    "\n",
    "legend2 = ax2.legend()\n",
    "legend2.remove()\n",
    "\n",
    "leg = ax1.legend(loc='center', bbox_to_anchor=(1.1, -0.25), shadow=False, ncol=4, frameon=False)\n",
    "plt.subplots_adjust(top=0.80)\n",
    "plt.show()"
   ]
  }
 ],
 "metadata": {
  "kernelspec": {
   "display_name": "Python 3 (ipykernel)",
   "language": "python",
   "name": "python3"
  },
  "language_info": {
   "codemirror_mode": {
    "name": "ipython",
    "version": 3
   },
   "file_extension": ".py",
   "mimetype": "text/x-python",
   "name": "python",
   "nbconvert_exporter": "python",
   "pygments_lexer": "ipython3",
   "version": "3.9.6"
  }
 },
 "nbformat": 4,
 "nbformat_minor": 5
}
