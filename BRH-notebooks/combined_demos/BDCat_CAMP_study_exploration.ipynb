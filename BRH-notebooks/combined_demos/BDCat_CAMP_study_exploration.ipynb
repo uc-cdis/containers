{
 "cells": [
  {
   "cell_type": "markdown",
   "id": "dfd900de",
   "metadata": {
    "tags": []
   },
   "source": [
    "# Data Exploration of Childhood Asthma Management Program Study Teaching Dataset\n",
    "\n",
    "*Please note: This notebook uses open access data*     \n",
    "*Please note: BioDataCatalyst RAS Login in the BRH Profile Page needs to be authorized*\n",
    "\n",
    "Qiong Liu\n",
    "\n",
    "This teaching dataset was developed using the [Childhood Asthma Management Program(CAMP)](https://biolincc.nhlbi.nih.gov/media/teachingstudies/CAMP_Documentation.pdf?) as the data source. This trial was designed to assess the long-term effects of three treatments(`budesonide, nedocromil, or placebo`) on pulmonary function. The dataset includes longitudinal data of 695 particpants from CAMP trial. This teaching dataset was permutated and anonymized for teaching and training purposes.  This data was not prepared to reproduce the primary outcome results. \n",
    "\n",
    "In this tutorial, we will demonstrate how to pull the object file of CAMP study from [BioData Catalyst data commons](https://gen3.biodatacatalyst.nhlbi.nih.gov/) into a BRH workspace, and perform data exploration and visualization using Python packages."
   ]
  },
  {
   "cell_type": "markdown",
   "id": "2a14a4e3",
   "metadata": {},
   "source": [
    "### Import Python libraries"
   ]
  },
  {
   "cell_type": "code",
   "execution_count": null,
   "id": "0a7a22db",
   "metadata": {},
   "outputs": [],
   "source": [
    "import pandas as pd\n",
    "import numpy as np\n",
    "import pyreadstat\n",
    "import plotly.graph_objects as go\n",
    "from plotly.subplots import make_subplots\n",
    "import plotly.express as px\n",
    "from scipy import stats\n",
    "\n",
    "pd.set_option('mode.chained_assignment', None)"
   ]
  },
  {
   "cell_type": "markdown",
   "id": "34e36246",
   "metadata": {},
   "source": [
    "### Read object file\n",
    "\n",
    "**Note**: Please authorize BioDataCatalyst RAS login first under [user profile page](https://brh.data-commons.org/identity)."
   ]
  },
  {
   "cell_type": "code",
   "execution_count": null,
   "id": "d0f4057b",
   "metadata": {},
   "outputs": [],
   "source": [
    "!gen3 drs-pull object dg.4503/8d84511c-76f9-4464-8fdf-6dd668ed9c64\n",
    "\n",
    "camp_df, camp_meta = pyreadstat.read_sav(\"camp_teach.sav\", apply_value_formats=True)"
   ]
  },
  {
   "cell_type": "code",
   "execution_count": null,
   "id": "65c4ae6f",
   "metadata": {},
   "outputs": [],
   "source": [
    "# Display column names and column description\n",
    "col_names =  camp_meta.column_names_to_labels\n",
    "pd.DataFrame(col_names.items(), columns=['Label', 'Name'])"
   ]
  },
  {
   "cell_type": "markdown",
   "id": "be3e5c04",
   "metadata": {},
   "source": [
    "**FEV1** is the amount of air you can force from your lungs in one second. The normal range of FEV1 varies from person to person. They’re based on standards for an average healthy person of your age, race, height, and gender. Each person has their own predicted FEV1 value. Therefore, FEV1 percentage of predicted (**FEVPP**) can be used as the key measurement for pulmonary function assessment."
   ]
  },
  {
   "cell_type": "markdown",
   "id": "15ce591f",
   "metadata": {},
   "source": [
    "### Participants demographic data exploration and visualization"
   ]
  },
  {
   "cell_type": "code",
   "execution_count": null,
   "id": "36b817db",
   "metadata": {},
   "outputs": [],
   "source": [
    "# add age group to the dataframe\n",
    "def age_group(agelist):\n",
    "    grouplabel1 = \"Early Childhood (2-5yr)\"\n",
    "    grouplabel2 = \"Middle Childhood (6-11yr)\"\n",
    "    grouplabel3 = \"Early Adolescence (12-18yr)\"\n",
    "    grouplist = []\n",
    "    for i in agelist:\n",
    "        if i <= 5:\n",
    "            grouplist.append(grouplabel1)\n",
    "        elif i <= 11:\n",
    "            grouplist.append(grouplabel2)\n",
    "        elif i >= 12:\n",
    "            grouplist.append(grouplabel3)\n",
    "        else:\n",
    "            grouplist.append(\"NA\")\n",
    "    return grouplist\n",
    "camp_df['age_group'] = age_group(camp_df['age_rz'])\n",
    "\n",
    "first_visit = camp_df.loc[(camp_df[\"visitc\"]==\"000\")]\n",
    "first_visit.head(3)"
   ]
  },
  {
   "cell_type": "code",
   "execution_count": null,
   "id": "563c7d09",
   "metadata": {},
   "outputs": [],
   "source": [
    "# The row number of the df first_visit shows how many participants were enrolled to the study\n",
    "first_visit.shape"
   ]
  },
  {
   "cell_type": "code",
   "execution_count": null,
   "id": "bfa33aeb",
   "metadata": {},
   "outputs": [],
   "source": [
    "# Shows the counts of both genders\n",
    "first_visit['GENDER'].value_counts()"
   ]
  },
  {
   "cell_type": "code",
   "execution_count": null,
   "id": "2ed9b572",
   "metadata": {},
   "outputs": [],
   "source": [
    "# Plot the composition of age groups by gender among participants in the CAMP study\n",
    "count_sex_age = pd.crosstab(index=first_visit['age_group'], columns=first_visit['GENDER'])\n",
    "\n",
    "labels=['Early Adolescence (12-18yr)', 'Early childhood (2-5yr)', 'Middle childhood (6-11yr)']\n",
    "pie_age_gender = make_subplots(1, 2, specs=[[{'type':'domain'}, {'type':'domain'}]],\n",
    "                    subplot_titles=['Female', 'Male'])\n",
    "pie_age_gender.add_trace(go.Pie(labels=labels, values=count_sex_age['f'], scalegroup='one',\n",
    "                     name=\"Female\"), 1, 1)\n",
    "pie_age_gender.add_trace(go.Pie(labels=labels, values=count_sex_age['m'], scalegroup='one',\n",
    "                     name=\"Male\"), 1, 2)\n",
    "\n",
    "pie_age_gender.update_layout(title_text='Gender and Age Characteristics of CAMP Study',\n",
    "                         annotations=[dict(text='Female', x=0.225, y=0.47, font_size=15, showarrow=False),\n",
    "                                      dict(text='Male', x=0.78, y=0.46, font_size=15, showarrow=False)],\n",
    "                            width=800, height=400)\n",
    "pie_age_gender.update_traces(hole=.4, hoverinfo=\"label+value+percent+name\")\n",
    "pie_age_gender.show()"
   ]
  },
  {
   "cell_type": "code",
   "execution_count": null,
   "id": "4f500bb7",
   "metadata": {},
   "outputs": [],
   "source": [
    "# Plot the composition of ethnicity groups by gender among participants in the CAMP study\n",
    "count_sex_ethnic = pd.crosstab(index=first_visit['ETHNIC'], columns=first_visit['GENDER'])\n",
    "\n",
    "ethnic_labels= [\"black\",\"hispanic\",\"other\",\"white\"]\n",
    "pie_ethnic_gender = make_subplots(1, 2, specs=[[{'type':'domain'}, {'type':'domain'}]],\n",
    "                    subplot_titles=['Female', 'Male'])\n",
    "pie_ethnic_gender.add_trace(go.Pie(labels=ethnic_labels, values=count_sex_ethnic['f'], scalegroup='one',\n",
    "                     name=\"Female\"), 1, 1)\n",
    "pie_ethnic_gender.add_trace(go.Pie(labels=ethnic_labels, values=count_sex_ethnic['m'], scalegroup='one',\n",
    "                     name=\"Male\"), 1, 2)\n",
    "\n",
    "pie_ethnic_gender.update_layout(title_text='Gender and Ethnicity Characteristics of CAMP Study',\n",
    "                         annotations=[dict(text='Female', x=0.225, y=0.47, font_size=15, showarrow=False),\n",
    "                                      dict(text='Male', x=0.78, y=0.46, font_size=15, showarrow=False)],\n",
    "                               width=800, height=400)\n",
    "pie_ethnic_gender.update_traces(hole=.4, hoverinfo=\"label+value+percent+name\")\n",
    "pie_ethnic_gender.show()"
   ]
  },
  {
   "cell_type": "code",
   "execution_count": null,
   "id": "6448378b",
   "metadata": {},
   "outputs": [],
   "source": [
    "# Counts of participants of different treatment groups\n",
    "first_visit['TX'].value_counts()"
   ]
  },
  {
   "cell_type": "markdown",
   "id": "3a65f703",
   "metadata": {},
   "source": [
    "- At the begining of the study, there were a total of 695 participants enrolled to the study.\n",
    "- Both treatment groups of `budesonide` and `nedocromil` had 210 participants. A total of 141 participants and 134 participants were enrolled to the group of `placebo nedocromil` and `placebo budesonide`, respectively.\n",
    "- More male participants (412) were enrolled than females (283).\n",
    "- Over 3 quarters of the participants at enrollment were from age group middle childhood (6-11 yr). The composition of age groups between male and female participants are similar.\n",
    "- Nearly three quarters of the participants were white. The rest of the participants were from black, hispanic, or other ethnicity groups."
   ]
  },
  {
   "cell_type": "markdown",
   "id": "de446dac",
   "metadata": {},
   "source": [
    "### Key measurements exploration and visualization\n",
    "\n",
    "`PREFEVPP` is the FEV1 percentage of predicted before bronchodialators. We chose this variable because it reflects the pulmonary function of participants without the confounding effect of bronchodialator. In this section, we explored the variable of `PREFEVPP` between different ethnicity groups and differnt follow up visits"
   ]
  },
  {
   "cell_type": "code",
   "execution_count": null,
   "id": "55597c86",
   "metadata": {},
   "outputs": [],
   "source": [
    "first_visit_rmna = first_visit[first_visit['PREFEVPP'].isna()==False]"
   ]
  },
  {
   "cell_type": "code",
   "execution_count": null,
   "id": "259f4251",
   "metadata": {},
   "outputs": [],
   "source": [
    "# Visualize the boxplots of PREFEVPP of different ethnicity groups at first visit\n",
    "histo_PREFEVPP_ethnic  = px.box(first_visit_rmna, x='ETHNIC', \n",
    "                                y=\"PREFEVPP\", color=\"GENDER\", \n",
    "                                title=\"Boxplot of PREFEVPP at First Visit\")\n",
    "histo_PREFEVPP_ethnic.show()"
   ]
  },
  {
   "cell_type": "code",
   "execution_count": null,
   "id": "3b3c4f1b",
   "metadata": {},
   "outputs": [],
   "source": [
    "camp_df['visit_month'] = camp_df['visitc'].astype(int)\n",
    "\n",
    "visit_month_list = [0,12,24,36,48,60,72]\n",
    "# extrac id that have PREFEVPP value for all of these visits\n",
    "all_id = camp_df['id'].unique().tolist()\n",
    "fig_id_list=[]\n",
    "for i in all_id:\n",
    "    i_df = camp_df[(camp_df['id']==i) & (camp_df['PREFEVPP'].isna()==False)]\n",
    "    i_df_visit =  i_df['visit_month'].tolist()\n",
    "    if set(visit_month_list).issubset(set(i_df_visit)):\n",
    "        fig_id_list.append(i)\n",
    "    else: pass"
   ]
  },
  {
   "cell_type": "code",
   "execution_count": null,
   "id": "219e49d6",
   "metadata": {},
   "outputs": [],
   "source": [
    "camp_df_subset = camp_df.loc[camp_df['id'].isin(fig_id_list) & (camp_df['visit_month'].isin(visit_month_list))]\n",
    "line_PREFEVPP_visit =  px.box(camp_df_subset, x='visit_month', y='PREFEVPP', \n",
    "                              color=\"GENDER\",\n",
    "                              facet_row=\"TX\",\n",
    "                              width=800, height=800)\n",
    "line_PREFEVPP_visit.show()"
   ]
  },
  {
   "cell_type": "markdown",
   "id": "bfd8c90c",
   "metadata": {},
   "source": [
    "### Analysis of long-term effect of budesonide and nedocromil on pulmonary function"
   ]
  },
  {
   "cell_type": "markdown",
   "id": "66c40e75",
   "metadata": {},
   "source": [
    "The purpose of this notebook is to assess the long term effect of two drugs. Given the number of observations at different time points of follow up visits, we selected 72 months (6 years since intervention treatment) as the time point to evaluate the long term effect of medicine intervention.   "
   ]
  },
  {
   "cell_type": "code",
   "execution_count": null,
   "id": "a04346be",
   "metadata": {},
   "outputs": [],
   "source": [
    "# Define id list that have both records of PREFEVPP at 72 month visit and first visit\n",
    "def intersection(lst1, lst2):\n",
    "    return list(set(lst1) & set(lst2))\n",
    "\n",
    "visit_72_id = camp_df.loc[(camp_df[\"visitc\"]==\"072\") & (camp_df[\"PREFEVPP\"].isna()==False),]['id'].tolist()\n",
    "visit_0_id = camp_df.loc[(camp_df[\"visitc\"]==\"000\") & (camp_df[\"PREFEVPP\"].isna()==False),]['id'].tolist()\n",
    "\n",
    "id_intersect =intersection(visit_72_id, visit_0_id)\n",
    "\n",
    "visit_72_df = camp_df.loc[(camp_df['id'].isin(id_intersect)) & (camp_df['visit_month'].isin([72])),['id','PREFEVPP','POSFEVPP']]\n",
    "visit_0_df = camp_df.loc[(camp_df['id'].isin(id_intersect)) & (camp_df['visit_month'].isin([0])),]\n",
    "\n",
    "visit_72_df = visit_72_df.rename(columns={\"PREFEVPP\":\"PREFEVPP_72\", \"POSFEVPP\":\"POSFEVPP_72\"})\n",
    "\n",
    "# merge two dfs \n",
    "fev1_72_df = pd.merge(visit_0_df, visit_72_df, how='inner', on='id')\n",
    "\n",
    "# create a new variable PREFEVPP_diff that calculates the difference between PREFEVPP value at 72 and 0 month\n",
    "fev1_72_df['PREFEVPP_diff'] = fev1_72_df['PREFEVPP_72']-fev1_72_df['PREFEVPP']\n",
    "fev1_72_df.head()"
   ]
  },
  {
   "cell_type": "code",
   "execution_count": null,
   "id": "1488cd13",
   "metadata": {},
   "outputs": [],
   "source": [
    "# The number of participants of different treatment groups\n",
    "fev1_72_df['TX'].value_counts()"
   ]
  },
  {
   "cell_type": "code",
   "execution_count": null,
   "id": "99d0a911",
   "metadata": {},
   "outputs": [],
   "source": [
    "# Here are the histogram distributions of PREFEVPP diff across 4 treatment groups\n",
    "# The histogram shows that the PREFEVPP_diff follows normal distribution\n",
    "fig_his = px.histogram(fev1_72_df, x=\"PREFEVPP_diff\", facet_row=\"TX\",\n",
    "                       title=\"Histograms of PREFEVPP Diffs Between 72 and 0 Month\", \n",
    "                       height=600, width=800)\n",
    "fig_his.for_each_annotation(lambda a: a.update(text=a.text.split(\"=\")[-1]))\n",
    "fig_his.update_layout(\n",
    "    xaxis_title=\"Diff of PREFEVPP between 72 and 0 month\"\n",
    ")\n",
    "fig_his.show()"
   ]
  },
  {
   "cell_type": "code",
   "execution_count": null,
   "id": "66f6e007",
   "metadata": {},
   "outputs": [],
   "source": [
    "# Extract PREFEVPP_diff from each treatment group\n",
    "bud_diff = fev1_72_df[fev1_72_df['TX']=='bud']['PREFEVPP_diff']\n",
    "pbud_diff = fev1_72_df[fev1_72_df['TX']=='pbud']['PREFEVPP_diff']\n",
    "ned_diff = fev1_72_df[fev1_72_df['TX']=='ned']['PREFEVPP_diff']\n",
    "pned_diff = fev1_72_df[fev1_72_df['TX']=='pned']['PREFEVPP_diff']"
   ]
  },
  {
   "cell_type": "code",
   "execution_count": null,
   "id": "20a4f8fe",
   "metadata": {},
   "outputs": [],
   "source": [
    "# T test between bud treatment group and bud placebo control group \n",
    "stats.ttest_ind(bud_diff, pbud_diff, equal_var=False, nan_policy='raise')"
   ]
  },
  {
   "cell_type": "code",
   "execution_count": null,
   "id": "4f15db78",
   "metadata": {},
   "outputs": [],
   "source": [
    "# T test between ned treatment group and ned placebo control group \n",
    "stats.ttest_ind(ned_diff, pned_diff, equal_var=False, nan_policy='raise')"
   ]
  },
  {
   "cell_type": "markdown",
   "id": "337920eb",
   "metadata": {},
   "source": [
    "- The P values of both T-tests were bigger than 0.05. We failed to reject the hypothesis H0 that 2 independent samples have identical average (expected) values.\n",
    "- Therefore, there was no significant difference found between the intervention treatment and their placebo group for both medications in this dataset."
   ]
  }
 ],
 "metadata": {
  "kernelspec": {
   "display_name": "Python 3 (ipykernel)",
   "language": "python",
   "name": "python3"
  },
  "language_info": {
   "codemirror_mode": {
    "name": "ipython",
    "version": 3
   },
   "file_extension": ".py",
   "mimetype": "text/x-python",
   "name": "python",
   "nbconvert_exporter": "python",
   "pygments_lexer": "ipython3",
   "version": "3.9.6"
  }
 },
 "nbformat": 4,
 "nbformat_minor": 5
}
