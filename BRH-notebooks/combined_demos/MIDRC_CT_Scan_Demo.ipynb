{
 "cells": [
  {
   "cell_type": "markdown",
   "id": "188e41c5-acfc-455a-8495-61b0685684ea",
   "metadata": {},
   "source": [
    "# Demo - Intereacting With MIDRC CT Scan Images"
   ]
  },
  {
   "cell_type": "markdown",
   "id": "c4821a3a-0be2-47dd-80c0-9d387549528e",
   "metadata": {},
   "source": [
    "In this demo we will review how to import MIDRC imaging data, how to convert CT scan images from dicom (dcm) formats to png and jpeg formats, and how to view these CT scan images. This demo will also show how to extract file and patient metadata from the header of dicom (dcm) files."
   ]
  },
  {
   "cell_type": "markdown",
   "id": "1df9c244-247a-4476-b0dd-bf672acc6d4c",
   "metadata": {},
   "source": [
    "### Import Data And Packages\n",
    "Import the packages pydicom, pillow, and dicom_csv, as well as pandas, os and numpy. If any of these packages are not already installed to your workspace you can run one of the following:\n",
    "- 'pip install < package >' in the workspace terminal\n",
    "- '!pip install < package >' in a notebook cell"
   ]
  },
  {
   "cell_type": "code",
   "execution_count": null,
   "id": "937e641f-5220-459e-b55e-9b99cb976d8b",
   "metadata": {},
   "outputs": [],
   "source": [
    "!pip install pydicom -q\n",
    "!pip install pillow -q\n",
    "!pip install dicom-csv -q"
   ]
  },
  {
   "cell_type": "code",
   "execution_count": null,
   "id": "be7d4148-b13d-41a0-b972-9491880f43af",
   "metadata": {},
   "outputs": [],
   "source": [
    "import pydicom\n",
    "import numpy as np\n",
    "from PIL import Image\n",
    "import pandas as pd\n",
    "import os\n",
    "from dicom_csv import join_tree\n",
    "import zipfile"
   ]
  },
  {
   "cell_type": "markdown",
   "id": "767559ac-5e0d-4c21-b592-88ccc9aa2f69",
   "metadata": {},
   "source": [
    "Import data objects of CT scan images using the gen3SDK and unzip the files"
   ]
  },
  {
   "cell_type": "code",
   "execution_count": null,
   "id": "b3e9e11c-2b8e-43f1-976e-318fc773458f",
   "metadata": {},
   "outputs": [],
   "source": [
    "!gen3 --commons_url data.midrc.org drs-pull object dg.MD1R/52ed5c59-1910-499b-a80e-00329209e148"
   ]
  },
  {
   "cell_type": "code",
   "execution_count": null,
   "id": "6bd5cfc0-f014-44ff-8b3b-c5963780fe3b",
   "metadata": {},
   "outputs": [],
   "source": [
    "zip_image_path = 'A840445/1.3.6.1.4.1.14519.5.2.1.99.1071.22152686345791690835528908062918/1.3.6.1.4.1.14519.5.2.1.99.1071.32717876047095240098568067022786.zip'\n",
    "\n",
    "def unzip_all(zip_filepath, extract_to_dir):\n",
    "    with zipfile.ZipFile(zip_filepath, 'r') as zip_ref:\n",
    "        zip_ref.extractall(extract_to_dir)\n",
    "\n",
    "extract_to_dir = 'COVID-19-NY-SBU'\n",
    "unzip_all(zip_image_path, extract_to_dir)"
   ]
  },
  {
   "cell_type": "markdown",
   "id": "5dc3a710-c717-4119-a658-1d07adb50f05",
   "metadata": {},
   "source": [
    "All data objects are now stored under the folder 'COVID-19-NY-SBU'"
   ]
  },
  {
   "cell_type": "markdown",
   "id": "3a99afeb-2651-4a35-b71c-8a44ce0ef103",
   "metadata": {},
   "source": [
    "### View Image"
   ]
  },
  {
   "cell_type": "markdown",
   "id": "5e87d23c-9eba-4c72-83dc-d55d8b994b01",
   "metadata": {},
   "source": [
    "Read the dcm image using the relative file path."
   ]
  },
  {
   "cell_type": "code",
   "execution_count": null,
   "id": "80f91180-6084-42cc-97f5-5520b4676ffe",
   "metadata": {},
   "outputs": [],
   "source": [
    "image_path = 'COVID-19-NY-SBU/1.3.6.1.4.1.14519.5.2.1.99.1071.32717876047095240098568067022786/1-105.dcm'\n",
    "ds = pydicom.dcmread(image_path)"
   ]
  },
  {
   "cell_type": "markdown",
   "id": "07be2401-747b-496a-bc90-3489e04ddcba",
   "metadata": {},
   "source": [
    "Get the pixel arrays for the image."
   ]
  },
  {
   "cell_type": "code",
   "execution_count": null,
   "id": "eb2a2b59-d26b-496e-986b-abd20c97ace1",
   "metadata": {},
   "outputs": [],
   "source": [
    "new_image = ds.pixel_array.astype(float)\n",
    "new_image"
   ]
  },
  {
   "cell_type": "markdown",
   "id": "6fbc9cca-a6de-4859-acdc-71e61f09c821",
   "metadata": {},
   "source": [
    "Scale the image's pixel array and convert to a uint8 integer."
   ]
  },
  {
   "cell_type": "code",
   "execution_count": null,
   "id": "65180d29-4c48-4e74-abe3-3a966106486d",
   "metadata": {},
   "outputs": [],
   "source": [
    "scaled_image = (np.maximum(new_image, 0) / new_image.max()) * 255.0\n",
    "scaled_image = np.uint8(scaled_image)\n",
    "scaled_image"
   ]
  },
  {
   "cell_type": "markdown",
   "id": "5178dd7b-6b37-4e52-89e2-376817b1a040",
   "metadata": {},
   "source": [
    "Use the Image package to convert the image array and show the image."
   ]
  },
  {
   "cell_type": "code",
   "execution_count": null,
   "id": "7d98025e-f429-4106-86a5-9639d9d082a5",
   "metadata": {},
   "outputs": [],
   "source": [
    "final_image = Image.fromarray(scaled_image)\n",
    "final_image.show()"
   ]
  },
  {
   "cell_type": "markdown",
   "id": "471d7259-a73a-471f-aa94-cc6ea2985713",
   "metadata": {},
   "source": [
    "### Convert Images\n",
    "Convert images form dcm format to jpeg and png formats and place converted image format to the original image folder."
   ]
  },
  {
   "cell_type": "code",
   "execution_count": null,
   "id": "302f875e-0e95-4fae-83ea-4a729e3829ec",
   "metadata": {},
   "outputs": [],
   "source": [
    "def view_dicom_image(image_path):\n",
    "    \n",
    "    ds = pydicom.dcmread(image_path)\n",
    "    \n",
    "    new_image = ds.pixel_array.astype(float)\n",
    "    \n",
    "    scaled_image = np.uint8((np.maximum(new_image, 0) / new_image.max()) * 255.0)\n",
    "    \n",
    "    final_image = Image.fromarray(scaled_image)\n",
    "\n",
    "    final_image.show()\n",
    "\n",
    "def dcm_to_png(image_path):\n",
    "    \n",
    "    ds = pydicom.dcmread(image_path)\n",
    "    \n",
    "    new_image = ds.pixel_array.astype(float)\n",
    "    \n",
    "    scaled_image = np.uint8((np.maximum(new_image, 0) / new_image.max()) * 255.0)\n",
    "    \n",
    "    final_image = Image.fromarray(scaled_image)\n",
    "\n",
    "    final_image.save(image_path.rsplit('/', 1)[1][:-3] + 'png')\n",
    "    \n",
    "\n",
    "def dcm_to_jpeg(image_path):\n",
    "    \n",
    "    ds = pydicom.dcmread(image_path)\n",
    "    \n",
    "    new_image = ds.pixel_array.astype(float)\n",
    "    \n",
    "    scaled_image = np.uint8((np.maximum(new_image, 0) / new_image.max()) * 255.0)\n",
    "    \n",
    "    final_image = Image.fromarray(scaled_image)\n",
    "\n",
    "    final_image.save(image_path.rsplit('/', 1)[1][:-3] + 'jpg')    \n"
   ]
  },
  {
   "cell_type": "markdown",
   "id": "713fa890-089f-46f3-bd20-ae15f95e2054",
   "metadata": {},
   "source": [
    "Convert dicom image to png and save."
   ]
  },
  {
   "cell_type": "code",
   "execution_count": null,
   "id": "70facdf4-428a-42d2-8dfb-768c1a06ebbe",
   "metadata": {},
   "outputs": [],
   "source": [
    "image_path = 'COVID-19-NY-SBU/1.3.6.1.4.1.14519.5.2.1.99.1071.32717876047095240098568067022786/1-103.dcm'\n",
    "dcm_to_png(image_path)"
   ]
  },
  {
   "cell_type": "markdown",
   "id": "c698cb4d-d07c-4832-8d53-b780376a3990",
   "metadata": {},
   "source": [
    "Convert dicom image to jpg and save."
   ]
  },
  {
   "cell_type": "code",
   "execution_count": null,
   "id": "9b50b421-bea9-49e2-919d-aaf68ac89e20",
   "metadata": {},
   "outputs": [],
   "source": [
    "image_path = 'COVID-19-NY-SBU/1.3.6.1.4.1.14519.5.2.1.99.1071.32717876047095240098568067022786/1-088.dcm'\n",
    "dcm_to_jpeg(image_path)"
   ]
  },
  {
   "cell_type": "markdown",
   "id": "753d98ed-fed8-463a-9a8a-ea73996dd6c7",
   "metadata": {},
   "source": [
    "Display a few dicom images."
   ]
  },
  {
   "cell_type": "code",
   "execution_count": null,
   "id": "f43f070e-f566-4b64-9df7-37bacc734bcb",
   "metadata": {},
   "outputs": [],
   "source": [
    "image_path = 'COVID-19-NY-SBU/1.3.6.1.4.1.14519.5.2.1.99.1071.32717876047095240098568067022786/1-001.dcm'\n",
    "view_dicom_image(image_path)"
   ]
  },
  {
   "cell_type": "code",
   "execution_count": null,
   "id": "a3df1180-3cfe-49bc-bcdf-3c81f7010229",
   "metadata": {},
   "outputs": [],
   "source": [
    "image_path = 'COVID-19-NY-SBU/1.3.6.1.4.1.14519.5.2.1.99.1071.32717876047095240098568067022786/1-006.dcm'\n",
    "view_dicom_image(image_path)"
   ]
  },
  {
   "cell_type": "code",
   "execution_count": null,
   "id": "b27ab66e-f5b4-4d11-b058-9dcc72b344d9",
   "metadata": {},
   "outputs": [],
   "source": [
    "image_path = 'COVID-19-NY-SBU/1.3.6.1.4.1.14519.5.2.1.99.1071.32717876047095240098568067022786/1-053.dcm'\n",
    "view_dicom_image(image_path)"
   ]
  },
  {
   "cell_type": "markdown",
   "id": "bd728395-6abf-4823-bbaa-7c26928b2468",
   "metadata": {},
   "source": [
    "### Extract Metadata"
   ]
  },
  {
   "cell_type": "markdown",
   "id": "35b6f935-2a8f-4140-922e-3d010a14356d",
   "metadata": {},
   "source": [
    "The following function will extract the file and patient metadata from the header of each dicom (.dcm) file within a given folder and place the collected metadata into a pandas dataframe."
   ]
  },
  {
   "cell_type": "code",
   "execution_count": null,
   "id": "58bab749-3d4a-44ab-942c-33a22a7406cb",
   "metadata": {},
   "outputs": [],
   "source": [
    "def extract_metadata(base_folder):\n",
    "  \n",
    "    df = pd.DataFrame()\n",
    "    file_folders = os.listdir(path = base_folder)\n",
    "    \n",
    "    for folder in file_folders:\n",
    "            path = base_folder + '/' + folder\n",
    "            meta = join_tree(path, verbose=2)\n",
    "            df = pd.concat([df, meta])\n",
    "        \n",
    "    return df"
   ]
  },
  {
   "cell_type": "code",
   "execution_count": null,
   "id": "ef7dde8b-2ffe-4e1f-9edc-657af27b6fbc",
   "metadata": {},
   "outputs": [],
   "source": [
    "base_folder =  'COVID-19-NY-SBU'\n",
    "metadata = extract_metadata(base_folder)\n",
    "metadata"
   ]
  },
  {
   "cell_type": "markdown",
   "id": "075b4095-a104-457b-8283-052a7582602b",
   "metadata": {},
   "source": [
    "Included in this metadata are import pieces of file and patient data, such as the body part examined and the patient's sex"
   ]
  },
  {
   "cell_type": "code",
   "execution_count": null,
   "id": "19ca1110-857e-4ae9-86e8-2eb6c997e3d5",
   "metadata": {},
   "outputs": [],
   "source": [
    "metadata.columns[40:60]"
   ]
  },
  {
   "cell_type": "code",
   "execution_count": null,
   "id": "6ba032f9-5a7f-4c84-b84a-4bacd87bba6b",
   "metadata": {},
   "outputs": [],
   "source": [
    "metadata.BodyPartExamined"
   ]
  },
  {
   "cell_type": "code",
   "execution_count": null,
   "id": "db69cae5-062a-4060-a9c2-166c6e15efb9",
   "metadata": {},
   "outputs": [],
   "source": [
    "metadata.PatientSex"
   ]
  },
  {
   "cell_type": "code",
   "execution_count": null,
   "id": "5224e212-24ce-4d79-b27c-b0cf064f0590",
   "metadata": {},
   "outputs": [],
   "source": []
  }
 ],
 "metadata": {
  "kernelspec": {
   "display_name": "Python 3 (ipykernel)",
   "language": "python",
   "name": "python3"
  },
  "language_info": {
   "codemirror_mode": {
    "name": "ipython",
    "version": 3
   },
   "file_extension": ".py",
   "mimetype": "text/x-python",
   "name": "python",
   "nbconvert_exporter": "python",
   "pygments_lexer": "ipython3",
   "version": "3.9.6"
  }
 },
 "nbformat": 4,
 "nbformat_minor": 5
}
