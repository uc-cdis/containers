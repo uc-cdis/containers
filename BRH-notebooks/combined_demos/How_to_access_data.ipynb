{
 "cells": [
  {
   "cell_type": "markdown",
   "id": "01dd28b5-9cd5-41de-bb71-7f25db5c3356",
   "metadata": {
    "tags": []
   },
   "source": [
    "# Data Access: Ways to bring data into the Biomedical Research Hub (BRH) workspace\n",
    "As a new user, you may be interested in exploring different ways to access data in BRH. In this notebook we will use some open access data to demonstate a few different ways to bring data into the BRH workspace and use the Gen3 SDK to download files: \n",
    "1. Using a downloaded manifest.json (Manifest)\n",
    "2. Download a single file using its identifier (Single file)\n",
    "3. Open project in workspace\n",
    "4. Download zip files using Gen3 SDK\n",
    "5. Using the gen3 SDK and GraphQL to explore data in a project (API)\n",
    "\n",
    "# 1. Using a downloaded manifest.json (Manifest method)\n",
    "## Objective\n",
    "Bring in open access JCOIN study \"OEPS\" into this notebook using a manifest file\n",
    "\n",
    "## Pre-requisite\n",
    "1. JCOIN Data Commons is Linked in the [BRH Profile Page](https://brh.data-commons.org/identity)\n",
    "\n",
    "## Steps to download manifest file\n",
    "1. Go to the [BRH Discovery page](https://brh.data-commons.org/) \n",
    "2. In the \"Search studies by keyword\" box, type OEPS. The OEPS study details are listed below:\n",
    "\t\n",
    "\t\t STUDY NAME = Methodology and Advanced Analytics Resource Center, \n",
    "\t\t FULL NAME = Opioid Environment Policy Scan (OEPS), \n",
    "\t\t ID Number = 1U2CDA050098-01_b, \n",
    "\t\t Data Commons = JCOIN\n",
    "3. Select the study by clicking the check box on the left for OEPS.\n",
    "4. Click \"Download\" button to download the manifest file\n",
    "5. To bring the downloaded manifest.json into this workspace, upload the file using the \"Upload Files\" up arrow under jupyter \"Run\". *[Reference help link](https://jupyterlab.readthedocs.io/en/stable/user/files.html#uploading-and-downloading)* \n"
   ]
  },
  {
   "cell_type": "code",
   "execution_count": 1,
   "id": "d8eb4eab-53ce-4876-8e60-c0287b3e5f05",
   "metadata": {},
   "outputs": [],
   "source": [
    "# import python libraries to test data access\n",
    "import os\n",
    "import json\n",
    "import glob\n",
    "import numpy as np\n",
    "import matplotlib.pyplot as plt\n",
    "import seaborn as sns\n",
    "import pandas as pd\n",
    "from zipfile import ZipFile"
   ]
  },
  {
   "cell_type": "markdown",
   "id": "c46d98a4-aeb6-4f28-b4d0-8c7e4f2f8665",
   "metadata": {},
   "source": [
    "#### Load manifest.json of the OEPS study\n"
   ]
  },
  {
   "cell_type": "code",
   "execution_count": 2,
   "id": "b5463845-f461-4c0b-956c-2deac32966fa",
   "metadata": {},
   "outputs": [],
   "source": [
    "with open('manifest.json', 'r') as manifest:\n",
    "    manifest_data = json.load(manifest)"
   ]
  },
  {
   "cell_type": "markdown",
   "id": "40785cc6-70a2-400a-bfae-b4070e25d468",
   "metadata": {},
   "source": [
    "#### We will use gen3 SDK to download project files. Its already installed in the tutorial base image"
   ]
  },
  {
   "cell_type": "markdown",
   "id": "c9dc3b0f-0f45-434a-8482-88fb1e8a1a0b",
   "metadata": {},
   "source": [
    "#### The gen3 SDK command below lists all files in the manifest"
   ]
  },
  {
   "cell_type": "code",
   "execution_count": 3,
   "id": "982ea666-59ea-4884-aad7-43bb3714201e",
   "metadata": {},
   "outputs": [
    {
     "name": "stdout",
     "output_type": "stream",
     "text": [
      "[2022-09-02 18:57:47,005][WARNING] Unable to write access token to cache file. Exceeded number of retries.\n",
      "Resolving objects: 100%|██████████████████████| 124/124 [00:06<00:00, 18.83it/s]\n",
      "                               Access01_T.csv;      7.46 MB; jcoin.datacommons.io; 04/06/2021, 11:20:05\n",
      "\n",
      "                               Access01_Z.csv;       1.8 MB; jcoin.datacommons.io; 04/06/2021, 11:20:18\n",
      "\n",
      "                               Access02_T.csv;      3.72 MB; jcoin.datacommons.io; 05/08/2021, 14:12:39\n",
      "\n",
      "                               Access02_Z.csv;    823.01 KB; jcoin.datacommons.io; 05/08/2021, 14:10:24\n",
      "\n",
      "                               Access03_T.csv;      3.71 MB; jcoin.datacommons.io; 05/08/2021, 14:11:32\n",
      "\n",
      "                               Access03_Z.csv;     822.3 KB; jcoin.datacommons.io; 05/08/2021, 14:10:55\n",
      "\n",
      "                               Access04_T.csv;      3.74 MB; jcoin.datacommons.io; 05/08/2021, 14:12:06\n",
      "\n",
      "                               Access04_Z.csv;    827.53 KB; jcoin.datacommons.io; 05/08/2021, 14:10:26\n",
      "\n",
      "                               Access05_T.csv;      3.72 MB; jcoin.datacommons.io; 04/06/2021, 11:22:08\n",
      "\n",
      "                               Access05_Z.csv;    822.97 KB; jcoin.datacommons.io; 04/06/2021, 11:22:19\n",
      "\n",
      "                  Access_FQHCs_MinDistance.md;      2.31 KB; jcoin.datacommons.io; 05/08/2021, 14:12:36\n",
      "\n",
      "                              Access_MOUDs.md;      1.87 KB; jcoin.datacommons.io; 04/06/2021, 11:20:54\n",
      "\n",
      "           Access_MentalHealth_MinDistance.md;       2.5 KB; jcoin.datacommons.io; 05/08/2021, 14:12:18\n",
      "\n",
      "             Access_Pharmacies_MinDistance.md;       2.5 KB; jcoin.datacommons.io; 04/06/2021, 11:22:54\n",
      "\n",
      "              Acesss_Hospitals_MinDistance.md;      2.74 KB; jcoin.datacommons.io; 05/08/2021, 14:12:25\n",
      "\n",
      "                                  Age_2018.md;      2.79 KB; jcoin.datacommons.io; 05/08/2021, 14:12:17\n",
      "\n",
      "                       AlcoholOutlets_2018.md;      3.02 KB; jcoin.datacommons.io; 05/08/2021, 14:12:23\n",
      "\n",
      "                              COUNTY_ZIP.xlsx;      3.04 MB; jcoin.datacommons.io; 05/08/2021, 14:10:42\n",
      "\n",
      "                                     COVID.md;      3.23 KB; jcoin.datacommons.io; 04/06/2021, 11:28:05\n",
      "\n",
      "                                COVID01_C.csv;      5.01 MB; jcoin.datacommons.io; 04/06/2021, 11:26:57\n",
      "\n",
      "                                COVID01_S.csv;    121.84 KB; jcoin.datacommons.io; 04/06/2021, 11:27:01\n",
      "\n",
      "                                COVID02_C.csv;     13.53 MB; jcoin.datacommons.io; 04/06/2021, 11:27:07\n",
      "\n",
      "                                COVID02_S.csv;    235.64 KB; jcoin.datacommons.io; 04/06/2021, 11:27:15\n",
      "\n",
      "                                COVID03_C.csv;      11.5 MB; jcoin.datacommons.io; 04/06/2021, 11:27:20\n",
      "\n",
      "                                COVID03_S.csv;    214.75 KB; jcoin.datacommons.io; 04/06/2021, 11:27:28\n",
      "\n",
      "                                COVID04_C.csv;     12.57 MB; jcoin.datacommons.io; 04/06/2021, 11:27:33\n",
      "\n",
      "                                COVID04_S.csv;    234.34 KB; jcoin.datacommons.io; 04/06/2021, 11:27:41\n",
      "\n",
      "                              DS01_2018_C.csv;     452.4 KB; jcoin.datacommons.io; 04/06/2021, 11:23:43\n",
      "\n",
      "                              DS01_2018_S.csv;      8.87 KB; jcoin.datacommons.io; 04/06/2021, 11:24:02\n",
      "\n",
      "                              DS01_2018_T.csv;      9.58 MB; jcoin.datacommons.io; 04/06/2021, 11:24:09\n",
      "\n",
      "                              DS01_2018_Z.csv;      3.99 MB; jcoin.datacommons.io; 04/06/2021, 11:24:21\n",
      "\n",
      "                              DS02_2014_T.csv;      1.15 MB; jcoin.datacommons.io; 05/08/2021, 14:12:37\n",
      "\n",
      "                              DS03_2018_C.csv;    126.84 KB; jcoin.datacommons.io; 05/08/2021, 14:11:59\n",
      "\n",
      "                              DS03_2018_T.csv;      3.36 MB; jcoin.datacommons.io; 05/08/2021, 14:11:56\n",
      "\n",
      "                              EC01_2018_C.csv;    128.64 KB; jcoin.datacommons.io; 05/08/2021, 14:11:26\n",
      "\n",
      "                              EC01_2018_S.csv;      2.08 KB; jcoin.datacommons.io; 05/08/2021, 14:11:55\n",
      "\n",
      "                              EC01_2018_T.csv;      3.35 MB; jcoin.datacommons.io; 05/08/2021, 14:11:23\n",
      "\n",
      "                              EC01_2018_Z.csv;      1.25 MB; jcoin.datacommons.io; 05/08/2021, 14:11:19\n",
      "\n",
      "                              EC02_2018_C.csv;     92.35 KB; jcoin.datacommons.io; 05/08/2021, 14:11:15\n",
      "\n",
      "                              EC02_2018_S.csv;      1.59 KB; jcoin.datacommons.io; 05/08/2021, 14:11:12\n",
      "\n",
      "                              EC02_2018_T.csv;      2.49 MB; jcoin.datacommons.io; 05/08/2021, 14:11:16\n",
      "\n",
      "                              EC02_2018_Z.csv;    876.16 KB; jcoin.datacommons.io; 05/08/2021, 14:11:27\n",
      "\n",
      "                              EC03_2018_C.csv;     84.91 KB; jcoin.datacommons.io; 05/08/2021, 14:12:02\n",
      "\n",
      "                              EC03_2018_S.csv;      1.24 KB; jcoin.datacommons.io; 05/08/2021, 14:12:44\n",
      "\n",
      "                              EC03_2018_T.csv;      2.34 MB; jcoin.datacommons.io; 05/08/2021, 14:12:03\n",
      "\n",
      "                              EC03_2018_Z.csv;    856.55 KB; jcoin.datacommons.io; 05/08/2021, 14:10:28\n",
      "\n",
      "                                   EC04_C.csv;     162.2 KB; jcoin.datacommons.io; 05/08/2021, 14:11:38\n",
      "\n",
      "                                   EC04_S.csv;      1.67 KB; jcoin.datacommons.io; 05/08/2021, 14:11:29\n",
      "\n",
      "                                   EC04_T.csv;     15.76 MB; jcoin.datacommons.io; 05/08/2021, 14:11:40\n",
      "\n",
      "                             Economic_2018.md;      3.63 KB; jcoin.datacommons.io; 05/08/2021, 14:12:21\n",
      "\n",
      "                           ForeclosureRate.md;      2.85 KB; jcoin.datacommons.io; 05/08/2021, 14:12:30\n",
      "\n",
      "                                  GSL_2018.md;      2.49 KB; jcoin.datacommons.io; 05/08/2021, 14:12:15\n",
      "\n",
      "                 GeographicBoundaries_2018.md;       2.1 KB; jcoin.datacommons.io; 04/25/2021, 13:38:13\n",
      "\n",
      "                              HS01_2018_C.csv;    166.98 KB; jcoin.datacommons.io; 05/08/2021, 14:11:05\n",
      "\n",
      "                              HS01_2018_S.csv;       2.7 KB; jcoin.datacommons.io; 05/08/2021, 14:11:21\n",
      "\n",
      "                              HS01_2018_T.csv;      4.05 MB; jcoin.datacommons.io; 05/08/2021, 14:11:07\n",
      "\n",
      "                              HS01_2018_Z.csv;      1.67 MB; jcoin.datacommons.io; 05/08/2021, 14:12:01\n",
      "\n",
      "                                   HS02_C.csv;    224.18 KB; jcoin.datacommons.io; 05/08/2021, 14:10:23\n",
      "\n",
      "                              HS02_RUCA_T.csv;      1.73 MB; jcoin.datacommons.io; 05/08/2021, 14:11:36\n",
      "\n",
      "                              HS02_RUCA_Z.csv;    740.79 KB; jcoin.datacommons.io; 05/08/2021, 14:10:54\n",
      "\n",
      "                                   HS03_C.csv;    189.79 KB; jcoin.datacommons.io; 05/08/2021, 14:10:58\n",
      "\n",
      "                                   HS03_S.csv;      2.78 KB; jcoin.datacommons.io; 05/08/2021, 14:11:14\n",
      "\n",
      "                                   HS03_T.csv;      3.99 MB; jcoin.datacommons.io; 05/08/2021, 14:10:59\n",
      "\n",
      "                                   HS03_Z.csv;      1.42 MB; jcoin.datacommons.io; 05/08/2021, 14:11:30\n",
      "\n",
      "                                   HS04_C.csv;     45.75 KB; jcoin.datacommons.io; 05/08/2021, 14:10:27\n",
      "\n",
      "                               Health01_C.csv;    137.48 KB; jcoin.datacommons.io; 05/08/2021, 14:11:06\n",
      "\n",
      "                               Health01_S.csv;      1.65 KB; jcoin.datacommons.io; 05/08/2021, 14:11:22\n",
      "\n",
      "                               Health02_S.csv;       3.1 KB; jcoin.datacommons.io; 05/08/2021, 14:10:25\n",
      "\n",
      "                               Health03_C.csv;     47.95 KB; jcoin.datacommons.io; 05/08/2021, 14:11:04\n",
      "\n",
      "                               Health03_S.csv;    739 bytes; jcoin.datacommons.io; 05/08/2021, 14:11:13\n",
      "\n",
      "                               Health03_T.csv;      2.32 MB; jcoin.datacommons.io; 05/08/2021, 14:11:02\n",
      "\n",
      "                         Health_DrugDeaths.md;      3.67 KB; jcoin.datacommons.io; 05/08/2021, 14:12:31\n",
      "\n",
      "                               Health_PCPs.md;       2.4 KB; jcoin.datacommons.io; 05/08/2021, 14:12:32\n",
      "\n",
      "                                 HepC_rate.md;      2.35 KB; jcoin.datacommons.io; 05/08/2021, 14:12:20\n",
      "\n",
      "                              Housing_2018.md;      3.21 KB; jcoin.datacommons.io; 05/08/2021, 14:12:16\n",
      "\n",
      "                       Jail variables_2017.md;      2.35 KB; jcoin.datacommons.io; 05/08/2021, 14:12:34\n",
      "\n",
      "            Job_Categories_byIndustry_2018.md;      2.79 KB; jcoin.datacommons.io; 05/08/2021, 14:12:13\n",
      "\n",
      "          Job_Categories_byOccupation_2018.md;       2.7 KB; jcoin.datacommons.io; 05/08/2021, 14:12:22\n",
      "\n",
      "                               MedExp_2019.md;      1.87 KB; jcoin.datacommons.io; 05/08/2021, 14:12:28\n",
      "\n",
      "                             MedExpan_2018.md;      2.88 KB; jcoin.datacommons.io; 05/08/2021, 14:12:14\n",
      "\n",
      "                               MedMarijLaw.md;      1.96 KB; jcoin.datacommons.io; 05/08/2021, 14:12:14\n",
      "\n",
      "                                  NAL_2017.md;      3.96 KB; jcoin.datacommons.io; 05/08/2021, 14:12:29\n",
      "\n",
      "                    Other_Demographic_2018.md;      1.68 KB; jcoin.datacommons.io; 05/08/2021, 14:12:24\n",
      "\n",
      "                                   Overlay.md;      2.58 KB; jcoin.datacommons.io; 05/08/2021, 14:12:27\n",
      "\n",
      "                                 PDMP_2017.md;      6.69 KB; jcoin.datacommons.io; 05/08/2021, 14:12:26\n",
      "\n",
      "                              PS01_2016_C.csv;    390.36 KB; jcoin.datacommons.io; 04/05/2021, 22:14:44\n",
      "\n",
      "                              PS02_2017_C.csv;    354.16 KB; jcoin.datacommons.io; 05/08/2021, 14:11:11\n",
      "\n",
      "                              PS03_2017_S.csv;      3.69 KB; jcoin.datacommons.io; 05/08/2021, 14:12:09\n",
      "\n",
      "                              PS04_2018_S.csv;      1.64 KB; jcoin.datacommons.io; 05/08/2021, 14:10:22\n",
      "\n",
      "                              PS05_2017_S.csv;      2.29 KB; jcoin.datacommons.io; 05/08/2021, 14:10:15\n",
      "\n",
      "                              PS06_2019_S.csv;      2.12 KB; jcoin.datacommons.io; 05/08/2021, 14:10:16\n",
      "\n",
      "                              PS07_2018_S.csv;      4.49 KB; jcoin.datacommons.io; 05/08/2021, 14:12:44\n",
      "\n",
      "                              PS08_2019_S.csv;      1.53 KB; jcoin.datacommons.io; 05/08/2021, 14:12:43\n",
      "\n",
      "                              PS09_2017_S.csv;    381 bytes; jcoin.datacommons.io; 05/08/2021, 14:11:54\n",
      "\n",
      "                                   PS11_S.csv;       5.3 KB; jcoin.datacommons.io; 05/08/2021, 14:12:00\n",
      "\n",
      "                     Prison variables_2016.md;      3.15 KB; jcoin.datacommons.io; 04/05/2021, 22:17:45\n",
      "\n",
      "                        PublicExpenditures.md;      3.36 KB; jcoin.datacommons.io; 05/08/2021, 14:12:33\n",
      "\n",
      "                       Race_Ethnicity_2018.md;       2.5 KB; jcoin.datacommons.io; 04/06/2021, 11:24:52\n",
      "\n",
      "         Rural_Urban_Classification_County.md;      2.71 KB; jcoin.datacommons.io; 05/08/2021, 14:12:10\n",
      "\n",
      "            Rural_Urban_Classification_T_Z.md;      2.69 KB; jcoin.datacommons.io; 05/08/2021, 14:12:11\n",
      "\n",
      "                                 SDOH_2014.md;      1.98 KB; jcoin.datacommons.io; 05/08/2021, 14:12:35\n",
      "\n",
      "                                  SVI_2018.md;      1.86 KB; jcoin.datacommons.io; 05/08/2021, 14:12:19\n",
      "\n",
      "                                   Syringe.md;      2.82 KB; jcoin.datacommons.io; 05/08/2021, 14:12:31\n",
      "\n",
      "                               TRACT_ZIP.xlsx;      9.26 MB; jcoin.datacommons.io; 05/08/2021, 14:10:35\n",
      "\n",
      "                              ZIP_COUNTY.xlsx;      2.46 MB; jcoin.datacommons.io; 05/08/2021, 14:10:51\n",
      "\n",
      "                               ZIP_TRACT.xlsx;     10.09 MB; jcoin.datacommons.io; 05/08/2021, 14:10:45\n",
      "\n",
      "                             counties2018.dbf;      1.91 MB; jcoin.datacommons.io; 04/06/2021, 11:29:13\n",
      "\n",
      "                             counties2018.prj;    143 bytes; jcoin.datacommons.io; 04/06/2021, 11:29:54\n",
      "\n",
      "                             counties2018.shp;     16.51 MB; jcoin.datacommons.io; 04/06/2021, 11:29:59\n",
      "\n",
      "                             counties2018.shx;     25.24 KB; jcoin.datacommons.io; 05/08/2021, 14:10:30\n",
      "\n",
      "                                 crosswalk.md;      2.44 KB; jcoin.datacommons.io; 05/08/2021, 14:12:22\n",
      "\n",
      "                               states2018.dbf;     31.38 KB; jcoin.datacommons.io; 04/06/2021, 11:29:15\n",
      "\n",
      "                               states2018.prj;    143 bytes; jcoin.datacommons.io; 04/06/2021, 11:29:55\n",
      "\n",
      "                               states2018.shp;      4.58 MB; jcoin.datacommons.io; 04/06/2021, 11:30:08\n",
      "\n",
      "                               states2018.shx;    508 bytes; jcoin.datacommons.io; 05/08/2021, 14:10:31\n",
      "\n",
      "                               tracts2018.dbf;     44.36 MB; jcoin.datacommons.io; 04/06/2021, 11:29:15\n",
      "\n",
      "                               tracts2018.prj;    143 bytes; jcoin.datacommons.io; 04/06/2021, 11:29:55\n",
      "\n",
      "                               tracts2018.shp;     75.08 MB; jcoin.datacommons.io; 04/06/2021, 11:30:10\n",
      "\n",
      "                               tracts2018.shx;     582.8 KB; jcoin.datacommons.io; 05/08/2021, 14:10:34\n",
      "\n",
      "                     us-wide-moudsCleaned.csv;      3.08 MB; jcoin.datacommons.io; 05/08/2021, 14:10:20\n",
      "\n",
      "                                zctas2018.dbf;      9.53 MB; jcoin.datacommons.io; 04/06/2021, 11:29:39\n",
      "\n",
      "                                zctas2018.prj;    143 bytes; jcoin.datacommons.io; 04/06/2021, 11:29:55\n",
      "\n",
      "                                zctas2018.shp;     90.66 MB; jcoin.datacommons.io; 04/06/2021, 11:30:57\n",
      "\n",
      "                                zctas2018.shx;    264.02 KB; jcoin.datacommons.io; 05/08/2021, 14:10:32\n",
      "\n"
     ]
    }
   ],
   "source": [
    "!gen3 drs-pull ls manifest.json"
   ]
  },
  {
   "cell_type": "markdown",
   "id": "a99f8afe-d38a-43f3-af49-29bf9fad2717",
   "metadata": {},
   "source": [
    "#### The gen3 SDK command below downloads all the files from the manifest onto the current directory"
   ]
  },
  {
   "cell_type": "code",
   "execution_count": 4,
   "id": "ed3a2f4b-1071-4384-a3d0-e2fb44b4e1a6",
   "metadata": {},
   "outputs": [
    {
     "name": "stdout",
     "output_type": "stream",
     "text": [
      "[2022-09-02 18:57:55,546][WARNING] Unable to write access token to cache file. Exceeded number of retries.\n",
      "Resolving objects: 100%|██████████████████████| 124/124 [02:18<00:00,  1.12s/it]\n",
      "Access01_T.csv                               : 100%|████████████████████████████\n",
      "Access01_Z.csv                               : 100%|████████████████████████████\n",
      "Access02_T.csv                               : 100%|████████████████████████████\n",
      "Access02_Z.csv                               : 100%|████████████████████████████\n",
      "Access03_T.csv                               : 100%|████████████████████████████\n",
      "Access03_Z.csv                               : 100%|████████████████████████████\n",
      "Access04_T.csv                               : 100%|████████████████████████████\n",
      "Access04_Z.csv                               : 100%|████████████████████████████\n",
      "Access05_T.csv                               : 100%|████████████████████████████\n",
      "Access05_Z.csv                               : 100%|████████████████████████████\n",
      "Access_FQHCs_MinDistance.md                  : 100%|████████████████████████████\n",
      "Access_MOUDs.md                              : 100%|████████████████████████████\n",
      "Access_MentalHealth_MinDistance.md           : 100%|████████████████████████████\n",
      "Access_Pharmacies_MinDistance.md             : 100%|████████████████████████████\n",
      "Acesss_Hospitals_MinDistance.md              : 100%|████████████████████████████\n",
      "Age_2018.md                                  : 100%|████████████████████████████\n",
      "AlcoholOutlets_2018.md                       : 100%|████████████████████████████\n",
      "COUNTY_ZIP.xlsx                              : 100%|████████████████████████████\n",
      "COVID.md                                     : 100%|████████████████████████████\n",
      "COVID01_C.csv                                : 100%|████████████████████████████\n",
      "COVID01_S.csv                                : 100%|████████████████████████████\n",
      "COVID02_C.csv                                : 100%|████████████████████████████\n",
      "COVID02_S.csv                                : 100%|████████████████████████████\n",
      "COVID03_C.csv                                : 100%|████████████████████████████\n",
      "COVID03_S.csv                                : 100%|████████████████████████████\n",
      "COVID04_C.csv                                : 100%|████████████████████████████\n",
      "COVID04_S.csv                                : 100%|████████████████████████████\n",
      "DS01_2018_C.csv                              : 100%|████████████████████████████\n",
      "DS01_2018_S.csv                              : 100%|████████████████████████████\n",
      "DS01_2018_T.csv                              : 100%|████████████████████████████\n",
      "DS01_2018_Z.csv                              : 100%|████████████████████████████\n",
      "DS02_2014_T.csv                              : 100%|████████████████████████████\n",
      "DS03_2018_C.csv                              : 100%|████████████████████████████\n",
      "DS03_2018_T.csv                              : 100%|████████████████████████████\n",
      "EC01_2018_C.csv                              : 100%|████████████████████████████\n",
      "EC01_2018_S.csv                              : 100%|████████████████████████████\n",
      "EC01_2018_T.csv                              : 100%|████████████████████████████\n",
      "EC01_2018_Z.csv                              : 100%|████████████████████████████\n",
      "EC02_2018_C.csv                              : 100%|████████████████████████████\n",
      "EC02_2018_S.csv                              : 100%|████████████████████████████\n",
      "EC02_2018_T.csv                              : 100%|████████████████████████████\n",
      "EC02_2018_Z.csv                              : 100%|████████████████████████████\n",
      "EC03_2018_C.csv                              : 100%|████████████████████████████\n",
      "EC03_2018_S.csv                              : 100%|████████████████████████████\n",
      "EC03_2018_T.csv                              : 100%|████████████████████████████\n",
      "EC03_2018_Z.csv                              : 100%|████████████████████████████\n",
      "EC04_C.csv                                   : 100%|████████████████████████████\n",
      "EC04_S.csv                                   : 100%|████████████████████████████\n",
      "EC04_T.csv                                   : 100%|████████████████████████████\n",
      "Economic_2018.md                             : 100%|████████████████████████████\n",
      "ForeclosureRate.md                           : 100%|████████████████████████████\n",
      "GSL_2018.md                                  : 100%|████████████████████████████\n",
      "GeographicBoundaries_2018.md                 : 100%|████████████████████████████\n",
      "HS01_2018_C.csv                              : 100%|████████████████████████████\n",
      "HS01_2018_S.csv                              : 100%|████████████████████████████\n",
      "HS01_2018_T.csv                              : 100%|████████████████████████████\n",
      "HS01_2018_Z.csv                              : 100%|████████████████████████████\n",
      "HS02_C.csv                                   : 100%|████████████████████████████\n",
      "HS02_RUCA_T.csv                              : 100%|████████████████████████████\n",
      "HS02_RUCA_Z.csv                              : 100%|████████████████████████████\n",
      "HS03_C.csv                                   : 100%|████████████████████████████\n",
      "HS03_S.csv                                   : 100%|████████████████████████████\n",
      "HS03_T.csv                                   : 100%|████████████████████████████\n",
      "HS03_Z.csv                                   : 100%|████████████████████████████\n",
      "HS04_C.csv                                   : 100%|████████████████████████████\n",
      "Health01_C.csv                               : 100%|████████████████████████████\n",
      "Health01_S.csv                               : 100%|████████████████████████████\n",
      "Health02_S.csv                               : 100%|████████████████████████████\n",
      "Health03_C.csv                               : 100%|████████████████████████████\n",
      "Health03_S.csv                               : 100%|████████████████████████████\n",
      "Health03_T.csv                               : 100%|████████████████████████████\n",
      "Health_DrugDeaths.md                         : 100%|████████████████████████████\n",
      "Health_PCPs.md                               : 100%|████████████████████████████\n",
      "HepC_rate.md                                 : 100%|████████████████████████████\n",
      "Housing_2018.md                              : 100%|████████████████████████████\n",
      "Jail variables_2017.md                       : 100%|████████████████████████████\n",
      "Job_Categories_byIndustry_2018.md            : 100%|████████████████████████████\n",
      "Job_Categories_byOccupation_2018.md          : 100%|████████████████████████████\n",
      "MedExp_2019.md                               : 100%|████████████████████████████\n",
      "MedExpan_2018.md                             : 100%|████████████████████████████\n",
      "MedMarijLaw.md                               : 100%|████████████████████████████\n",
      "NAL_2017.md                                  : 100%|████████████████████████████\n",
      "Other_Demographic_2018.md                    : 100%|████████████████████████████\n",
      "Overlay.md                                   : 100%|████████████████████████████\n",
      "PDMP_2017.md                                 : 100%|████████████████████████████\n",
      "PS01_2016_C.csv                              : 100%|████████████████████████████\n",
      "PS02_2017_C.csv                              : 100%|████████████████████████████\n",
      "PS03_2017_S.csv                              : 100%|████████████████████████████\n",
      "PS04_2018_S.csv                              : 100%|████████████████████████████\n",
      "PS05_2017_S.csv                              : 100%|████████████████████████████\n",
      "PS06_2019_S.csv                              : 100%|████████████████████████████\n",
      "PS07_2018_S.csv                              : 100%|████████████████████████████\n",
      "PS08_2019_S.csv                              : 100%|████████████████████████████\n",
      "PS09_2017_S.csv                              : 100%|████████████████████████████\n",
      "PS11_S.csv                                   : 100%|████████████████████████████\n",
      "Prison variables_2016.md                     : 100%|████████████████████████████\n",
      "PublicExpenditures.md                        : 100%|████████████████████████████\n",
      "Race_Ethnicity_2018.md                       : 100%|████████████████████████████\n",
      "Rural_Urban_Classification_County.md         : 100%|████████████████████████████\n",
      "Rural_Urban_Classification_T_Z.md            : 100%|████████████████████████████\n",
      "SDOH_2014.md                                 : 100%|████████████████████████████\n",
      "SVI_2018.md                                  : 100%|████████████████████████████\n",
      "Syringe.md                                   : 100%|████████████████████████████\n",
      "TRACT_ZIP.xlsx                               : 100%|████████████████████████████\n",
      "ZIP_COUNTY.xlsx                              : 100%|████████████████████████████\n",
      "ZIP_TRACT.xlsx                               : 100%|████████████████████████████\n",
      "counties2018.dbf                             : 100%|████████████████████████████\n",
      "counties2018.prj                             : 100%|████████████████████████████\n",
      "counties2018.shp                             : 100%|████████████████████████████\n",
      "counties2018.shx                             : 100%|████████████████████████████\n",
      "crosswalk.md                                 : 100%|████████████████████████████\n",
      "states2018.dbf                               : 100%|████████████████████████████\n",
      "states2018.prj                               : 100%|████████████████████████████\n",
      "states2018.shp                               : 100%|████████████████████████████\n",
      "states2018.shx                               : 100%|████████████████████████████\n",
      "tracts2018.dbf                               : 100%|████████████████████████████\n",
      "tracts2018.prj                               : 100%|████████████████████████████\n",
      "tracts2018.shp                               : 100%|████████████████████████████\n",
      "tracts2018.shx                               : 100%|████████████████████████████\n",
      "us-wide-moudsCleaned.csv                     : 100%|████████████████████████████\n",
      "zctas2018.dbf                                : 100%|████████████████████████████\n",
      "zctas2018.prj                                : 100%|████████████████████████████\n",
      "zctas2018.shp                                : 100%|████████████████████████████\n",
      "zctas2018.shx                                : 100%|████████████████████████████\n"
     ]
    }
   ],
   "source": [
    "!gen3  drs-pull manifest manifest.json"
   ]
  },
  {
   "cell_type": "markdown",
   "id": "b98c9118-34a7-4a92-a13b-851ac302df3f",
   "metadata": {},
   "source": [
    "# 2. Download a single file using its identifier (Single file)"
   ]
  },
  {
   "cell_type": "markdown",
   "id": "b682a50a-6f95-4aa1-b009-846140fed542",
   "metadata": {},
   "source": [
    "#### You can also pull individual files instead of all files. For example, let's check first five records in manifest_data"
   ]
  },
  {
   "cell_type": "code",
   "execution_count": 5,
   "id": "14426b07-af47-4375-9c06-1ef43db2fb40",
   "metadata": {},
   "outputs": [
    {
     "data": {
      "text/plain": [
       "[{'md5sum': 'f5b38aa3b8c98dc5de6b92635821917a',\n",
       "  'file_name': 'Access01_T.csv',\n",
       "  'file_size': 7460514,\n",
       "  'object_id': 'dg.6VTS/342e89bd-3d37-49be-8f97-ffb283649b9a',\n",
       "  'commons_url': 'jcoin.datacommons.io'},\n",
       " {'md5sum': 'd573f519c55c5cdedaa4ec93cf17c8b0',\n",
       "  'file_name': 'Access01_Z.csv',\n",
       "  'file_size': 1797403,\n",
       "  'object_id': 'dg.6VTS/5608424f-f982-4e22-a1a9-780a3c71539a',\n",
       "  'commons_url': 'jcoin.datacommons.io'},\n",
       " {'md5sum': 'e7df8c2c199cbbd6bd4fbb3e16e5c64d',\n",
       "  'file_name': 'Access02_T.csv',\n",
       "  'file_size': 3720136,\n",
       "  'object_id': 'dg.6VTS/ffd93655-b1b1-44bd-b520-73c231e63100',\n",
       "  'commons_url': 'jcoin.datacommons.io'},\n",
       " {'md5sum': 'cf94ef20a8f753fe9ddcf7c1fb137374',\n",
       "  'file_name': 'Access02_Z.csv',\n",
       "  'file_size': 823013,\n",
       "  'object_id': 'dg.6VTS/6a3a2101-cd9c-438d-8a36-d756a53ffbf6',\n",
       "  'commons_url': 'jcoin.datacommons.io'},\n",
       " {'md5sum': '4f95e21ca4373600c72783322ee31856',\n",
       "  'file_name': 'Access03_T.csv',\n",
       "  'file_size': 3714788,\n",
       "  'object_id': 'dg.6VTS/3b0246a9-f8c4-4590-bc1a-220ad2d18363',\n",
       "  'commons_url': 'jcoin.datacommons.io'}]"
      ]
     },
     "execution_count": 5,
     "metadata": {},
     "output_type": "execute_result"
    }
   ],
   "source": [
    "manifest_data[:5]"
   ]
  },
  {
   "cell_type": "markdown",
   "id": "8e60b840-dd73-4247-8cb7-249c3653a830",
   "metadata": {},
   "source": [
    "#### The object_id field shows the Global Unique Identifier (GUID) for the file, a permanent identifier for the file that can be used to pull the file using the Gen3 SDK. This is the Single File method, where given a GUID, you can pull the file into the workspace"
   ]
  },
  {
   "cell_type": "code",
   "execution_count": 6,
   "id": "775d76cc-21d5-4125-8c17-2f036d50abfa",
   "metadata": {},
   "outputs": [
    {
     "name": "stdout",
     "output_type": "stream",
     "text": [
      "[2022-09-02 19:00:48,276][WARNING] Unable to write access token to cache file. Exceeded number of retries.\n"
     ]
    }
   ],
   "source": [
    "# Pull dg.6VTS/342e89bd-3d37-49be-8f97-ffb283649b9a\n",
    "!gen3 drs-pull object dg.6VTS/342e89bd-3d37-49be-8f97-ffb283649b9a"
   ]
  },
  {
   "cell_type": "markdown",
   "id": "0fd06099-e816-4892-9f2e-40c60dcb03ab",
   "metadata": {
    "tags": []
   },
   "source": [
    "# 3. Using 'open in workspace' feature\n",
    "## Objective\n",
    "Making use of \"open in workspace\" feature to open the project files in the workspace\n",
    "\n",
    "## Pre-requisite\n",
    "1. JCOIN Data Commons is Linked in the [BRH Profile Page](https://brh.data-commons.org/identity)\n",
    "\n",
    "## Steps\n",
    "1. Go to the [BRH Discovery page](https://brh.data-commons.org/) \n",
    "2. In the \"Search studies by keyword\" box, type OEPS. The OEPS study details are listed below:\n",
    "\t\n",
    "\t\t STUDY NAME = Methodology and Advanced Analytics Resource Center, \n",
    "\t\t FULL NAME = Opioid Environment Policy Scan (OEPS), \n",
    "\t\t ID Number = 1U2CDA050098-01_b, \n",
    "\t\t Data Commons = JCOIN\n",
    "3. Select the study by clicking the check box on the left for OEPS\n",
    "4. Click \"open in workspace\" \n",
    "\n",
    "> Data are imported in pd or persistent drive folder and live in\n",
    "> pd/data/brh-data-commons.org/exported-manifest-DATE. The most recent\n",
    "> exported manifest directory should have the files for the exported\n",
    "> project. These include the manifest.json and a python notebook\n",
    "> data.ipynb. The python notebook has commands to list files from the\n",
    "> manifest, download all files, and download individual files from\n",
    "> manifest."
   ]
  },
  {
   "cell_type": "markdown",
   "id": "486530fd-d3a3-4857-93f6-132bab4f3646",
   "metadata": {},
   "source": [
    "# 4. Downloading a zip file using Gen3 SDK\n",
    "## Objective\n",
    "Bring Canine Data Commons zip file *(caninepmed_sample_data.zip)* directly into BRH workspace using Gen3 APIs\n",
    "\n",
    "## Pre-requisite\n",
    "1. Canine Data Commons is Linked in the [BRH Profile Page](https://brh.data-commons.org/identity)\n",
    "2. Canine Data Object ID is known\n",
    "\n",
    "## Steps\n",
    "1. Use relevant gen3 API function to extract the zip file [Reference](https://uc-cdis.github.io/gen3sdk-python/_build/html/_modules/gen3/tools/download/drs_download.html) \n",
    "\n",
    "\n",
    "> You can then use standard python utilities for unpacking the zip file.\n",
    "> The snippet shown below extracts files into the caninepmed_sample_data\n",
    "> directory"
   ]
  },
  {
   "cell_type": "code",
   "execution_count": 7,
   "id": "c69a3186-a8d7-4e7f-945a-7e9bb3ea5aba",
   "metadata": {},
   "outputs": [
    {
     "name": "stdout",
     "output_type": "stream",
     "text": [
      "[2022-09-02 19:00:51,962][WARNING] Unable to write access token to cache file. Exceeded number of retries.\n"
     ]
    }
   ],
   "source": [
    "!gen3 drs-pull object dg.C78ne/b2d9ad49-979d-4de2-9f7f-b3d054593de0 --no-unpack-packages"
   ]
  },
  {
   "cell_type": "code",
   "execution_count": 8,
   "id": "10573747-4966-4f68-a721-3cf2a3a6d3a2",
   "metadata": {},
   "outputs": [
    {
     "name": "stdout",
     "output_type": "stream",
     "text": [
      "Extracting all the files now...\n",
      "Done!\n"
     ]
    }
   ],
   "source": [
    "with ZipFile('caninepmed_sample_data.zip', 'r') as canine_zip:\n",
    "    # print all the contents of the zip file\n",
    "    # canine_zip.printdir()\n",
    "    # extract all the files\n",
    "    print('Extracting all the files now...')\n",
    "    canine_zip.extractall()\n",
    "    print('Done!')"
   ]
  },
  {
   "cell_type": "markdown",
   "id": "8753dd30-effc-4fcf-bff6-36ce2eb5ebbd",
   "metadata": {},
   "source": [
    "# 5. Using the Gen3 SDK and GraphQL to explore a project (API method)\n",
    "\n",
    "## Example: Framingham heart study from BioDataCatalyst\n",
    "## Objective\n",
    "The API method makes use of graphQL query with Gen3 SDK to bring in data from Biodatacatalyst into BRH Workspace. \n",
    "\n",
    "> In this tutorial, we will be bringing in the longitudinal Framingham\n",
    "> heart study from [Biodatacatalyst Data Commons](https://gen3.biodatacatalyst.nhlbi.nih.gov)\n",
    "\n",
    "## Pre-requiste\n",
    "1. BioDataCatalyst  is Linked in the [BRH Profile Page](https://brh.data-commons.org/identity)\n",
    "2. Structure of the [BDCatData Dictionary](https://gen3.biodatacatalyst.nhlbi.nih.gov/DD) is known\n",
    "\n",
    "## Steps\n",
    "1. Use relevant gen3 API query function to pass the graphql query and bring in data [Reference](https://uc-cdis.github.io/gen3sdk-python/_build/html/_modules/gen3/query.html#Gen3Query.query) \n",
    "\n",
    "\n",
    "> You can also search for the tutorial in the BRH discovery page. Search\n",
    "> for \"biolincc_framingham\" from the [discovery page](https://brh.data-commons.org/discovery). Click on the study. Note the project ID for the study. It is set to \"tutorial-biolincc_framingham\".\n",
    "> We will use this project ID to construct our query. You can learn\n",
    "> about the fields parameter for file in the docs [here](https://gen3.biodatacatalyst.nhlbi.nih.gov/query)\n"
   ]
  },
  {
   "cell_type": "code",
   "execution_count": 9,
   "id": "758f2c76-8eac-4301-92b1-eec648ab2248",
   "metadata": {},
   "outputs": [],
   "source": [
    "from gen3.file import Gen3File\n",
    "from gen3.submission import Gen3Submission\n",
    "from gen3.auth import Gen3Auth\n",
    "from gen3.index import Gen3Index\n",
    "from gen3.query import Gen3Query"
   ]
  },
  {
   "cell_type": "code",
   "execution_count": 10,
   "id": "3b1b543a-3a45-4525-83d8-a0dcc838794c",
   "metadata": {},
   "outputs": [],
   "source": [
    "commons_url = \"https://gen3.biodatacatalyst.nhlbi.nih.gov\"\n",
    "auth = Gen3Auth(commons_url, refresh_file=\"/home/jovyan/.gen3/credentials.json\")\n",
    "sub = Gen3Submission(commons_url, auth) # Initialize an instance this class, using your creds in 'auth'\n",
    "query = Gen3Query(auth)"
   ]
  },
  {
   "cell_type": "code",
   "execution_count": 11,
   "id": "926b39e9-815a-4de2-ad06-e85c014ebebc",
   "metadata": {},
   "outputs": [],
   "source": [
    "framingham_files = query.query(\n",
    "    data_type=\"file\",\n",
    "    first=10000,\n",
    "    fields=[\n",
    "        \"data_type\",\n",
    "        \"file_name\",\n",
    "        \"project_id\",\n",
    "        \"object_id\"\n",
    "    ],\n",
    "    filters={\"project_id\": \"tutorial-biolincc_framingham\"}\n",
    ")"
   ]
  },
  {
   "cell_type": "code",
   "execution_count": 12,
   "id": "4e4c3503-b39b-43f0-af06-9c3399ec638d",
   "metadata": {},
   "outputs": [
    {
     "data": {
      "text/plain": [
       "{'data': {'file': [{'data_type': 'Unharmonized Clinical Data',\n",
       "    'file_name': 'frmgham2.sav',\n",
       "    'project_id': 'tutorial-biolincc_framingham',\n",
       "    'object_id': 'dg.4503/c97507dd-bb79-45ce-9186-3d14ad823f81'},\n",
       "   {'data_type': 'Unharmonized Clinical Data',\n",
       "    'file_name': 'FRAMINGHAM_teaching_2019a.zip',\n",
       "    'project_id': 'tutorial-biolincc_framingham',\n",
       "    'object_id': 'dg.4503/7be3c6bb-602c-402a-88d2-50394bf8b433'},\n",
       "   {'data_type': 'Unharmonized Clinical Data',\n",
       "    'file_name': 'Framingham Longitudinal Data Documentation.pdf',\n",
       "    'project_id': 'tutorial-biolincc_framingham',\n",
       "    'object_id': 'dg.4503/f87f27ed-f70b-485b-8631-00c1216681fd'},\n",
       "   {'data_type': 'Unharmonized Clinical Data',\n",
       "    'file_name': 'frmgham2.sas7bdat',\n",
       "    'project_id': 'tutorial-biolincc_framingham',\n",
       "    'object_id': 'dg.4503/f2c2d44c-a099-4bc6-bc8b-7012a28b73d7'},\n",
       "   {'data_type': 'Unharmonized Clinical Data',\n",
       "    'file_name': 'frmgham2.csv',\n",
       "    'project_id': 'tutorial-biolincc_framingham',\n",
       "    'object_id': 'dg.4503/9c277b3d-3fab-401e-b1dd-d2e6c7991cbc'},\n",
       "   {'data_type': 'Unharmonized Clinical Data',\n",
       "    'file_name': 'tutorial-biolincc_framingham_structured_data.zip',\n",
       "    'project_id': 'tutorial-biolincc_framingham',\n",
       "    'object_id': 'dg.4503/6cb03533-c079-47e2-a1af-29c92280a9cc'},\n",
       "   {'data_type': 'Unharmonized Clinical Data',\n",
       "    'file_name': 'frmgham2.xls',\n",
       "    'project_id': 'tutorial-biolincc_framingham',\n",
       "    'object_id': 'dg.4503/f4654f72-3b9a-4536-8fb7-73f61b7c5fb7'},\n",
       "   {'data_type': 'Unharmonized Clinical Data',\n",
       "    'file_name': 'frmgham2.dta',\n",
       "    'project_id': 'tutorial-biolincc_framingham',\n",
       "    'object_id': 'dg.4503/8ac6d3f5-29fa-42ff-870c-5ba143455083'}]}}"
      ]
     },
     "execution_count": 12,
     "metadata": {},
     "output_type": "execute_result"
    }
   ],
   "source": [
    "framingham_files"
   ]
  },
  {
   "cell_type": "markdown",
   "id": "46fa8f9c-44bd-4415-bff9-4887a6881d82",
   "metadata": {},
   "source": [
    "##### There are 8 files in this dataset"
   ]
  },
  {
   "cell_type": "code",
   "execution_count": 13,
   "id": "a85e7837-3ddc-4cd5-9e39-c3ea3659d8d8",
   "metadata": {},
   "outputs": [
    {
     "data": {
      "text/plain": [
       "8"
      ]
     },
     "execution_count": 13,
     "metadata": {},
     "output_type": "execute_result"
    }
   ],
   "source": [
    "len(framingham_files['data']['file'])"
   ]
  },
  {
   "cell_type": "markdown",
   "id": "7cf55aa0-0e58-4ada-92b2-53e97b8cc06e",
   "metadata": {},
   "source": [
    "##### You can also construct a graphQL query string and return the aggregate count, or total number of files for the project "
   ]
  },
  {
   "cell_type": "code",
   "execution_count": 14,
   "id": "f9740e67-de76-4390-aff7-6eccfd6b1295",
   "metadata": {},
   "outputs": [],
   "source": [
    "aggregate_file_count_query_string = \"{_aggregation{file(filter: {eq: {project_id:\\\"tutorial-biolincc_framingham\\\"}}){_totalCount}}}\"\n"
   ]
  },
  {
   "cell_type": "code",
   "execution_count": 15,
   "id": "f487a145-289b-4f5c-bdf1-0fe40e6fe65c",
   "metadata": {},
   "outputs": [],
   "source": [
    "total_number_of_files = query.graphql_query(aggregate_file_count_query_string)"
   ]
  },
  {
   "cell_type": "code",
   "execution_count": 16,
   "id": "999a2ca2-8542-4432-b13c-d7c6a485bfcb",
   "metadata": {},
   "outputs": [
    {
     "data": {
      "text/plain": [
       "{'data': {'_aggregation': {'file': {'_totalCount': 8}}}}"
      ]
     },
     "execution_count": 16,
     "metadata": {},
     "output_type": "execute_result"
    }
   ],
   "source": [
    "total_number_of_files"
   ]
  },
  {
   "cell_type": "markdown",
   "id": "e7b50249-9c84-46a4-ae21-0dbacbe7fb77",
   "metadata": {},
   "source": [
    "##### You can construct a similar graphQL query string and return the aggregate count of subjects, or total number of subjects for the project "
   ]
  },
  {
   "cell_type": "code",
   "execution_count": 17,
   "id": "83b45cdc-6ce7-484e-8347-d86b422ffd32",
   "metadata": {},
   "outputs": [],
   "source": [
    "aggregate_subject_count_query_string = \"{_aggregation{subject(filter: {eq: {project_id:\\\"tutorial-biolincc_framingham\\\"}}){_totalCount}}}\"\n"
   ]
  },
  {
   "cell_type": "code",
   "execution_count": 18,
   "id": "33e80a3f-e2fc-4309-a486-22778b70f22a",
   "metadata": {},
   "outputs": [],
   "source": [
    "total_number_of_subjects = query.graphql_query(aggregate_subject_count_query_string)"
   ]
  },
  {
   "cell_type": "code",
   "execution_count": 19,
   "id": "d8effcac-4313-4530-b740-3a6fa43b7024",
   "metadata": {},
   "outputs": [
    {
     "data": {
      "text/plain": [
       "{'data': {'_aggregation': {'subject': {'_totalCount': 4434}}}}"
      ]
     },
     "execution_count": 19,
     "metadata": {},
     "output_type": "execute_result"
    }
   ],
   "source": [
    "total_number_of_subjects"
   ]
  },
  {
   "cell_type": "markdown",
   "id": "08b40f53-68dc-4be4-9c51-722912c5e785",
   "metadata": {},
   "source": [
    "##### Look at some details for the first 10 subjects"
   ]
  },
  {
   "cell_type": "code",
   "execution_count": 20,
   "id": "ede5b508-5241-4eb4-9e2c-756373203d60",
   "metadata": {},
   "outputs": [],
   "source": [
    "subjects = query.query(\n",
    "    data_type=\"subject\",\n",
    "    first=5,\n",
    "    fields=[\"_subject_id\", \"_samples_count\", \"age_at_index\", \"annotated_sex\"],\n",
    "    filters={\"project_id\": \"tutorial-biolincc_framingham\"}\n",
    ")"
   ]
  },
  {
   "cell_type": "code",
   "execution_count": 21,
   "id": "93918daa-4580-4a97-9faf-d2c47697b6d0",
   "metadata": {},
   "outputs": [
    {
     "data": {
      "text/plain": [
       "[{'_subject_id': 'a093fceb-b9e7-496f-88a6-7620c6e6fec9',\n",
       "  '_samples_count': 0,\n",
       "  'age_at_index': None,\n",
       "  'annotated_sex': ['female']},\n",
       " {'_subject_id': 'b6e6a49f-9f63-474a-8739-8b20d724eb42',\n",
       "  '_samples_count': 0,\n",
       "  'age_at_index': None,\n",
       "  'annotated_sex': ['male']},\n",
       " {'_subject_id': '7ddb542d-7355-46b9-91db-3892acdfa503',\n",
       "  '_samples_count': 0,\n",
       "  'age_at_index': None,\n",
       "  'annotated_sex': ['male']},\n",
       " {'_subject_id': 'd9895b57-ecff-470b-bb29-f009c624ac09',\n",
       "  '_samples_count': 0,\n",
       "  'age_at_index': None,\n",
       "  'annotated_sex': ['female']},\n",
       " {'_subject_id': '6e2aea45-6cc4-46b5-bf62-8b6e829bd329',\n",
       "  '_samples_count': 0,\n",
       "  'age_at_index': None,\n",
       "  'annotated_sex': ['female']}]"
      ]
     },
     "execution_count": 21,
     "metadata": {},
     "output_type": "execute_result"
    }
   ],
   "source": [
    "subjects['data']['subject'][:5]"
   ]
  },
  {
   "cell_type": "markdown",
   "id": "5c5b4126-13bf-4344-a63e-bae064c070b3",
   "metadata": {},
   "source": [
    "##### Apply filters to only return female subjects in this study"
   ]
  },
  {
   "cell_type": "code",
   "execution_count": 22,
   "id": "6af41139-00c2-4ca2-b68f-1da959db79a2",
   "metadata": {},
   "outputs": [],
   "source": [
    "female_subjects = query.query(\n",
    "    data_type=\"subject\",\n",
    "    first=4434,\n",
    "    fields=[\"_subject_id\", \"_samples_count\", \"age_at_index\", \"annotated_sex\"],\n",
    "    filters={\"project_id\": \"tutorial-biolincc_framingham\", \"annotated_sex\": \"female\"}\n",
    ")"
   ]
  },
  {
   "cell_type": "code",
   "execution_count": 23,
   "id": "739c190b-0198-4146-b0b2-75ce32b933bb",
   "metadata": {},
   "outputs": [
    {
     "data": {
      "text/plain": [
       "2490"
      ]
     },
     "execution_count": 23,
     "metadata": {},
     "output_type": "execute_result"
    }
   ],
   "source": [
    "len(female_subjects['data']['subject'])"
   ]
  },
  {
   "cell_type": "code",
   "execution_count": 24,
   "id": "3348ec70-44cc-4ef3-8015-2b3e890b93c0",
   "metadata": {},
   "outputs": [],
   "source": [
    "gender = [sub['annotated_sex'] for sub in female_subjects['data']['subject']]"
   ]
  },
  {
   "cell_type": "code",
   "execution_count": 25,
   "id": "1445b91e-10f7-45c8-a3c6-0790ed07a4b1",
   "metadata": {},
   "outputs": [
    {
     "data": {
      "text/plain": [
       "array(['female'], dtype='<U6')"
      ]
     },
     "execution_count": 25,
     "metadata": {},
     "output_type": "execute_result"
    }
   ],
   "source": [
    "np.unique(gender)"
   ]
  },
  {
   "cell_type": "markdown",
   "id": "0d7c7498-311f-402c-a3a6-c117f6dca46a",
   "metadata": {},
   "source": [
    "## Example: TCIA-COVID-19_CT_Images study from MIDRC\n",
    "## Objective\n",
    "The API method makes use of graphQL query with Gen3 SDK to bring in data from MIDRC into BRH Workspace. \n",
    "\n",
    "> In this tutorial, we will be bringing in the longitudinal Framingham\n",
    "> heart study from [MIDRC Data Commons](https://data.midrc.org)\n",
    "\n",
    "## Pre-requiste\n",
    "1. MIDRC  is Linked in the [BRH Profile Page](https://brh.data-commons.org/identity)\n",
    "2. Structure of the [MIDRC Dictionary](https://data.midrc.org/DD) is known\n",
    "\n",
    "## Steps\n",
    "1. Use relevant gen3 API query function to pass the graphql query and bring in data [Reference](https://uc-cdis.github.io/gen3sdk-python/_build/html/_modules/gen3/query.html#Gen3Query.query) \n",
    "\n",
    "> You can search for the TCIA-COVID-19_CT_Images in the BRH discovery page. Search\n",
    "> for \"TCIA-COVID-19_CT_Images\" in the [discovery page](https://brh.data-commons.org/discovery). Click on the study. In this case there is no project_id defined in the study description. Let's check the MIDRC MDS for project_id field.\n",
    "Note, this data needs to be re-ingested in the MDS. \n",
    "Testing using \"TCIA-COVID-19_CT_Images\" as the project ID to construct our query\n",
    "> You can learn about the fields parameter for imaging_data_file in the docs (search for \"imaging_data_file\" in the Schema) [here] (https://data.midrc.org/query)\n",
    "\n"
   ]
  },
  {
   "cell_type": "code",
   "execution_count": 38,
   "id": "12b8d6d8-6eca-4a87-9622-1e47913154ad",
   "metadata": {},
   "outputs": [],
   "source": [
    "commons_url = \"https://data.midrc.org\"\n",
    "auth = Gen3Auth(commons_url, refresh_file=\"/home/jovyan/.gen3/credentials.json\")\n",
    "sub = Gen3Submission(commons_url, auth) # Initialize an instance this class, using your creds in 'auth'\n",
    "query = Gen3Query(auth)"
   ]
  },
  {
   "cell_type": "code",
   "execution_count": 39,
   "id": "4d97ded1-22c3-41d5-926d-47e71eeca8d4",
   "metadata": {},
   "outputs": [],
   "source": [
    "# This project_id field is not in MIDRC MDS yet, so tcia_files returns empty results\n",
    "# This will be re-ingested in MIDRC and a project_id defined and then this query will\n",
    "# work"
   ]
  },
  {
   "cell_type": "code",
   "execution_count": 40,
   "id": "213d4e0e-2936-4f5c-a25d-f28d7b17e3f8",
   "metadata": {},
   "outputs": [],
   "source": [
    "tcia_files = query.query(\n",
    "    data_type=\"dataset\",\n",
    "    first=5,\n",
    "    fields=[\n",
    "        \"data_type\",\n",
    "        \"file_name\",\n",
    "        \"project_id\",\n",
    "        \"object_id\",\n",
    "        \"node_id\"\n",
    "    ],\n",
    "    filters={\"project_id\": \"TCIA-COVID-19_CT_Images\"}\n",
    ")"
   ]
  },
  {
   "cell_type": "code",
   "execution_count": 41,
   "id": "028a9cee-da27-4a8e-8ee2-7386a3c03d9e",
   "metadata": {},
   "outputs": [
    {
     "data": {
      "text/plain": [
       "{'data': {'dataset': []}}"
      ]
     },
     "execution_count": 41,
     "metadata": {},
     "output_type": "execute_result"
    }
   ],
   "source": [
    "tcia_files"
   ]
  },
  {
   "cell_type": "code",
   "execution_count": null,
   "id": "f4037469-adcc-49cb-a17d-9039f14107ff",
   "metadata": {},
   "outputs": [],
   "source": []
  }
 ],
 "metadata": {
  "kernelspec": {
   "display_name": "Python 3 (ipykernel)",
   "language": "python",
   "name": "python3"
  },
  "language_info": {
   "codemirror_mode": {
    "name": "ipython",
    "version": 3
   },
   "file_extension": ".py",
   "mimetype": "text/x-python",
   "name": "python",
   "nbconvert_exporter": "python",
   "pygments_lexer": "ipython3",
   "version": "3.9.7"
  }
 },
 "nbformat": 4,
 "nbformat_minor": 5
}
