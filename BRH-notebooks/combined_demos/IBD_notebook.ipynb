{
 "cells": [
  {
   "cell_type": "markdown",
   "id": "14492e62-ee7f-47d7-bca9-771d6a54b0a1",
   "metadata": {},
   "source": [
    "# Identification of Potential Drug Targets of Inflammatory Bowel Disease\n",
    "\n",
    "*Please note: This notebook uses open access data*  \n",
    "\n",
    "#### Fan Wang\n",
    "#### July 31 2022\n",
    "\n",
    "Systematic MR of molecular phenotypes such as proteins and expression of transcript levels offer enormous potential to prioritise drug targets for further investigation. However, many genes and gene products are not easily druggable, so some potentially important causal genes may not offer an obvious route to intervention.\n",
    "\n",
    "A parallel problem is that current GWAS of molecular phenotypes have limited sample sizes and limited protein coverages. A potential way to address both these problems is to use protein-protein interaction (PPI) information to identify druggable targets which are linked to a non-druggable, but robustly causal target. Their relationship to the causal target increases our confidence in their potential causal role even if the initial evidence of effect is below our multiple-testing threshold.\n",
    "\n",
    "This notebook demonstrates an approach to query data in [EpiGraphDB](https://api.epigraphdb.org/) to prioritize potential alternative drug targets in the same PPI network for Inflammatory Bowel Disease (IBD), as follows:\n",
    "\n",
    "* For an existing drug target of interests, we use PPI networks to search for its directly interacting genes that are evidenced to be druggable.\n",
    "* We then examine the causal evidence of these candidate genes on the disease.\n",
    "* We also examine the literature evidence of these candidate genes on the disease.\n",
    "* Then we query the metadata including meta nodes and meta edges and the overall schema."
   ]
  },
  {
   "cell_type": "code",
   "execution_count": null,
   "id": "1bc9c780-9011-4d36-8ac0-355aa2816552",
   "metadata": {},
   "outputs": [],
   "source": [
    "import json\n",
    "from pprint import pprint\n",
    "from pprint import pformat\n",
    "import matplotlib\n",
    "import matplotlib.pyplot as plt\n",
    "\n",
    "get_ipython().run_line_magic(\"config\", \"InlineBackend.figure_format = 'svg'\")\n",
    "import networkx as nx\n",
    "import requests\n",
    "import pandas as pd"
   ]
  },
  {
   "cell_type": "markdown",
   "id": "2043278f-aea8-4fe9-b750-3b67155a23df",
   "metadata": {},
   "source": [
    "First, we will ping the API to check our connection. Here we use the .get() method to send a GET request to the `/ping` endpoint of the API."
   ]
  },
  {
   "cell_type": "code",
   "execution_count": null,
   "id": "facde7fa-491e-4789-bd72-7e097e59391a",
   "metadata": {},
   "outputs": [],
   "source": [
    "API_URL = \"https://api.epigraphdb.org\"\n",
    "endpoint = \"/ping\"\n",
    "response_object = requests.get(API_URL + endpoint)\n",
    "GENE_NAME = \"IL23R\"\n",
    "OUTCOME_TRAIT = \"Inflammatory bowel disease\"\n",
    "\n",
    "# Check that the ping was sucessful\n",
    "try:\n",
    "    response_object.raise_for_status()\n",
    "    print(\"If this line gets printed, ping was sucessful.\")\n",
    "except requests.exceptions.HTTPError as err:\n",
    "    print(err)"
   ]
  },
  {
   "cell_type": "markdown",
   "id": "ae00cc0c-18c3-42fe-ba97-a48b27bd79fb",
   "metadata": {},
   "source": [
    "### 1. Using PPI networks for alternative drug targets search\n",
    "The assumption here is that the most likely alternative targets are either directly interacting with IL23R or somewhere in the PPI network. In this example, we consider only genes that were found to interact with *IL23R* via direct protein-protein interactions, and require that those interacting proteins should also be druggable.\n",
    "\n",
    "The thousands of genes are classified with regard to their druggability by Finan et al. 2017, where the Tier 1 category refers to approved drugs or those in clinical testing while for other tier categories the druggability confidence drops in order Tier 2 and then Tier 3."
   ]
  },
  {
   "cell_type": "code",
   "execution_count": null,
   "id": "3bc85d77-551a-4a58-9271-5758e74ed2f2",
   "metadata": {},
   "outputs": [],
   "source": [
    "def get_drug_targets_ppi(gene_name):\n",
    "    endpoint = \"/gene/druggability/ppi\"\n",
    "    url = f\"{API_URL}{endpoint}\"\n",
    "    params = {\"gene_name\": gene_name}\n",
    "    r = requests.get(url, params=params)\n",
    "    r.raise_for_status()\n",
    "    df = pd.json_normalize(r.json()[\"results\"])\n",
    "    return df\n",
    "\n",
    "\n",
    "GENE_NAME = \"IL23R\"\n",
    "OUTCOME_TRAIT = \"Inflammatory bowel disease\"\n",
    "ppi_df = get_drug_targets_ppi(gene_name=GENE_NAME)\n",
    "ppi_df"
   ]
  },
  {
   "cell_type": "markdown",
   "id": "bfaae716-c5ed-4c81-a960-b69cfe5806f1",
   "metadata": {},
   "source": [
    "For further analysis we select the gene of interest (*IL23R*) as well as its interacting genes with Tier 1 druggability."
   ]
  },
  {
   "cell_type": "code",
   "execution_count": null,
   "id": "4b496a27-08f3-47e9-8efe-5c42878e5c35",
   "metadata": {},
   "outputs": [],
   "source": [
    "def get_gene_list(ppi_df, include_primary_gene: bool = True):\n",
    "    if include_primary_gene:\n",
    "        gene_list = list(ppi_df[\"g1.name\"].drop_duplicates()) + list(\n",
    "            ppi_df.query(\"`g2.druggability_tier` == 'Tier 1'\")[\"g2.name\"]\n",
    "        )\n",
    "    else:\n",
    "        gene_list = list(ppi_df.query(\"`g2.druggability_tier` == 'Tier 1'\")[\"g2.name\"])\n",
    "    return gene_list\n",
    "\n",
    "\n",
    "gene_list = get_gene_list(ppi_df)\n",
    "gene_list"
   ]
  },
  {
   "cell_type": "markdown",
   "id": "79e01e12-4c44-433f-b8b2-de9944e09f20",
   "metadata": {},
   "source": [
    "### 2. Looking for literature evidence\n",
    "EpiGraphDB facilitates fast processing of this information by allowing access to a host of literature-mined relationships that have been structured into semantic triples. These take the general form (subject, predicate, object) and have been generated using contemporary natural language processing techniques applied to a massive amount of published biomedical research papers by [SemMedDB](https://lhncbc.nlm.nih.gov/ii/tools/SemRep_SemMedDB_SKR.html). In the following section we will query the API for the literature relationship between a given gene, *IL23R* (several studies confirmed IL23R associations in independent cohorts of patients with Crohn's disease or ulcerative colitis) and an outcome trait, Inflammatory bowel disease."
   ]
  },
  {
   "cell_type": "code",
   "execution_count": null,
   "id": "78f9a98e-203e-4e44-a985-69baa8a06b0b",
   "metadata": {},
   "outputs": [],
   "source": [
    "def extract_literature(outcome_trait, gene_list):\n",
    "    def per_gene(gene_name):\n",
    "        endpoint = \"/gene/literature\"\n",
    "        url = f\"{API_URL}{endpoint}\"\n",
    "        params = {\"gene_name\": gene_name, \"object_name\": outcome_trait.lower()}\n",
    "        r = requests.get(url, params=params)\n",
    "        try:\n",
    "            r.raise_for_status()\n",
    "            res_df = pd.json_normalize(r.json()[\"results\"])\n",
    "            if len(res_df) > 0:\n",
    "                res_df = res_df.assign(\n",
    "                    literature_count=lambda df: df[\"pubmed_id\"].apply(lambda x: len(x))\n",
    "                )\n",
    "            return res_df\n",
    "        except:\n",
    "            return None\n",
    "\n",
    "    res_df = pd.concat(\n",
    "        [per_gene(gene_name=gene_name) for gene_name in gene_list]\n",
    "    ).reset_index(drop=True)\n",
    "    return res_df\n",
    "\n",
    "\n",
    "literature_df = extract_literature(outcome_trait=OUTCOME_TRAIT, gene_list=gene_list)\n",
    "literature_df"
   ]
  },
  {
   "cell_type": "markdown",
   "id": "346c905b-84bd-45fe-b619-2d8a989842db",
   "metadata": {},
   "source": [
    "### 3. Using Mendelian randomization results for causal effect estimation\n",
    "The next step is to find out whether any of these genes have a comparable and statistically plausable effect on IBD."
   ]
  },
  {
   "cell_type": "code",
   "execution_count": null,
   "id": "45d581e8-e082-4024-b492-740b9bc8cc16",
   "metadata": {},
   "outputs": [],
   "source": [
    "def extract_mr(outcome_trait, gene_list, qtl_type):\n",
    "    endpoint = \"/xqtl/single-snp-mr\"\n",
    "    url = f\"{API_URL}{endpoint}\"\n",
    "\n",
    "    def per_gene(gene_name):\n",
    "        params = {\n",
    "            \"exposure_gene\": gene_name,\n",
    "            \"outcome_trait\": outcome_trait,\n",
    "            \"qtl_type\": qtl_type,\n",
    "            \"pval_threshold\": 1e-5,\n",
    "        }\n",
    "        r = requests.get(url, params=params)\n",
    "        try:\n",
    "            r.raise_for_status()\n",
    "            df = pd.json_normalize(r.json()[\"results\"])\n",
    "            return df\n",
    "        except:\n",
    "            return None\n",
    "\n",
    "    res_df = pd.concat(\n",
    "        [per_gene(gene_name=gene_name) for gene_name in gene_list]\n",
    "    ).reset_index(drop=True)\n",
    "    return res_df\n",
    "\n",
    "\n",
    "# Search for both pqtl and eqtl\n",
    "xqtl_df = pd.concat(\n",
    "    [\n",
    "        extract_mr(\n",
    "            outcome_trait=OUTCOME_TRAIT, gene_list=gene_list, qtl_type=qtl_type\n",
    "        ).assign(qtl_type=qtl_type)\n",
    "        for qtl_type in [\"pQTL\", \"eQTL\"]\n",
    "    ]\n",
    ").reset_index(drop=True)\n",
    "xqtl_df"
   ]
  },
  {
   "cell_type": "markdown",
   "id": "e1008f8c-a25f-483b-9dbe-91c365906106",
   "metadata": {},
   "source": [
    "### 4. Query metadata\n",
    "\n",
    "Here we query for the metadata information using the endpoint `GET /meta/schema`, which will be used for downstream processing."
   ]
  },
  {
   "cell_type": "code",
   "execution_count": null,
   "id": "7b46775e-092b-4c65-ab8c-2ed5c4808276",
   "metadata": {},
   "outputs": [],
   "source": [
    "endpoint = \"/meta/schema\"\n",
    "params = {\"graphviz\": False, \"plot\": False}\n",
    "r = requests.get(f\"{API_URL}{endpoint}\", params=params)\n",
    "r.raise_for_status()\n",
    "metadata = r.json()\n",
    "\n",
    "# Preview of metadata information\n",
    "keys = metadata.keys()\n",
    "print(pformat(keys), \"\\n\")\n",
    "for key in list(keys):\n",
    "    print(f\"# {key}:\")\n",
    "    print(pformat(metadata[key])[:1000], \"\\n\")"
   ]
  },
  {
   "cell_type": "markdown",
   "id": "ddf956f3-f35f-4214-aaea-9f1495e860f3",
   "metadata": {},
   "source": [
    "We can extract the specific meta node information as a pandas dataframe from the metadata."
   ]
  },
  {
   "cell_type": "code",
   "execution_count": null,
   "id": "0d488ef6-6ab8-4681-a20f-86165a62fec1",
   "metadata": {},
   "outputs": [],
   "source": [
    "meta_node_df = pd.DataFrame.from_dict(metadata[\"nodes\"], orient=\"index\")\n",
    "\n",
    "(\n",
    "    meta_node_df.sort_index().assign(\n",
    "        count=lambda df: df[\"count\"].apply(lambda x: f\"{x:,}\")\n",
    "    )\n",
    ")"
   ]
  },
  {
   "cell_type": "markdown",
   "id": "62a8950f-4f85-4845-817c-f88452a75c04",
   "metadata": {},
   "source": [
    "We can also extract the meta relationship (edge) information, and the connections."
   ]
  },
  {
   "cell_type": "code",
   "execution_count": null,
   "id": "fd901d2c-6b1b-42b0-82f7-74105680fb7f",
   "metadata": {},
   "outputs": [],
   "source": [
    "meta_rel_df = pd.DataFrame.from_dict(metadata[\"edges\"], orient=\"index\").merge(\n",
    "    pd.DataFrame.from_dict(\n",
    "        {_[\"rel\"]: _ for _ in metadata[\"connections\"]}, orient=\"index\"\n",
    "    )[[\"from_node\", \"to_node\"]],\n",
    "    left_index=True,\n",
    "    right_index=True,\n",
    ")\n",
    "\n",
    "(\n",
    "    meta_rel_df.sort_values(by=[\"from_node\", \"to_node\"]).assign(\n",
    "        count=lambda df: df[\"count\"].apply(lambda x: f\"{x:,}\")\n",
    "    )\n",
    ")"
   ]
  },
  {
   "cell_type": "markdown",
   "id": "cc357862-1934-4ebe-8678-de96afe93a2e",
   "metadata": {},
   "source": [
    "We can generate a network diagram of the graph db schema using `networkx`."
   ]
  },
  {
   "cell_type": "code",
   "execution_count": null,
   "id": "5413d114-1140-4445-b832-dd7142c22917",
   "metadata": {},
   "outputs": [],
   "source": [
    "graph = nx.from_pandas_edgelist(meta_rel_df, source=\"from_node\", target=\"to_node\")\n",
    "cmap = matplotlib.colors.ListedColormap([\"dodgerblue\", \"lightgray\", \"darkorange\"])\n",
    "meta_rel_df[\"from_node\"] = pd.Categorical(meta_rel_df[\"from_node\"])\n",
    "f = plt.figure(figsize=(10, 10))\n",
    "f.tight_layout()\n",
    "plt.subplot(1, 1, 1)\n",
    "nx.draw(\n",
    "    G=graph,\n",
    "    with_labels=True,\n",
    "    node_size=3000,\n",
    "    edgecolors=\"gray\",\n",
    "    node_color=\"skyblue\",\n",
    "    font_size=10,\n",
    "    font_weight=\"bold\",\n",
    "    width=0.75,\n",
    ")"
   ]
  },
  {
   "cell_type": "markdown",
   "id": "7651e0da-9863-4dab-9339-6efe57d5777e",
   "metadata": {},
   "source": [
    "### Reference\n",
    "\n",
    "* Duerr RH, Taylor KD, Brant SR, Rioux JD, Silverberg MS, Daly MJ, Steinhart AH, Abraham C, Regueiro M, Griffiths A, others. 2006. A genome-wide association study identifies IL23R as an inflammatory bowel disease gene. Science 314:1461–1463.\n",
    "\n",
    "* Finan C, Gaulton A, Kruger FA, Lumbers RT, Shah T, Engmann J, Galver L, Kelley R, Karlsson A, Santos R, others. 2017. The druggable genome and support for target identification and validation in drug development. Science translational medicine 9:eaag1166.\n",
    "\n",
    "* Momozawa Y, Mni M, Nakamura K, Coppieters W, Almer S, Amininejad L, Cleynen I, Colombel J-F, De Rijk P, Dewit O, others. 2011. Resequencing of positional candidates identifies low frequency IL23R coding variants protecting against inflammatory bowel disease. Nature genetics 43:43–47.\n",
    "\n",
    "* Zheng J, Brumpton BM, Bronson PG, Liu Y, Haycock P, Elsworth B, Haberland V, Baird D, Walker V, Robinson JW, John S, Prins B, Runz H, Nelson MR, Hurle M, Hemani G, Asvold BO, Butterworth A, Smith GD, Scott RA, Gaunt TR. 2019. Systematic Mendelian randomization and colocalization analyses of the plasma proteome and blood transcriptome to prioritize drug targets for complex disease."
   ]
  },
  {
   "cell_type": "code",
   "execution_count": null,
   "id": "a6adfa21-c26c-45e5-bfa5-f5389144bd17",
   "metadata": {},
   "outputs": [],
   "source": []
  }
 ],
 "metadata": {
  "kernelspec": {
   "display_name": "Python 3 (ipykernel)",
   "language": "python",
   "name": "python3"
  },
  "language_info": {
   "codemirror_mode": {
    "name": "ipython",
    "version": 3
   },
   "file_extension": ".py",
   "mimetype": "text/x-python",
   "name": "python",
   "nbconvert_exporter": "python",
   "pygments_lexer": "ipython3",
   "version": "3.9.20"
  }
 },
 "nbformat": 4,
 "nbformat_minor": 5
}
