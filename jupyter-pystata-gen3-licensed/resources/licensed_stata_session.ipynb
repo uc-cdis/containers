{
 "cells": [
  {
   "cell_type": "markdown",
   "source": [
    "## Licensed STATA Notebook Workspace\n",
    "This notebook runs a licensed STATA MP session, managed by the Gen3 platform.\n",
    "\n",
    "The license supplied to this workspace session belongs to the University of Chicago and is not for use outside of the Gen3 platform.\n",
    "\n",
    "Because licenses are protected and limited, this workspace is limited to a single running STATA session, which has already been initialized via the cell below.\n",
    "\n",
    "Users who have an existing STATA license are encouraged to bring it to a self-supplied STATA workspace."
   ],
   "metadata": {}
  },
  {
   "cell_type": "code",
   "execution_count": null,
   "source": [
    "import stata_setup\n",
    "stata_setup.config(\"/usr/local/stata17\", \"mp\")"
   ],
   "outputs": [],
   "metadata": {}
  },
  {
   "cell_type": "code",
   "execution_count": null,
   "source": [
    "%%stata\n",
    ". describe"
   ],
   "outputs": [],
   "metadata": {}
  },
  {
   "cell_type": "code",
   "execution_count": null,
   "source": [
    "%%mata\n",
    "sqrt(4)"
   ],
   "outputs": [],
   "metadata": {}
  }
 ],
 "metadata": {
  "kernelspec": {
   "display_name": "Python 3",
   "language": "python",
   "name": "python3"
  },
  "language_info": {
   "codemirror_mode": {
    "name": "ipython",
    "version": 3
   },
   "file_extension": ".py",
   "mimetype": "text/x-python",
   "name": "python",
   "nbconvert_exporter": "python",
   "pygments_lexer": "ipython3",
   "version": "3.8.6"
  }
 },
 "nbformat": 4,
 "nbformat_minor": 4
}
