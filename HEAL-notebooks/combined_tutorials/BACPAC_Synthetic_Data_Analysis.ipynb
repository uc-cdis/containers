{
 "cells": [
  {
   "cell_type": "markdown",
   "id": "0459eb47",
   "metadata": {},
   "source": [
    "# BACPAC Synthetic Data Analysis\n",
    "\n",
    "## Qiong Liu\n",
    "### April 2nd, 2021\n",
    "\n",
    "In this Jupyter notebook, we used the BACPAC study as an example to demonstrate how to navigate datasets within the workspace in HEAL and conduct data analysis using Python libraries.\n",
    "\n",
    "## Table of Content\n",
    "- [Set up notebook](#Set-up-notebook)\n",
    "- [Pull file objects using the Gen3 SDK](#Pull-file-objects-using-the-Gen3-SDK)\n",
    "- [Demographic characteristics of participants in BACPAC](#Demographic-characteristics-of-participants-in-BACPAC)\n",
    "- [Opiod pain medication profiling at two time points](#Opiod-pain-medication-profiling-at-two-time-points)\n",
    "- [Physical function outcomes](#Physical-function-outcomes)\n",
    "\n",
    "\n",
    "\n",
    "## Set up notebook"
   ]
  },
  {
   "cell_type": "code",
   "execution_count": null,
   "id": "4e3a17d4",
   "metadata": {},
   "outputs": [],
   "source": [
    "# Uncomment the line to install python libraries by removing #\n",
    "#!pip install numpy\n",
    "#!pip install pandas==1.1.5\n",
    "#!pip install plotly==4.14.3\n",
    "import pandas as pd\n",
    "import plotly\n",
    "import plotly.graph_objects as go\n",
    "import plotly.express as px\n",
    "from plotly.subplots import make_subplots\n",
    "import plotly.io as pio\n",
    "from pathlib import Path\n",
    "import numpy as np\n",
    "import json\n",
    "import requests\n",
    "import os\n",
    "plotly.offline.init_notebook_mode()"
   ]
  },
  {
   "cell_type": "markdown",
   "id": "5ae05f36",
   "metadata": {},
   "source": [
    "## Query study metadata\n",
    "Users can query study metadata in HEAL data commons using our metadata service (MDS). The cell below shows how to retrieve the metadata of the BACPAC study by interacting with the gen3 MDS endpoint. "
   ]
  },
  {
   "cell_type": "code",
   "execution_count": null,
   "id": "2e3c64b8",
   "metadata": {},
   "outputs": [],
   "source": [
    "# Query the metadata of BACPAC using the project number \"1U24AR076730-01\"\n",
    "response=requests.get(\"https://healdata.org/mds/metadata?data=True&limit=1000&gen3_discovery.project_number=1U24AR076730-01\")\n",
    "metadata_text=response.text\n",
    "metadata_object=json.loads(metadata_text)\n",
    "meta_df = pd.json_normalize([sub['gen3_discovery'] for sub in metadata_object.values() if 'gen3_discovery' in sub.keys()])\n",
    "meta_df[['research_focus_area', 'study_description_summary', 'institutions']].transpose()"
   ]
  },
  {
   "cell_type": "markdown",
   "id": "62226778",
   "metadata": {},
   "source": [
    "## Pull file objects using the Gen3 SDK"
   ]
  },
  {
   "cell_type": "code",
   "execution_count": null,
   "id": "1dd01993",
   "metadata": {},
   "outputs": [],
   "source": [
    "!gen3 drs-pull object dg.H34L/80f0a338-18e0-48de-b70f-cdabd63f67d9\n",
    "!gen3 drs-pull object dg.H34L/530fd95c-48b6-488e-a699-9377180bd82d\n",
    "!gen3 drs-pull object dg.H34L/654d7f1f-b61c-49a9-8a74-c82400fa4c27"
   ]
  },
  {
   "cell_type": "markdown",
   "id": "6e8ef4ab",
   "metadata": {},
   "source": [
    "## Demographic characteristics of participants in BACPAC"
   ]
  },
  {
   "cell_type": "code",
   "execution_count": null,
   "id": "aa10903e",
   "metadata": {},
   "outputs": [],
   "source": [
    "# Read the demographic tsv file into dataframe\n",
    "demo_bacpac=pd.read_csv(\"./participant_SMART.tsv\", sep=\"\\t\", encoding=\"utf-8\")\n",
    "\n",
    "\n",
    "# Define age groups within participants\n",
    "age_list = list(demo_bacpac[\"age_in_years\"])\n",
    "def age_group(agelist):\n",
    "    min_age = min(agelist)\n",
    "    grouplabel1 = str(min_age) + \"-55 yr\"\n",
    "    grouplabel2= \">55 yr\"\n",
    "    grouplist = []\n",
    "    for i in agelist:\n",
    "        if i <=55:\n",
    "            grouplist.append(grouplabel1)\n",
    "        else:\n",
    "            grouplist.append(grouplabel2)\n",
    "    return grouplist\n",
    "\n",
    "agegrouplist = age_group(age_list)\n",
    "demo_bacpac[\"age_group\"] = agegrouplist\n",
    "\n",
    "# Compute three frequency tables using demographic factors\n",
    "df1=pd.crosstab(index=demo_bacpac['race'], columns=demo_bacpac['sex'])\n",
    "df2=pd.crosstab(index=demo_bacpac['ethnicity'], columns=demo_bacpac['sex'])\n",
    "df3=pd.crosstab(index=demo_bacpac['age_group'], columns=demo_bacpac['sex'])\n",
    "\n",
    "# Dsiplay concatenated tables\n",
    "pd.concat([df1, df2, df3], keys=['race', 'ethnicity', 'age_group'])"
   ]
  },
  {
   "cell_type": "code",
   "execution_count": null,
   "id": "838f21a9",
   "metadata": {},
   "outputs": [],
   "source": [
    "# Generate a stacked bar chart of participants in BACPAC\n",
    "new_df2 = pd.DataFrame(df2.stack())\n",
    "new_df2.reset_index(inplace=True)\n",
    "new_df2 = new_df2.rename({0:\"Count\", \"sex\": \"Sex\", \"ethnicity\": \"Ethnicity\"}, axis=\"columns\")\n",
    "\n",
    "fig1 = px.bar(new_df2, x=\"Sex\", y=\"Count\", color=\"Ethnicity\",\n",
    "             title= \"Ethnicity and Sex Characteristics of Participants in the BACPAC Study\", \n",
    "             width= 800, height = 500)\n",
    "fig1.update_layout(title_font_size=20)\n",
    "fig1.show()"
   ]
  },
  {
   "cell_type": "markdown",
   "id": "a3c93caf",
   "metadata": {},
   "source": [
    "## Opiod pain medication profiling at two time points"
   ]
  },
  {
   "cell_type": "code",
   "execution_count": null,
   "id": "2474b227",
   "metadata": {},
   "outputs": [],
   "source": [
    "# Read substance use tsv file into dataframe\n",
    "substance_df = pd.read_csv(\"./substance_use_SMART.tsv\", sep=\"\\t\", encoding=\"utf-8\")\n",
    "\n",
    "# Combine substance use df and demographic df based on participant id\n",
    "def find_participant(mydf, endstr):\n",
    "    participant_id = []\n",
    "    for i in list(mydf[\"submitter_id\"]):\n",
    "        i_participant = i.rstrip(endstr)\n",
    "        participant_id.append(i_participant)\n",
    "    return participant_id\n",
    "substance_participant_id = find_participant(substance_df,\"_sc\")\n",
    "substance_df[\"participant_id\"] = substance_participant_id\n",
    "demo_combine_substance = substance_df.merge(demo_bacpac, left_on=\"participant_id\",\n",
    "                                            right_on=\"submitter_id\", how=\"outer\")\n",
    "\n",
    "# Add one property of time point in the df\n",
    "def find_timepoint(mydf):\n",
    "    timepoint = []\n",
    "    for i in list(mydf[\"visits.submitter_id\"]):\n",
    "        if i.endswith(\"Week 0\"):\n",
    "            timepoint.append(\"Week 0\")\n",
    "        else:\n",
    "            timepoint.append(\"Week 12\")\n",
    "    return timepoint\n",
    "\n",
    "demo_combine_substance[\"time_point\"] = find_timepoint(demo_combine_substance)\n",
    "\n",
    "# Compute a frequency table using opioid medication factor and time point factor\n",
    "opioid_crosstab = pd.crosstab(index=demo_combine_substance['OPIOID01'],\n",
    "                              columns=demo_combine_substance['time_point'])\n",
    "new_opioid = pd.DataFrame(opioid_crosstab.stack())\n",
    "new_opioid.reset_index(inplace=True)\n",
    "new_opioid = new_opioid.rename({0:\"Count\", \"OPIOID01\": \"Taking Opioid\", \"time_point\": \"Time Point\"},\n",
    "                               axis=\"columns\")\n",
    "\n",
    "# Generate a bar chart showing the opioid taking at two time points\n",
    "fig2 = px.bar(new_opioid, x=\"Taking Opioid\", y=\"Count\", color=\"Taking Opioid\",\n",
    "             facet_row=\"Time Point\", width=800, height=400)\n",
    "fig2.update_layout(title_text=\"Self-Report of Opioid Pain Medication Use at Baseline and Twelve Weeks\",title_font_size=20)\n",
    "for data in fig2.data:\n",
    "    data[\"width\"]=0.6\n",
    "fig2.show()"
   ]
  },
  {
   "cell_type": "markdown",
   "id": "aaecd90d",
   "metadata": {},
   "source": [
    "- We observed an increase of participants taking opioid pain medication at the week 12 time point compared to baseline."
   ]
  },
  {
   "cell_type": "code",
   "execution_count": null,
   "id": "cb03c84c",
   "metadata": {},
   "outputs": [],
   "source": [
    "# Generate a bar chart showing the opioid taking at two time points in different sex groups\n",
    "opioid_gender = pd.crosstab(index=[demo_combine_substance['OPIOID01'], demo_combine_substance['sex']],\n",
    "                            columns=demo_combine_substance['time_point'])\n",
    "new_opioid_gender = pd.DataFrame(opioid_gender.stack())\n",
    "new_opioid_gender.reset_index(inplace=True)\n",
    "new_opioid_gender = new_opioid_gender.rename({0:\"Count\", \"OPIOID01\": \"Taking Opioid\",\n",
    "                                              \"time_point\": \"Time Point\", \"sex\": \"Sex\"}, axis=\"columns\")\n",
    "fig3 = px.bar(new_opioid_gender, y=\"Sex\", x=\"Count\", color=\"Taking Opioid\",\n",
    "             facet_col=\"Time Point\", width=800, height=400,  orientation='h',\n",
    "             category_orders={\"Sex\": [\"Intersex\", \"Unknown\", \"Male\", \"Female\"]})\n",
    "fig3.update_layout(title_text=\"Opioid Pain Medication at Two Time Points in Different Sex Groups\",\n",
    "                   title_font_size=20)\n",
    "fig3.show()"
   ]
  },
  {
   "cell_type": "markdown",
   "id": "3a47c533",
   "metadata": {},
   "source": [
    "- We observed an increase of particpants taking opioid medication at week 12 in both male and femal groups compared to baseline week 0.\n",
    "\n",
    "## Physical function outcomes\n",
    " The cell below uses the Physical Function 6b T-Score to display physical function outcomes in different ethnicity groups at week 0 and week 12."
   ]
  },
  {
   "cell_type": "code",
   "execution_count": null,
   "id": "b483c4ac",
   "metadata": {},
   "outputs": [],
   "source": [
    "# Read physical_function_SMART.tsv into dataframe and merge the df with demographic\n",
    "function_df = pd.read_csv(\"./physical_function_SMART.tsv\", sep=\"\\t\", encoding=\"utf-16\")\n",
    "function_participant_id = find_participant(function_df, \"_pf\")\n",
    "function_df[\"participant_id\"] = function_participant_id\n",
    "demo_combine_function = function_df.merge(demo_bacpac, left_on=\"participant_id\", \n",
    "                                          right_on=\"submitter_id\", how=\"outer\")\n",
    "demo_combine_function[\"time_point\"] = find_timepoint(demo_combine_function)\n",
    "\n",
    "# Summary table of ROMIS-Physical Function 6b T-Score in different ethnicity groups\n",
    "ethnicity_PRPF6BT = demo_combine_function[[\"time_point\", \n",
    "                                           \"PRPF6BT\", \n",
    "                                           \"ethnicity\"]].groupby(['time_point','ethnicity']).describe()\n",
    "ethnicity_PRPF6BT"
   ]
  },
  {
   "cell_type": "code",
   "execution_count": null,
   "id": "ad90728b",
   "metadata": {},
   "outputs": [],
   "source": [
    "# Visualize the distribution of Physical Function 6b T-Score\n",
    "# at two time points for hispanic and non-hispanic ethnicity groups\n",
    "fig5 = make_subplots(\n",
    "    rows=2, cols=2,\n",
    "    specs=[[{\"colspan\": 2}, None],\n",
    "           [{}, {}]],\n",
    "    subplot_titles=(\"PROMIS-Physical Function 6b T-Score Distribution at Two Time Points\",\"Hispanic or Latino\",\n",
    "                    \"Not Hispanic or Latino\"))\n",
    "\n",
    "fig5.add_trace(go.Histogram(x=demo_combine_function[demo_combine_function[\"time_point\"]==\"Week 0\"][\"PRPF6BT\"],\n",
    "                           marker_color='#EB89B5', opacity=0.75, nbinsx=20, name=\"Week 0\"),\n",
    "               row=1, col=1)\n",
    "fig5.add_trace(go.Histogram(x=demo_combine_function[demo_combine_function[\"time_point\"]==\"Week 12\"][\"PRPF6BT\"],\n",
    "                           marker_color='#2B6CBE', opacity=0.75, nbinsx=20, name=\"Week 12\"),\n",
    "               row=1, col=1)\n",
    "fig5.add_trace(go.Histogram(x=demo_combine_function[(demo_combine_function[\"time_point\"]==\"Week 0\")&(demo_combine_function[\"ethnicity\"]==\"Hispanic or Latino\")][\"PRPF6BT\"],\n",
    "                           marker_color='#EB89B5', opacity=0.75, nbinsx=20,showlegend=False),\n",
    "               row=2, col=1)\n",
    "fig5.add_trace(go.Histogram(x=demo_combine_function[(demo_combine_function[\"time_point\"]==\"Week 12\")&(demo_combine_function[\"ethnicity\"]==\"Hispanic or Latino\")][\"PRPF6BT\"],\n",
    "                           marker_color='#2B6CBE', opacity=0.75, nbinsx=20,showlegend=False),\n",
    "               row=2, col=1)\n",
    "fig5.add_trace(go.Histogram(x=demo_combine_function[(demo_combine_function[\"time_point\"]==\"Week 0\")&(demo_combine_function[\"ethnicity\"]==\"Not Hispanic or Latino\")][\"PRPF6BT\"],\n",
    "                           marker_color='#EB89B5', opacity=0.75, nbinsx=20,showlegend=False),\n",
    "               row=2, col=2)\n",
    "fig5.add_trace(go.Histogram(x=demo_combine_function[(demo_combine_function[\"time_point\"]==\"Week 12\")&(demo_combine_function[\"ethnicity\"]==\"Not Hispanic or Latino\")][\"PRPF6BT\"],\n",
    "                           marker_color='#2B6CBE', opacity=0.75, nbinsx=20,showlegend=False),\n",
    "               row=2, col=2)\n",
    "\n",
    "fig5.update_layout(barmode='overlay', width=800, height=500,legend_title_text='Time Point')\n",
    "fig5.update_layout(margin=dict(l=20, r=20, t=50, b=20, pad=2))\n",
    "fig5.update_yaxes(title_text=\"Count\", \n",
    "                  title_font_size=15, range=[0, 40], row=1, col=1)\n",
    "fig5.update_xaxes(title_text=\"PROMIS-Physical Function 6b T-Score\",\n",
    "                  title_font_size=15,\n",
    "                  range=[29, 49], row=1, col=1)\n",
    "fig5.update_yaxes(title_text=\"Count\",\n",
    "                  title_font_size=15, range=[0, 15], row=2, col=1)\n",
    "fig5.update_xaxes(title_text=\"PROMIS-Physical Function 6b T-Score\",\n",
    "                  title_font_size=15, range=[29, 49], row=2, col=1)\n",
    "fig5.update_yaxes(title_text=\"Count\",\n",
    "                  title_font_size=15, range=[0, 15], row=2, col=2)\n",
    "fig5.update_xaxes(title_text=\"PROMIS-Physical Function 6b T-Score\",\n",
    "                  title_font_size=15, range=[29, 49], row=2, col=2)\n",
    "\n",
    "fig5.show()"
   ]
  },
  {
   "cell_type": "code",
   "execution_count": null,
   "id": "6aa13581",
   "metadata": {},
   "outputs": [],
   "source": []
  }
 ],
 "metadata": {
  "kernelspec": {
   "display_name": "Python 3 (ipykernel)",
   "language": "python",
   "name": "python3"
  },
  "language_info": {
   "codemirror_mode": {
    "name": "ipython",
    "version": 3
   },
   "file_extension": ".py",
   "mimetype": "text/x-python",
   "name": "python",
   "nbconvert_exporter": "python",
   "pygments_lexer": "ipython3",
   "version": "3.9.7"
  }
 },
 "nbformat": 4,
 "nbformat_minor": 5
}
