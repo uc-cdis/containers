{
 "cells": [
  {
   "cell_type": "markdown",
   "metadata": {},
   "source": [
    "# Opioid Environment Toolkit, OEPS R, and Methadone Clinic Coverage in the Chicago Area\n",
    "#### Adapted from the [Opioid Environment Toolkit](https://geodacenter.github.io/opioid-environment-toolkit/index.html)\n",
    "\n",
    "The Center for Spatial Data Science at UChicago created several tutorials for their\n",
    "[Opioid Environment Toolkit](https://geodacenter.github.io/opioid-environment-toolkit/index.html) focusing on how methadone clinics serve the chicago area. This code is adapted from their toolkit for use in the HEAL platform.\n",
    "\n",
    "The Opioid Environment Policy Scan (OEPS) is a database providing access to data at multiple spatial scales to help characterize the multi-dimensional risk environment impacting opioid use in justice populations across the United States. The OEPS and the Opioid Environment Toolkit, from which this script was adapted, were developed for the JCOIN network by Marynia Kolak, Qinyun Lin, Susan Paykin, Moksha Menghaney, and Angela Li at the Center for Spatial Data Science at the University of Chicago as part of the Methodology and Advanced Analytics Resource Center (MAARC). \n"
   ]
  },
  {
   "cell_type": "markdown",
   "metadata": {},
   "source": [
    "Citation:\n",
    "\n",
    "Marynia Kolak, Qinyun Lin, Susan Paykin, Moksha Menghaney, & Angela Li. (2021, May 11). GeoDaCenter/opioid-policy-scan: Opioid Environment Policy Scan Data Warehouse (Version v0.1-beta). Zenodo. http://doi.org/10.5281/zenodo.4747876"
   ]
  },
  {
   "cell_type": "markdown",
   "metadata": {},
   "source": [
    "### In this notebook, I use three parts of the this tutorial:\n",
    "\n",
    "1. buffer analysis (ie what percent of the chicago area is close to a clinic?)\n",
    "2. using these buffers in the context of other meaningful community data (ie COVID case rates as use case)\n",
    "3. coverage by a designated regions (ie zip codes).\n",
    "\n",
    "\n",
    "While much of the code is directly from the Toolkit tutorial, I also expanded to make it usable within the HEAL platform and within a R Kernel Jupyter Notebook environment and to learn a few additional functions to quantify results.\n",
    "\n",
    "This notebook shows how to use both locally uploaded files in combination with HEAL platform specific files.\n",
    "\n",
    "Specifically, COVID data has been uploaded locally while geometric and clinic files are taken from the OEPS database on the heal platform."
   ]
  },
  {
   "cell_type": "code",
   "execution_count": null,
   "metadata": {},
   "outputs": [],
   "source": [
    "#suppress warnings (to include warnings,set warn to 0)\n",
    "options(warn=-1)"
   ]
  },
  {
   "cell_type": "code",
   "execution_count": null,
   "metadata": {},
   "outputs": [],
   "source": [
    "library(sf)\n",
    "library(tidygeocoder)\n",
    "library(tmap)\n",
    "library(tidyverse)\n",
    "library(readxl)\n",
    "library(units)"
   ]
  },
  {
   "cell_type": "code",
   "execution_count": null,
   "metadata": {},
   "outputs": [],
   "source": [
    "# Pull file objects using Gen3 SDK\n",
    "system(\"gen3 drs-pull object dg.6VTS/eccae5e6-d9be-403a-b30f-4df1434a2921\")\n",
    "system(\"gen3 drs-pull object dg.6VTS/f30a3855-9093-473f-8ce6-784fc9b53066\")\n",
    "system(\"gen3 drs-pull object dg.6VTS/1eb8e61b-328f-4cd0-a7e2-df2f7deec846\")\n",
    "system(\"gen3 drs-pull object dg.6VTS/e4c13f4f-7466-4631-bf9e-c83710abcd32\")\n",
    "system(\"gen3 drs-pull object dg.6VTS/33b0fa36-f58d-4a49-a1f7-376376c4ffb1\")\n",
    "system(\"gen3 drs-pull object dg.6VTS/12d90fed-c2d7-402d-9fa6-abd78142191e\")"
   ]
  },
  {
   "cell_type": "code",
   "execution_count": null,
   "metadata": {},
   "outputs": [],
   "source": [
    "#local data on HEAL platform\n",
    "local_data_dir = '/home/jovyan/oeps_local_data'"
   ]
  },
  {
   "cell_type": "markdown",
   "metadata": {},
   "source": [
    "# Geocoding from addresses"
   ]
  },
  {
   "cell_type": "markdown",
   "metadata": {},
   "source": [
    "A common goal in opioid environment research is to calculate and compare access metrics to different providers of Medications for Opioid Overuse Disorder (MOUDs). Before we can run any analytics on the resource location data, we need to convert resource addresses to spatial data points, which can be then used to calculate access metrics. \n",
    "\n",
    "**Geocoding** is the process of converting addresses (like a street address) into geographic coordinates using a known coordinate reference system. We can then use these coordinates (latitude, longitude) to spatially enable our data. This means we convert to a spatial data frame (sf) within R for spatial analysis within our R session, and then save as a shapefile (a spatial data format) for future use. In this tutorial we demonstrate how to geocode resource location addresses and convert to spatial data points that can be used for future mapping and geospatial analysis. "
   ]
  },
  {
   "cell_type": "code",
   "execution_count": null,
   "metadata": {},
   "outputs": [],
   "source": [
    "#get zip - county crosswalk to filter zip codes for Cook County\n",
    "#Cook County (county Chicago is in) FIPS code = 17-031\n",
    "cook_county_zips <- read_excel(\"./ZIP_COUNTY.xlsx\") %>%\n",
    "    filter(COUNTY==17031)"
   ]
  },
  {
   "cell_type": "code",
   "execution_count": null,
   "metadata": {},
   "outputs": [],
   "source": [
    "allClinics <- read.csv('./us-wide-moudsCleaned.csv')\n",
    "names(allClinics) <-c(\n",
    "    \"name1\",\n",
    "    \"name2\" ,\n",
    "    \"street1\" ,\n",
    "    \"street2\" ,\n",
    "    \"city\" ,\n",
    "    \"state\" ,\n",
    "    \"zip\" ,\n",
    "    \"zip4\" ,\n",
    "    \"category\",\n",
    "    \"countyGEOID\" ,\n",
    "    \"countyName\" ,\n",
    "    \"source\",\n",
    "    \"geom1\"  ,\n",
    "    \"geom2\",\n",
    "    \"Longitude\",\n",
    "    \"Latitude\"  \n",
    ")"
   ]
  },
  {
   "cell_type": "code",
   "execution_count": null,
   "metadata": {},
   "outputs": [],
   "source": [
    "methadoneClinics <- allClinics %>%\n",
    "    filter(countyGEOID==17031 & category=='methadone')"
   ]
  },
  {
   "cell_type": "code",
   "execution_count": null,
   "metadata": {},
   "outputs": [],
   "source": [
    "#project to coordinate system \n",
    "#longitude and latitude contrary to common lat/long\n",
    "methadoneSf <- st_as_sf(methadoneClinics, \n",
    "                        coords = c(\"Longitude\", \"Latitude\"),\n",
    "                        crs = 4326)"
   ]
  },
  {
   "cell_type": "code",
   "execution_count": null,
   "metadata": {},
   "outputs": [],
   "source": [
    "#geocode projection in geometry field\n",
    "head(tibble(methadoneSf),3)"
   ]
  },
  {
   "cell_type": "markdown",
   "metadata": {},
   "source": [
    "Show projection of points on interactive Open Street map:"
   ]
  },
  {
   "cell_type": "code",
   "execution_count": null,
   "metadata": {},
   "outputs": [],
   "source": [
    "tmap_mode(\"view\")\n",
    "## tmap mode set to interactive viewing\n",
    "#notebook edit: not rendering interactive so need to save rendered hmtl as variable with print fxn\n",
    "clinic_map <- tm_shape(methadoneSf) + \n",
    "    tm_dots() + \n",
    "    tm_basemap(\"OpenStreetMap\") +\n",
    "    tm_view(\n",
    "        set.bounds=c(-87.94011,41.64454,-87.52414,42.02304),\n",
    "        alpha = 1\n",
    "    )\n",
    "#tmap_save(clinic_map,'clinic_map')\n",
    "\n",
    "clinic_rendered <- print(clinic_map)\n",
    "tmap_save(tm=clinic_map,file='clinic_render.html')\n",
    "#clinic_rendered"
   ]
  },
  {
   "cell_type": "markdown",
   "metadata": {},
   "source": [
    "# Buffer analysis"
   ]
  },
  {
   "cell_type": "markdown",
   "metadata": {},
   "source": [
    "Once we have spatially referenced resource locations, it's helpful to plot the data in the community of interest for some preliminary analysis. In this tutorial we will plot Methadone Providers in Chicago and community areas to provide some context. We will also generate a simple 1-mile **buffer service area** around each provider to highlight neighborhoods with better, and worse, access to resources. In order to accomplish this task, we will need to standardize our spatial data (clinic points, and community areas) with an appropriate coordinate reference system. Finally, we'll make some maps!\n",
    "\n",
    "Our objectives are thus to:\n",
    "\n",
    "* Overlay clinical providers (points) and community areas (polygons)\n",
    "* Use a spatial transform operation to change coordinate reference systems\n",
    "* Conduct a simple buffer analysis"
   ]
  },
  {
   "cell_type": "code",
   "execution_count": null,
   "metadata": {},
   "outputs": [],
   "source": [
    "shapefile <- read_sf('./zctas2018.shp')"
   ]
  },
  {
   "cell_type": "code",
   "execution_count": null,
   "metadata": {},
   "outputs": [],
   "source": [
    "#filter shapefile with only cook county zips\n",
    "areas <- shapefile %>% filter(ZCTA5CE10 %in% cook_county_zips$ZIP)"
   ]
  },
  {
   "cell_type": "code",
   "execution_count": null,
   "metadata": {},
   "outputs": [],
   "source": [
    "#local file\n",
    "##can get directly from github or uploaded locally\n",
    "cityBoundary <- st_read(paste0(local_data_dir,\"/boundaries_chicago.geojson\"))"
   ]
  },
  {
   "cell_type": "code",
   "execution_count": null,
   "metadata": {},
   "outputs": [],
   "source": [
    "#plot to show geocoding performed as desired\n",
    "tmap_mode(\"plot\")\n",
    "\n",
    "## 1st layer (gets plotted first)\n",
    "tm_shape(areas) + \n",
    "tm_borders(alpha = 0.4) + \n",
    "## 2nd layer (overlay)\n",
    "tm_shape(methadoneSf) + \n",
    "tm_dots(size = 0.4, col=\"red\") "
   ]
  },
  {
   "cell_type": "code",
   "execution_count": null,
   "metadata": {},
   "outputs": [],
   "source": [
    "#coordinate reference system that preserves distance\n",
    "CRS.new <- st_crs(\"EPSG:3435\")"
   ]
  },
  {
   "cell_type": "code",
   "execution_count": null,
   "metadata": {},
   "outputs": [],
   "source": [
    "#transform datasets to new CRS\n",
    "metClinics.3435 <- st_transform(methadoneSf, CRS.new)\n",
    "areas.3435 <- st_transform(areas, CRS.new)"
   ]
  },
  {
   "cell_type": "code",
   "execution_count": null,
   "metadata": {},
   "outputs": [],
   "source": [
    "#generate buffer with new CRS but use 5280 ft to equal 1 mile\n",
    "metClinic_buffers <- st_buffer(metClinics.3435, 5280)"
   ]
  },
  {
   "cell_type": "code",
   "execution_count": null,
   "metadata": {},
   "outputs": [],
   "source": [
    "#plot clinic points and 1  mile buffers around clinic\n",
    "tmap_mode(\"plot\")\n",
    "\n",
    "tm_shape(areas.3435) + \n",
    "tm_borders() +\n",
    "tm_shape(metClinics.3435) + \n",
    "tm_dots(col = \"red\") +\n",
    "tm_shape(metClinic_buffers) + \n",
    "tm_borders(col = \"blue\") "
   ]
  },
  {
   "cell_type": "code",
   "execution_count": null,
   "metadata": {},
   "outputs": [],
   "source": [
    "#fill in buffers for easier viz\n",
    "tm_shape(areas) + \n",
    "tm_borders(alpha = 0.6) +\n",
    "tm_shape(metClinic_buffers) + \n",
    "tm_fill(col = \"blue\", alpha = .4) + \n",
    "tm_borders(col = \"blue\") +\n",
    "tm_shape(metClinics.3435) + \n",
    "tm_dots(col = \"red\",  size = 0.2) "
   ]
  },
  {
   "cell_type": "code",
   "execution_count": null,
   "metadata": {},
   "outputs": [],
   "source": [
    "#does an area have coverage (ie falls within any one area?)\n",
    "unionBuffers <- st_union(metClinic_buffers)"
   ]
  },
  {
   "cell_type": "code",
   "execution_count": null,
   "metadata": {
    "scrolled": true
   },
   "outputs": [],
   "source": [
    "tm_shape(areas) +  \n",
    "tm_borders()+\n",
    "tm_shape(unionBuffers) + \n",
    "tm_fill(col = \"blue\", alpha = .2) + \n",
    "tm_borders(col = \"blue\") +\n",
    "tm_shape(metClinics.3435) + \n",
    "tm_dots(col = \"red\", size = 0.1)+\n",
    "tm_shape(cityBoundary)+\n",
    "tm_borders(lwd =3)"
   ]
  },
  {
   "cell_type": "code",
   "execution_count": null,
   "metadata": {},
   "outputs": [],
   "source": [
    "metClinic_2mbuffers <- st_buffer(metClinics.3435, 10560)"
   ]
  },
  {
   "cell_type": "code",
   "execution_count": null,
   "metadata": {},
   "outputs": [],
   "source": [
    "tmap_mode(\"plot\")\n",
    "tm_shape(areas) + \n",
    "tm_borders(alpha = 0.4) +\n",
    "tm_shape(cityBoundary) + \n",
    "tm_borders(lwd = 3) +\n",
    "tm_shape(metClinic_2mbuffers) + \n",
    "tm_fill(col = \"gray10\", alpha = .4) + \n",
    "tm_borders(col = \"dimgray\", alpha = .4) +\n",
    "tm_shape(metClinic_buffers) + \n",
    "tm_fill(col = \"gray90\", alpha = .4) + \n",
    "tm_borders(col = \"darkslategray\") +\n",
    "tm_shape(metClinics.3435) + \n",
    "tm_dots(col = \"red\",  size = 0.2) +   \n",
    "tm_layout(main.title = \"Methadone Clinic Service Areas in Cook County and Chicago\",\n",
    "        main.title.position = \"center\",\n",
    "        main.title.size = 1,\n",
    "        frame = FALSE)"
   ]
  },
  {
   "cell_type": "code",
   "execution_count": null,
   "metadata": {},
   "outputs": [],
   "source": [
    "#does an area have coverage (ie falls within any one area?)\n",
    "union2mBuffers <- st_union(metClinic_2mbuffers)"
   ]
  },
  {
   "cell_type": "code",
   "execution_count": null,
   "metadata": {},
   "outputs": [],
   "source": [
    "tmap_mode(\"plot\")\n",
    "\n",
    "tm_shape(areas) + \n",
    "tm_borders(alpha = 0.4) +\n",
    "tm_shape(cityBoundary) + \n",
    "tm_borders(lwd = 3) +\n",
    "tm_shape(union2mBuffers) + \n",
    "tm_fill(col = \"gray10\", alpha = .2) + \n",
    "tm_borders(col = \"dimgray\", alpha = .2) +\n",
    "tm_shape(unionBuffers) + \n",
    "tm_fill(col = \"gray90\", alpha = .4) + \n",
    "tm_borders(col = \"darkslategray\") +\n",
    "tm_shape(metClinics.3435) + \n",
    "tm_dots(col = \"red\",  size = 0.2) +   \n",
    "tm_layout(main.title = \"Methadone Clinic Service Areas in Cook County/Chicago\",\n",
    "            main.title.position = \"center\",\n",
    "            main.title.size = 1,\n",
    "            frame = FALSE)"
   ]
  },
  {
   "cell_type": "code",
   "execution_count": null,
   "metadata": {},
   "outputs": [],
   "source": [
    "tm_shape(areas,bbox = cityBoundary) +  #zoom in on just chicago\n",
    "tm_borders(alpha = 0.5, col=\"gray\")+ \n",
    "tm_text(\"GEOID10\", size = 0.6) +\n",
    "tm_shape(cityBoundary) + \n",
    "tm_borders() +\n",
    "tm_shape(unionBuffers) + \n",
    "tm_fill(col = \"blue\", alpha = .2) + \n",
    "tm_borders(col = \"blue\") +\n",
    "tm_shape(metClinics.3435) + \n",
    "tm_dots(col = \"red\") "
   ]
  },
  {
   "cell_type": "markdown",
   "metadata": {},
   "source": [
    "Can do conditional buffers:\n",
    "\n",
    "1. Eg rural area generally you have larger buffer than urban/suburban.\n",
    "2. walking distance? generally smaller"
   ]
  },
  {
   "cell_type": "markdown",
   "metadata": {},
   "source": [
    "### Quantifying resource coverage from buffer analysis\n",
    "\n",
    "You can then quantify what you are seeing above by creating a simple feature object from the intersection of the city and the buffers with the overall city boundaries using `st_intersection` and `st_area`"
   ]
  },
  {
   "cell_type": "code",
   "execution_count": null,
   "metadata": {},
   "outputs": [],
   "source": [
    "#apply the CRS of chicago Centroids to methadone to ensure they are both in same CRS\n",
    "newCRS <- st_crs(cityBoundary)\n",
    "unionBuffers_newCRS <- st_transform(unionBuffers, newCRS)\n",
    "unionBuffers2mi_newCRS <- st_transform(union2mBuffers, newCRS)"
   ]
  },
  {
   "cell_type": "code",
   "execution_count": null,
   "metadata": {},
   "outputs": [],
   "source": [
    "#calculate area of chicago with chicago boundary\n",
    "city_area <- st_area(cityBoundary)\n",
    "#calculate area of 1 mi buffer and chicago boundary intersection\n",
    "buffers_and_city_intersection <- st_intersection(unionBuffers_newCRS,cityBoundary)\n",
    "buffers_2mi_and_city_intersection <- st_intersection(unionBuffers2mi_newCRS,cityBoundary)\n",
    "#calculate area of 2 mi buffer and chicago boundary intersection\n",
    "buffer_area <- st_area(buffers_and_city_intersection)\n",
    "\n",
    "buffer2mi_area <- st_area(buffers_2mi_and_city_intersection)"
   ]
  },
  {
   "cell_type": "code",
   "execution_count": null,
   "metadata": {},
   "outputs": [],
   "source": [
    "paste0(\n",
    "    as.character(\n",
    "        as.integer(\n",
    "            (buffer_area/city_area)*100)),\n",
    "    \"% within 1 mile of a resource across Chicago\"\n",
    ")\n",
    "\n",
    "\n",
    "paste0(\n",
    "    as.character(\n",
    "        as.integer(\n",
    "            (buffer2mi_area/city_area)*100)),\n",
    "    \"% within 2 miles of a resource across Chicago\"\n",
    ")"
   ]
  },
  {
   "cell_type": "markdown",
   "metadata": {},
   "source": [
    "### Next Steps\n",
    "\n",
    "- identify areas and/or points at risk for opiod misuse and run coverage analyses for these areas. \n",
    "- for at risk areas, what about 1/2 a mile for buffer?\n",
    "- other conditionals for buffers (e.g., walkability score for area)"
   ]
  },
  {
   "cell_type": "markdown",
   "metadata": {},
   "source": [
    "# Linking Community Data\n",
    "\n",
    "link additional pieces of information with the buffer analysis to target key vulnerable populations. The OEPS tutorial uses the COVID pandemic as a case study. \n",
    "\n",
    "1. connect Chicago COVID-19 Case data by ZIP Code, available as a flat file on the city’s data portal, to our environment.\n",
    "\n",
    "2. overlap the 1-mile buffers representing walkable access to the Methadone providers in the city. COVID impacts travel so conservative, \"walkable\" threshold used.\n",
    "\n",
    "\n",
    "3. identify zip codes most impacted by COVID that are outside our acceptable access threshold. "
   ]
  },
  {
   "cell_type": "code",
   "execution_count": null,
   "metadata": {},
   "outputs": [],
   "source": [
    "covid_dir <- paste0(local_data_dir,\"/COVID-19_Cases__Tests__and_Deaths_by_ZIP_Code.csv\")"
   ]
  },
  {
   "cell_type": "code",
   "execution_count": null,
   "metadata": {},
   "outputs": [],
   "source": [
    "#read in data for COVID info by zip code\n",
    "#local file\n",
    "COVID <- read.csv(covid_dir) %>%\n",
    "    select(c(\"ZIP.Code\", \"Case.Rate...Cumulative\")) %>%\n",
    "    mutate(GEOID10=as.character(ZIP.Code))"
   ]
  },
  {
   "cell_type": "code",
   "execution_count": null,
   "metadata": {},
   "outputs": [],
   "source": [
    "#merge COVID with zips\n",
    "zipsMerged <- merge(areas, COVID, by = \"GEOID10\")"
   ]
  },
  {
   "cell_type": "code",
   "execution_count": null,
   "metadata": {
    "scrolled": true
   },
   "outputs": [],
   "source": [
    "tmap_mode(\"plot\")\n",
    "tm_shape(zipsMerged,bbox=cityBoundary) +\n",
    "tm_fill(\n",
    "    \"Case.Rate...Cumulative\", style=\"quantile\", n=6, pal=\"-RdYlGn\",\n",
    "          title = \"COVID Case Rate\",alpha = 0.8\n",
    ") + \n",
    "tm_borders(lwd = 0) + \n",
    "tm_shape(metClinic_buffers,bbox=cityBoundary) + \n",
    "tm_borders(col = \"gray\") +\n",
    "tm_fill(alpha=0.5) +\n",
    "tm_shape(methadoneSf,bbox=cityBoundary) + \n",
    "tm_dots(col = \"black\", size = 0.1) +\n",
    "tm_layout(main.title = \"Walkable Methadone Service Areas\\nin and around Chicago\",\n",
    "        main.title.position = \"center\",\n",
    "        main.title.size = 1.5,\n",
    "        frame = FALSE)"
   ]
  },
  {
   "cell_type": "code",
   "execution_count": null,
   "metadata": {},
   "outputs": [],
   "source": [
    "tmap_mode(\"view\")\n",
    "community_interactive <- \n",
    "tm_shape(zipsMerged) +\n",
    "tm_fill(\n",
    "    \"Case.Rate...Cumulative\", style=\"quantile\", n=6, pal=\"-RdYlGn\",\n",
    "          title = \"COVID Case Rate\",alpha = 0.8\n",
    ") + \n",
    "tm_borders(lwd = 0) + \n",
    "tm_shape(metClinic_buffers) + \n",
    "tm_borders(col = \"gray\") +\n",
    "tm_fill(alpha=0.5) +\n",
    "tm_shape(methadoneSf) + \n",
    "tm_dots(col = \"black\", size = 0.01) +\n",
    "tm_layout(main.title = \"Walkable Methadone Service Areas\",\n",
    "        main.title.position = \"center\",\n",
    "        main.title.size = 1,\n",
    "        frame = FALSE)\n",
    "\n",
    "community_interactive_rendered <- print(community_interactive)\n",
    "\n",
    "tmap_save(tm=community_interactive,file='covid_render.html')"
   ]
  },
  {
   "cell_type": "markdown",
   "metadata": {},
   "source": [
    "### Significance\n",
    "Of course, this visualization needs a more complete picture of opioid outcomes by zip. But, the red zip codes far from walking distance may be at risk for increased opioid overdoses without intervention (ie from pop up shops).\n",
    "\n",
    "\n",
    "### Next steps additional visualizations:\n",
    "- rate of opioid overdose deaths\n",
    "- opioid related 911 calls"
   ]
  },
  {
   "cell_type": "markdown",
   "metadata": {},
   "source": [
    "### Insights from linking data with buffers\n",
    "\n",
    "- This visualization illustrates that many of the high risk areas do not have walkable \n",
    "access to a clinic for the majority of that area.\n",
    "\n",
    "- Obviously, other pieces of community info need to be linked (such as baseline use of opioids for these areas to determine risk) -- see intro for recommendations\n",
    "                                                             \n",
    "- Perhaps an action item could be to set up \"pop up shop\" methadone clinics.                                                    "
   ]
  },
  {
   "cell_type": "markdown",
   "metadata": {},
   "source": [
    "# Zip centroid analysis"
   ]
  },
  {
   "cell_type": "code",
   "execution_count": null,
   "metadata": {},
   "outputs": [],
   "source": [
    "#change projection of data to a new CRS\n",
    "chicagoZips <- st_transform(areas, 3435)"
   ]
  },
  {
   "cell_type": "code",
   "execution_count": null,
   "metadata": {},
   "outputs": [],
   "source": [
    "#calculate centroids for each zip code region\n",
    "chicagoCentroids <- st_centroid(chicagoZips)"
   ]
  },
  {
   "cell_type": "code",
   "execution_count": null,
   "metadata": {},
   "outputs": [],
   "source": [
    "#show the centroids\n",
    "plot(st_geometry(chicagoZips))\n",
    "plot(st_geometry(chicagoCentroids), add = TRUE, col = \"red\")"
   ]
  },
  {
   "cell_type": "code",
   "execution_count": null,
   "metadata": {},
   "outputs": [],
   "source": [
    "#apply the CRS of chicago Centroids to methadone to ensure they are both in same CRS\n",
    "newCRS <- st_crs(chicagoCentroids)\n",
    "methadoneSf <- st_transform(methadoneSf, newCRS)"
   ]
  },
  {
   "cell_type": "code",
   "execution_count": null,
   "metadata": {},
   "outputs": [],
   "source": [
    "#now plot both the methadone clinics and the zip centroids\n",
    "plot(st_geometry(chicagoZips))\n",
    "plot(st_geometry(chicagoCentroids), col = \"red\", add = TRUE)\n",
    "plot(st_geometry(methadoneSf), col = \"blue\", add = TRUE)"
   ]
  },
  {
   "cell_type": "code",
   "execution_count": null,
   "metadata": {},
   "outputs": [],
   "source": [
    "#identify the nearest clinic to each zip centroid\n",
    "nearestClinic_indexes <- st_nearest_feature(chicagoCentroids, methadoneSf)\n",
    "nearestClinic <- methadoneSf[nearestClinic_indexes,]"
   ]
  },
  {
   "cell_type": "code",
   "execution_count": null,
   "metadata": {},
   "outputs": [],
   "source": [
    "#calculate distance to nearest clinic\n",
    "minDist <- st_distance(chicagoCentroids, nearestClinic, by_element = TRUE)"
   ]
  },
  {
   "cell_type": "code",
   "execution_count": null,
   "metadata": {},
   "outputs": [],
   "source": [
    "#set units to miles\n",
    "minDist_mi <- set_units(minDist, \"mi\")"
   ]
  },
  {
   "cell_type": "code",
   "execution_count": null,
   "metadata": {},
   "outputs": [],
   "source": [
    "#join zip codes with the minimum distance data\n",
    "minDistSf <- cbind(chicagoZips, minDist_mi)"
   ]
  },
  {
   "cell_type": "code",
   "execution_count": null,
   "metadata": {},
   "outputs": [],
   "source": [
    "#visualize minimum distance to each centroid\n",
    "tmap_mode(\"plot\")\n",
    "tm_shape(minDistSf) +\n",
    "tm_polygons(\"minDist_mi\", style = 'quantile', n=5,\n",
    "          title = \"Minimum Distance (mi)\") +\n",
    "tm_shape(methadoneSf) +\n",
    "tm_dots(size = 0.2) +\n",
    "tm_layout(main.title = \"Minimum Distance from Zip Centroid\\n to Methadone Clinic\",\n",
    "        main.title.position =\"center\",\n",
    "        frame = FALSE,\n",
    "        main.title.size = 1)"
   ]
  },
  {
   "cell_type": "markdown",
   "metadata": {},
   "source": [
    "### Next steps\n",
    "- clinic coverage vs. OUD : where are high opportunity areas to set up new clinics?\n",
    "- more continuous view would be more accurately as zip code boundaries and centroids are arbitrary depending on use cases\n",
    "    - eg., heatmap\n",
    "    \n",
    "To do for future  mapping other data\n",
    "- city wards\n",
    "- census tracts\n",
    "- [population density estimates](!https://www.illinois-demographics.com/zip_codes_by_population)\n",
    "\n",
    "\n"
   ]
  }
 ],
 "metadata": {
  "kernelspec": {
   "display_name": "R",
   "language": "R",
   "name": "ir"
  },
  "language_info": {
   "codemirror_mode": "r",
   "file_extension": ".r",
   "mimetype": "text/x-r-source",
   "name": "R",
   "pygments_lexer": "r",
   "version": "4.1.0"
  }
 },
 "nbformat": 4,
 "nbformat_minor": 4
}
