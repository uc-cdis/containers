{
 "cells": [
  {
   "cell_type": "markdown",
   "id": "6ca724ac",
   "metadata": {},
   "source": [
    "# Opioid Related Deaths and Opioid Prevalence\n",
    "#### J Montgomery Maxwell\n",
    "#### 06/28/2021\n",
    "\n",
    "This notebook is a snapshot of publicly available data from HEAL and includes the DEA-ARCOS and CDC WONDER datasets. Data visualizations illustrate the national rise in opioid related overdoses and suicides, the rise in prevalence of opioid pills, and the current stage of the opioid epidemic in select states.\n",
    "The graphics presented here should not be considered as part of a rigorous study of the opioid epidemic or of public health policy. The purpose of this notebook is merely to demonstrate the advantages and capabilities of using the University of Chicago's Center for Translational Data Science's HEAL Data Commons.\n",
    "\n",
    "## Table of Contents\n",
    "1) Setup Notebook  \n",
    "2) Import Datasets  \n",
    "3) National Opioid Deaths and Opioid Prevalence  \n",
    "4) Data Cleaning  \n",
    "5) West Virginia's Opioid Overdoses And Suicides   \n",
    "6) Conclusions\n",
    "\n",
    "## 1) Setup Notebook"
   ]
  },
  {
   "cell_type": "code",
   "execution_count": null,
   "id": "944768e8",
   "metadata": {},
   "outputs": [],
   "source": [
    "import numpy as np\n",
    "import pandas as pd\n",
    "import requests\n",
    "import warnings\n",
    "warnings.simplefilter(action='ignore', category=FutureWarning)\n",
    "import matplotlib.pyplot as plt\n",
    "from matplotlib.ticker import FuncFormatter\n",
    "import matplotlib.patches as mpatches\n",
    "from pathlib import Path\n",
    "import os"
   ]
  },
  {
   "cell_type": "code",
   "execution_count": null,
   "id": "69ac4a12",
   "metadata": {},
   "outputs": [],
   "source": [
    "!gen3 drs-pull object dg.H34L/4b26774b-4629-4363-8443-e335d0de40c2\n",
    "!gen3 drs-pull object dg.H34L/173bf921-776f-4c86-8ea0-619afdba0f1e\n",
    "!gen3 drs-pull object dg.H34L/4f2764bd-8847-4037-ad1b-0c16d15f38d9\n",
    "!gen3 drs-pull object dg.H34L/8128a7c0-1791-4380-b7b1-a9af8a104304\n",
    "!gen3 drs-pull object dg.H34L/e091ebec-f111-4917-8317-204c6b969011\n",
    "!gen3 drs-pull object dg.H34L/b1aa1e7c-7869-475a-841c-e2a94ac79481\n",
    "!gen3 drs-pull object dg.H34L/f726fbdb-c7c1-423d-99d7-842da441b509"
   ]
  },
  {
   "cell_type": "markdown",
   "id": "b707ad52",
   "metadata": {},
   "source": [
    "### Common Code for Graphics"
   ]
  },
  {
   "cell_type": "code",
   "execution_count": null,
   "id": "4955d9e1",
   "metadata": {},
   "outputs": [],
   "source": [
    "def thousands(x, pos):\n",
    "    return \"%1.0fK\" % (x * 1e-3)\n",
    "\n",
    "def millions(x, pos):\n",
    "    return \"%1.0fM\" % round((x * 1e-6), 4)\n",
    "\n",
    "def percents(x, pos):\n",
    "    return f\"{round(x, 4)}%\""
   ]
  },
  {
   "cell_type": "markdown",
   "id": "24730dec",
   "metadata": {},
   "source": [
    "## 2) Import Datasets\n",
    "\n",
    "### Import DEA ARCOS"
   ]
  },
  {
   "cell_type": "code",
   "execution_count": null,
   "id": "106f1c14",
   "metadata": {},
   "outputs": [],
   "source": [
    "arcos_drug_list = pd.read_csv(\"./dea_arcos_drug_list.tsv\", sep=\"\\t\")\n",
    "arcos_df = pd.read_csv(\"./dea_arcos_county_population.tsv\", sep=\"\\t\")\n",
    "arcos_df1 = pd.read_csv(\"./dea_arcos_combined_county_annual.tsv\", sep=\"\\t\")\n",
    "arcos_state_pop = pd.read_csv(\"./dea_arcos_state_population.tsv\", sep=\"\\t\")\n",
    "\n",
    "arcos_drug_list = arcos_drug_list.drop(['Unnamed: 0'], axis = 1)\n",
    "\n",
    "arcos_df[\"KEY\"] = arcos_df[\"BUYER_COUNTY\"] + ', ' + arcos_df[\"BUYER_STATE\"] + \", \" + arcos_df[\"year\"].astype(str)\n",
    "arcos_df = arcos_df[[\"KEY\", \"BUYER_COUNTY\", \"BUYER_STATE\", \"year\", \"population\"]]\n",
    "\n",
    "arcos_df1[\"KEY\"] = arcos_df1[\"BUYER_COUNTY\"] + ', ' + arcos_df1[\"BUYER_STATE\"]+ \", \" + arcos_df1[\"year\"].astype(str)\n",
    "arcos_df1 = arcos_df1[[\"KEY\", \"BUYER_STATE\", \"count\", \"DOSAGE_UNIT\"]]\n",
    "arcos_df1 = arcos_df1[arcos_df1[\"KEY\"].notna()]\n",
    "\n",
    "counts = arcos_df1.set_index(\"KEY\")[\"count\"].to_dict()\n",
    "doses = arcos_df1.set_index(\"KEY\")[\"DOSAGE_UNIT\"].to_dict()\n",
    "\n",
    "arcos_df[\"count\"] = arcos_df[\"KEY\"].map(counts)\n",
    "arcos_df[\"dosages\"] = arcos_df[\"KEY\"].map(doses)\n",
    "arcos_df[\"pills per capita\"] = arcos_df[\"count\"] / arcos_df[\"population\"]\n",
    "\n",
    "display(arcos_drug_list)\n",
    "display(arcos_df.head(5))"
   ]
  },
  {
   "cell_type": "markdown",
   "id": "170449d2",
   "metadata": {},
   "source": [
    "Import the DEA ARCOS datasets for county and state populations from 2006 to 2014, and for the total pharmacy and practitioner pill counts by county and year. The county population and pill counts datasets are combined using a common key (county name, state name, year). An additional feature is added, 'pills per capita' which is the number of opioid pills per person in each county. Some counties have an abnormally large ratio of opioid pills per person; however these are from low county population sizes.\n",
    "\n",
    "DEA ARCOS: https://www.deadiversion.usdoj.gov/arcos/index.html"
   ]
  },
  {
   "cell_type": "markdown",
   "id": "e6fe6ebf",
   "metadata": {},
   "source": [
    "### Import CDC WONDER"
   ]
  },
  {
   "cell_type": "code",
   "execution_count": null,
   "id": "4af3981b",
   "metadata": {},
   "outputs": [],
   "source": [
    "annual_overdoses = pd.read_csv(\"./CDC_WONDER_unintentional_overdoses.tsv\", sep=\"\\t\")\n",
    "annual_suicides = pd.read_csv(\"./CDC_WONDER_suicide_overdoses.tsv\", sep=\"\\t\")\n",
    "monthly_overdoses = pd.read_csv(\"./monthly_unintentional_overdoses.tsv\", sep=\"\\t\")\n",
    "\n",
    "annual_overdoses = annual_overdoses.drop([\"Unnamed: 0\", \"Notes\", \"Year Code\", \"State Code\"], axis=1)\n",
    "annual_overdoses = annual_overdoses[annual_overdoses[\"Deaths\"].notna()]\n",
    "annual_overdoses[\"Year\"] = annual_overdoses[\"Year\"].map(lambda x: str(x)[:-2])\n",
    "annual_overdoses['% of Population'] = (annual_overdoses['Deaths']/annual_overdoses['Population'])*100\n",
    "\n",
    "annual_suicides = annual_suicides.drop(['Unnamed: 0', 'Notes', 'State Code', 'Year Code'], axis = 1)\n",
    "annual_suicides = annual_suicides[annual_suicides['Deaths'].notna()]\n",
    "annual_suicides[\"Year\"] = annual_suicides[\"Year\"].map(lambda x: str(x)[:-2])\n",
    "annual_suicides['% of Population'] = (annual_suicides['Deaths']/annual_suicides['Population'])*100\n",
    "\n",
    "monthly_overdoses = monthly_overdoses.drop(['Notes', 'State Code', 'Year Code', 'Population', 'Crude Rate'], axis = 1)\n",
    "monthly_overdoses = monthly_overdoses[monthly_overdoses['Deaths'].notna()]\n",
    "monthly_overdoses[\"Year\"] = monthly_overdoses[\"Year\"].map(lambda x: str(x)[:-2])\n",
    "\n",
    "display(annual_overdoses.head(5))\n",
    "display(annual_suicides.head(5))"
   ]
  },
  {
   "cell_type": "markdown",
   "id": "e3b44f2b",
   "metadata": {},
   "source": [
    "Import the CDC WONDER datasets for annual, recorded opioid related unintentional overdoses and suicides, and monthly unintentional opioid overdoses. HEAL hosts the entire CDC WONDER dataset as well as these filtered datasets. Below are links to the CDC WONDER codebook explaining the ICD (International Classifications of Diseases) codes used in filtering for opioid related deaths and to the CDC WONDER website.\n",
    "\n",
    "CDC WONDER: https://wonder.cdc.gov  \n",
    "ICD Opioid Codebook: https://mnprc.org/wp-content/uploads/2019/01/using-icd-10-codes-to-assess-opioid-related-overdose-deaths.pdf"
   ]
  },
  {
   "cell_type": "markdown",
   "id": "255282b8",
   "metadata": {},
   "source": [
    "## 3) National Opioid Deaths And Opioid Prevalence"
   ]
  },
  {
   "cell_type": "markdown",
   "id": "c6da871f",
   "metadata": {},
   "source": [
    "### National Unintentional Opioid Overdoses And Suicides"
   ]
  },
  {
   "cell_type": "code",
   "execution_count": null,
   "id": "1623440a",
   "metadata": {},
   "outputs": [],
   "source": [
    "national_overdoses = annual_overdoses.groupby(\"Year\")[\"Deaths\"].sum() + annual_suicides.groupby(\"Year\")[\"Deaths\"].sum()\n",
    "fig, ax = plt.subplots(figsize=(8, 5), dpi=100)\n",
    "ax.vlines(\n",
    "    x=national_overdoses.index,\n",
    "    ymin=0,\n",
    "    ymax=national_overdoses,\n",
    "    color=\"grey\",        \n",
    "    alpha=1.0,\n",
    "    linewidth=4,\n",
    ")\n",
    "\n",
    "ax.set_title(f\"Annual National Opioid Overdoses And Suicides\", size=14)\n",
    "plt.grid(axis=\"y\", alpha=0.3)\n",
    "ax.set_xlabel(\"Year\", size=12)\n",
    "ax.set_ylabel(\"Deaths\", size=11)\n",
    "formatter = FuncFormatter(thousands)\n",
    "ax.yaxis.set_major_formatter(formatter)\n",
    "fig.autofmt_xdate(rotation=45)"
   ]
  },
  {
   "cell_type": "markdown",
   "id": "c3668ce6",
   "metadata": {},
   "source": [
    "We see above that since 2000 the annual number of unintentional opioid overdoses and suicides has increased by more than a factor five and that since 2010 the annual number of deaths has more than doubled.\n",
    "\n",
    "### National Opioid Prevalence"
   ]
  },
  {
   "cell_type": "code",
   "execution_count": null,
   "id": "72c8542b",
   "metadata": {},
   "outputs": [],
   "source": [
    "opioids_yearly = arcos_df.groupby('year')['count'].sum()\n",
    "\n",
    "fig, ax = plt.subplots(figsize=(8, 5), dpi=100)\n",
    "ax.plot(opioids_yearly, color = 'grey')\n",
    "ax.set_title(f\"Annual National Pharmacy and Practitioner Pill Count\", size=14)\n",
    "plt.grid(axis=\"y\", alpha=0.3)\n",
    "ax.set_xlabel(\"Year\", size=12)\n",
    "ax.set_ylabel(\"Pill Count\", size=11)\n",
    "formatter = FuncFormatter(millions)\n",
    "ax.yaxis.set_major_formatter(formatter)\n",
    "fig.autofmt_xdate(rotation=45)"
   ]
  },
  {
   "cell_type": "markdown",
   "id": "85d47413",
   "metadata": {},
   "source": [
    "We see above that the number of opioid pills in the United States has increased steadily from 2006 until 2013 when a significant decline occurred in the annual opioid pill count. It should be noted that the count only records pharmacy and practitioner's pill counts and does not include any illicit opioids. The types of opioids included in the count are listed in the arcos_drug_list dataframe shown previously.\n",
    "\n",
    "### States With The Highest Annual Overdose Rate"
   ]
  },
  {
   "cell_type": "code",
   "execution_count": null,
   "id": "ef9764fe",
   "metadata": {},
   "outputs": [],
   "source": [
    "top_states = (\n",
    "    annual_overdoses.groupby(\"Year\")[[\"State\", \"% of Population\"]]\n",
    "    .apply(lambda grp: grp.nlargest(1, \"% of Population\"))\n",
    "    .reset_index()\n",
    ")\n",
    "top_states['State_and_Year'] = top_states['State'] + ', ' + top_states['Year']\n",
    "top_states = top_states.drop(['Year', 'level_1', 'State'], axis = 1)\n",
    "\n",
    "fig, ax = plt.subplots(figsize=(8, 5), dpi=100)\n",
    "ax.vlines(\n",
    "    x=top_states['State_and_Year'],\n",
    "    ymin=0,\n",
    "    ymax=top_states['% of Population'],\n",
    "    color=\"grey\",        \n",
    "    alpha=1.0,\n",
    "    linewidth=2.5,\n",
    ")\n",
    "\n",
    "ax.set_title(f\"Unintentional Opioid Overdoses\", size=14)\n",
    "plt.grid(axis=\"y\", alpha=0.3)\n",
    "ax.set_xlabel(\"State and Year\", size=12)\n",
    "ax.set_ylabel(\"Overdoses As Percent \\n Of Population\", size=11)\n",
    "formatter = FuncFormatter(percents)\n",
    "ax.yaxis.set_major_formatter(formatter)\n",
    "fig.autofmt_xdate(rotation=45)"
   ]
  },
  {
   "cell_type": "markdown",
   "id": "ce4d88ac",
   "metadata": {},
   "source": [
    "In the last twenty years West Virginia has consistently had the highest percentage of unintentional opioid overdose deaths. West Virginia is the leading state in thirteen of the last twenty years including during the time period where there was a significant increase in annual opioid related overdoses and suicides (see figure 1).\n",
    "\n",
    "Going forward we will take a closer look at West Virginia's statewide opioid overdose and suicide mortality rate and respective changes in anti-epidemic policy.\n",
    "\n",
    "## 4) Data Cleaning"
   ]
  },
  {
   "cell_type": "code",
   "execution_count": null,
   "id": "ae861bc0",
   "metadata": {},
   "outputs": [],
   "source": [
    "overdoses_wv = annual_overdoses[annual_overdoses[\"State\"] == \"West Virginia\"].reset_index(drop=True)\n",
    "overdoses_wv = overdoses_wv.reset_index()\n",
    "\n",
    "suicides_wv = annual_suicides[annual_suicides[\"State\"] == \"West Virginia\"].reset_index(drop=True)\n",
    "suicides_wv = suicides_wv.reset_index()\n",
    "\n",
    "monthly_overdoses_wv = monthly_overdoses[monthly_overdoses[\"State\"] == \"West Virginia\"].reset_index(drop=True)\n",
    "monthly_overdoses_wv = monthly_overdoses_wv.reset_index()\n",
    "\n",
    "years  = ['2006', '2007', '2008', '2009', '2010', '2011', '2012',\n",
    "          '2013', '2014', '2015', '2016', '2017', '2018', '2019']\n",
    "ticks = []\n",
    "for year in years:\n",
    "    index = monthly_overdoses_wv.index[monthly_overdoses_wv['Year'] == year][0]\n",
    "    ticks.append(index)"
   ]
  },
  {
   "cell_type": "markdown",
   "id": "411a0b1c",
   "metadata": {},
   "source": [
    "## 5) West Virginia's Opioid Overdoses and Suicides"
   ]
  },
  {
   "cell_type": "code",
   "execution_count": null,
   "id": "4664d4ec",
   "metadata": {},
   "outputs": [],
   "source": [
    "fig, ax = plt.subplots(figsize=(10, 6), dpi=100)\n",
    "\n",
    "lns1 = ax.bar(overdoses_wv['Year'], overdoses_wv['Deaths'], label='Overdoses', width=0.5, color='grey')\n",
    "lns2 = ax.bar(suicides_wv['Year'], suicides_wv['Deaths'], label='Overdoses', width=0.5, color='red')\n",
    "\n",
    "ax.set_title(f\" West Virginia's Annual Opioid Overdoses and Suicides\", size=14)\n",
    "ax.set_xlabel(\"Year\", size=12)\n",
    "ax.set_ylabel(\"Deaths\", size=11)\n",
    "red_patch = mpatches.Patch(color='red', label='Suicides')\n",
    "grey_patch = mpatches.Patch(color='grey', label='Overdoses')\n",
    "plt.legend(handles=[grey_patch, red_patch]) \n",
    "\n",
    "fig.autofmt_xdate(rotation=45)\n",
    "plt.show()"
   ]
  },
  {
   "cell_type": "code",
   "execution_count": null,
   "id": "7dfd03d4",
   "metadata": {},
   "outputs": [],
   "source": [
    "fig, ax = plt.subplots(figsize=(10, 6), dpi=100)\n",
    "plt.xticks(ticks)\n",
    "start = monthly_overdoses_wv.index[monthly_overdoses_wv['Year'] == '2006'][0]\n",
    "end = monthly_overdoses_wv.index[monthly_overdoses_wv['Year'] == '2019'][1]\n",
    "monthly_overdoses_wv['RollingYrAvg'] = monthly_overdoses_wv['Deaths'].rolling(6).mean() \n",
    "\n",
    "lns1 = ax.vlines(\n",
    "    x=monthly_overdoses_wv.iloc[start:end].index,\n",
    "    ymin=0,\n",
    "    ymax=monthly_overdoses_wv['Deaths'].iloc[start:end],\n",
    "    color=\"grey\",\n",
    "    alpha=1.0,\n",
    "    linewidth=1.0,\n",
    "    label = 'Deaths'\n",
    ")\n",
    "lns2 = ax.plot(monthly_overdoses_wv['RollingYrAvg'].iloc[start:end], color = 'green', label = 'Deaths Rolling Avg.')\n",
    "\n",
    "ax.set_title(f\"West Virginia's Monthly Unintentional Overdose Deaths\", size=14)\n",
    "ax.set_xlabel(\"Year\", size=12)\n",
    "ax.set_xticklabels(years)\n",
    "ax.set_ylabel(\"Unintentional Overdose Deaths\", size=11)\n",
    "ax.legend(loc=2)\n",
    "fig.autofmt_xdate(rotation=45)\n",
    "plt.show()"
   ]
  },
  {
   "cell_type": "markdown",
   "id": "fbe9b0c1",
   "metadata": {},
   "source": [
    "Since 2000 the annual number of reported unintentional opioid overdoses has grown from 24 in 2000 to over 600 in 2019 and since 2010 the annual number of unintentional overdoses has nearly doubled. The number of opioid related suicides has remained relatively steady since 2000. \n",
    "\n",
    "The second image looks at West Virginia's monthly unintentional overdoses with a 6 month rolling average. Here we can see there is not a large level of variation to the number of deaths on a monthly basis but the 6 month rolling average has a clear upward trend.\n",
    "\n",
    "*The bar graphs for overdoses and suicides are superimposed, not stacked.    \n",
    "*Some data is missing at a monthly level, particularly prior to 2010.\n",
    "\n",
    "## 6) Conclusions\n",
    "\n",
    "In this notebook we first looked at (figure 1) the annual national opioid suicides and unintentional overdoses and in (figure 2) the annual national pharmacy and practitioner opioid pill counts. Next, we found (figure 3) the states each year who have the highest rate of unintentional opioid overdose deaths as a percentage of each state's respective population. Finally, we examined opioid related suicides and unintentional overdoses at the state level in West Virgina (figure 4 and 5)."
   ]
  },
  {
   "cell_type": "code",
   "execution_count": null,
   "id": "5408a7b1",
   "metadata": {},
   "outputs": [],
   "source": []
  }
 ],
 "metadata": {
  "kernelspec": {
   "display_name": "Python 3 (ipykernel)",
   "language": "python",
   "name": "python3"
  },
  "language_info": {
   "codemirror_mode": {
    "name": "ipython",
    "version": 3
   },
   "file_extension": ".py",
   "mimetype": "text/x-python",
   "name": "python",
   "nbconvert_exporter": "python",
   "pygments_lexer": "ipython3",
   "version": "3.9.20"
  }
 },
 "nbformat": 4,
 "nbformat_minor": 5
}
